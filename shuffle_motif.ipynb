{
 "cells": [
  {
   "cell_type": "code",
   "execution_count": 1,
   "metadata": {
    "collapsed": false
   },
   "outputs": [],
   "source": [
    "import os,sys\n",
    "from sklearn.utils import shuffle\n",
    "f = open(\"wang_etal_motifs.meme\")\n",
    "f.readline()\n",
    "\n",
    "motifs = []\n",
    "for r in f:\n",
    "    if r.startswith(\"MOTIF\"):\n",
    "        motifs.append((r.strip(), int(r.split()[4])))\n",
    "\n",
    "f.seek(0)\n",
    "probs = []\n",
    "is_prop = False\n",
    "added_width = 0\n",
    "curr_width = -1\n",
    "for r in f:\n",
    "    if r.startswith(\"MOTIF\"):\n",
    "        curr_width = int(r.strip().split()[4])\n",
    "    elif r.startswith(\"letter-probability\"):\n",
    "        is_prop = True\n",
    "        continue\n",
    "    if is_prop and added_width < curr_width and r.strip() != \"\" and len(r.strip().split()) == 4:\n",
    "        probs.append(\" \".join(shuffle(r.strip().split(), random_state=42)))\n",
    "        added_width += 1\n",
    "    if added_width == curr_width and is_prop:\n",
    "        is_prop = False\n",
    "        added_width = 0\n",
    "        curr_width = -1\n",
    "\n",
    "letter_prob_lines = []\n",
    "f.seek(0)\n",
    "for r in f:\n",
    "    if r.startswith(\"letter-proba\"):\n",
    "        letter_prob_lines.append(r.strip())\n",
    "\n",
    "meta_lines = []\n",
    "f.seek(0)\n",
    "for r in f:\n",
    "    if not r.startswith(\"MOTIF\"):\n",
    "        meta_lines.append(r.strip())\n",
    "    else:\n",
    "        break\n",
    "\n",
    "\n",
    "probs_shuffled = shuffle(probs, random_state = 42)\n"
   ]
  },
  {
   "cell_type": "code",
   "execution_count": 2,
   "metadata": {
    "collapsed": false
   },
   "outputs": [
    {
     "data": {
      "text/plain": [
       "array([ 307.049179,  248.156765,  264.806244,  317.987824])"
      ]
     },
     "execution_count": 2,
     "metadata": {},
     "output_type": "execute_result"
    }
   ],
   "source": [
    "import numpy as np\n",
    "probs_array = []\n",
    "for p in probs_shuffled:\n",
    "    probs_array.append([float(i) for i in p.strip().split()])\n",
    "probs_array = np.array(probs_array)\n",
    "probs_array.sum(axis=0)\n"
   ]
  },
  {
   "cell_type": "code",
   "execution_count": 3,
   "metadata": {
    "collapsed": false
   },
   "outputs": [],
   "source": [
    "\n",
    "out = open(\"wang_motifs_all_shuffled.meme\", \"w\")\n",
    "for l in meta_lines:\n",
    "    out.write(l.strip() + \"\\n\")\n",
    "\n",
    "last_i = 0\n",
    "for m, l in zip(motifs, letter_prob_lines):\n",
    "    out.write(m[0] + \"\\n\\n\")\n",
    "    out.write(l + \"\\n\")\n",
    "    out.write(\"\\n\".join([\" \".join(map(lambda x: \"%.6f\"%(x), x)) for x in probs_array[last_i:(last_i + m[1])]]))\n",
    "    out.write(\"\\n\\n\\n\")\n",
    "    last_i += m[1]\n",
    "out.close()"
   ]
  },
  {
   "cell_type": "code",
   "execution_count": null,
   "metadata": {
    "collapsed": false
   },
   "outputs": [],
   "source": []
  }
 ],
 "metadata": {
  "anaconda-cloud": {},
  "kernelspec": {
   "display_name": "Python [Root]",
   "language": "python",
   "name": "Python [Root]"
  },
  "language_info": {
   "codemirror_mode": {
    "name": "ipython",
    "version": 3
   },
   "file_extension": ".py",
   "mimetype": "text/x-python",
   "name": "python",
   "nbconvert_exporter": "python",
   "pygments_lexer": "ipython3",
   "version": "3.5.2"
  }
 },
 "nbformat": 4,
 "nbformat_minor": 0
}
