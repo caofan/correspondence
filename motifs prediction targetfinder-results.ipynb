{
 "cells": [
  {
   "cell_type": "code",
   "execution_count": 1,
   "metadata": {
    "collapsed": false
   },
   "outputs": [
    {
     "name": "stdout",
     "output_type": "stream",
     "text": [
      "Populating the interactive namespace from numpy and matplotlib\n"
     ]
    }
   ],
   "source": [
    "%pylab inline"
   ]
  },
  {
   "cell_type": "code",
   "execution_count": 2,
   "metadata": {
    "collapsed": false
   },
   "outputs": [
    {
     "name": "stderr",
     "output_type": "stream",
     "text": [
      "/home/caofan/anaconda3/lib/python3.5/site-packages/sklearn/cross_validation.py:44: DeprecationWarning: This module was deprecated in version 0.18 in favor of the model_selection module into which all the refactored classes and functions are moved. Also note that the interface of the new CV iterators are different from that of this module. This module will be removed in 0.20.\n",
      "  \"This module will be removed in 0.20.\", DeprecationWarning)\n"
     ]
    }
   ],
   "source": [
    "import pandas as pd\n",
    "import numpy as np\n",
    "import os\n",
    "from sklearn.ensemble import GradientBoostingClassifier, AdaBoostClassifier\n",
    "from sklearn.cross_validation import StratifiedKFold, cross_val_score, train_test_split\n",
    "from sklearn.ensemble import RandomForestClassifier\n",
    "from sklearn.metrics import f1_score\n",
    "from sklearn.metrics import precision_score\n",
    "from sklearn.metrics import recall_score\n",
    "from sklearn.metrics import roc_auc_score, accuracy_score, average_precision_score\n",
    "from sklearn.svm import SVC\n",
    "from sklearn.externals.joblib import Parallel, delayed\n",
    "from sklearn.base import clone\n",
    "motifs = ['AP2', 'SOX2-OCT4', 'CREB', 'UA8', 'BARHL2', 'MEF2', 'TAL1', 'TCF7L2', 'UA12', 'E2F1', \n",
    "          'HSF1', 'v-JUN', 'UA11', 'SREBF1', 'GATA1', 'UA10', 'E2F4', 'UA2', 'SP1', 'SRF', 'UA3', \n",
    "          'BHLHE40', 'ESR1', 'REST', 'UA6', 'GATA3', 'UA1', 'ETS1', 'POU2F2', 'USF', 'UA5', \n",
    "          'CTCF-ext', 'ZEB1', 'v-Maf', 'EBF1', 'ZNF143-ext', 'RXRA', 'PAX5', 'FOXA', 'TCF12', \n",
    "          'B-Box', 'ZNF143', 'CEBPB', 'RFX5', 'TEAD1', 'NFE2', 'NR2C2', 'UA4', 'CTCF', 'ZNF281', \n",
    "          'TBP', 'GFI1', 'ELK4', 'STAT1', 'MAX', 'CREB-ext', 'NR3C1', 'SOX2', 'AP1', 'UA9', 'RUNX1', \n",
    "          'STAT2', 'ZNF263', 'NFY', 'EGR1', 'ESRRA', 'ELF1', 'PU1', 'MYC', 'YY1', 'A-Box', 'UA7', \n",
    "          'GABP', 'NRF1', 'NFY-UA2', 'NFKB1', 'GATA1-ext', 'HNF4', 'PRDM1']"
   ]
  },
  {
   "cell_type": "code",
   "execution_count": 3,
   "metadata": {
    "collapsed": true
   },
   "outputs": [],
   "source": [
    "def getMotifClustersByCorrelation(X, num_motifs=79, thresh=0.2):\n",
    "    link = linkage(X.T, 'single', 'correlation')\n",
    "    cindexes = list(range(num_motifs))\n",
    "    for l in link:\n",
    "        c1 = int(l[0])\n",
    "        c2 = int(l[1])\n",
    "        distance = l[2]\n",
    "        if distance < 0.2:\n",
    "            cindexes.append([c1, c2])\n",
    "\n",
    "    all_clusters = [[i,] for i in range(79)]\n",
    "    for l in link:\n",
    "        c1 = int(l[0])\n",
    "        c2 = int(l[1])\n",
    "        all_clusters.append(all_clusters[c1] + all_clusters[c2])\n",
    "\n",
    "    cindexes = list(range(num_motifs))\n",
    "    for i,l in enumerate(link):\n",
    "        c1 = int(l[0])\n",
    "        c2 = int(l[1])\n",
    "        if l[2] < 0.2:\n",
    "            cindexes.append(num_motifs+i)\n",
    "            cindexes.remove(c1)\n",
    "            cindexes.remove(c2)\n",
    "\n",
    "    grouped_clusters = [all_clusters[i] for i in cindexes]\n",
    "    motifs_to_use = []\n",
    "    for g in grouped_clusters:\n",
    "        motifs_to_use.append(X_train.columns[g[0]])\n",
    "    return motifs_to_use, grouped_clusters"
   ]
  },
  {
   "cell_type": "code",
   "execution_count": 4,
   "metadata": {
    "collapsed": false
   },
   "outputs": [],
   "source": [
    "\n",
    "\n",
    "def load_data(region_file, motif_dir_prefix, post_fix=''):\n",
    "\n",
    "    columns = [\"window_chrom\", \"window_start\", \"window_end\", \"window_name\", \"label\", \"active_promoters_in_window\", \"enhancer_distance_to_promoter\"]\n",
    "\n",
    "    windows = pd.read_csv(region_file, names=columns, sep=\"\\t\", header=None, index_col=False)\n",
    "    ftype='window'\n",
    "    for i,name in enumerate(motifs):\n",
    "        key = name\n",
    "        b = pd.read_csv(motif_dir_prefix + name + post_fix + \".bed\", sep=\"\\t\", header=None, names=[ftype + '_chrom', ftype + '_start', ftype + '_end', key])\n",
    "\n",
    "        b[key] = b[key] * 1.0 / (b[ftype + \"_end\"] - b[ftype+\"_start\"])\n",
    "\n",
    "        windows = pd.merge(windows, b, on=[ftype + '_chrom', ftype + '_start', ftype + '_end'], how=\"left\", indicator=False)\n",
    "\n",
    "    windows = windows.set_index('window_name')\n",
    "    columns.remove('window_name')\n",
    "    predictors_df = windows.drop(columns, axis=1)\n",
    "    labels = windows['label']\n",
    "    predictors_df = predictors_df.fillna(0)\n",
    "    return windows, predictors_df, labels\n",
    "\n"
   ]
  },
  {
   "cell_type": "code",
   "execution_count": 5,
   "metadata": {
    "collapsed": true
   },
   "outputs": [],
   "source": [
    "def evaludate_data(X, y, n_estimators=4000, classifier_class=GradientBoostingClassifier):\n",
    "    scoring = ['f1', 'roc_auc', 'precision', 'recall']\n",
    "    estimator = classifier_class(n_estimators = n_estimators, learning_rate = 0.1, max_depth = 5, max_features = 'log2', random_state = 12)\n",
    "    estimator = make_pipeline(StandardScaler(), estimator)\n",
    "    X_train, X_test, y_train, y_test = train_test_split(X, y, test_size=0.2, random_state=12)\n",
    "    cv = StratifiedKFold(y = y_train, n_folds = 8, shuffle = True, random_state = 12)\n",
    "    scores = {}\n",
    "    for s in scoring:\n",
    "        scores[s] = cross_val_score(estimator, X_train, y_train, cv=cv, scoring=s, n_jobs=-1)\n",
    "    estimator = estimator.fit(X_train, y_train)\n",
    "    return (scores, (X_train, X_test, y_train, y_test), estimator, cv)"
   ]
  },
  {
   "cell_type": "code",
   "execution_count": 6,
   "metadata": {
    "collapsed": false
   },
   "outputs": [],
   "source": [
    "estimators_sizes = [100,200,500,1000,2000,5000,7000,10000]\n",
    "estimators_sizes_large = [20000, 40000, 80000]\n",
    "\n",
    "def _worker(estimator, X_train, y_train, X_test, y_test):\n",
    "    estimator.fit(X_train, y_train)\n",
    "\n",
    "    return (estimator, (X_train, y_train, X_test, y_test))\n",
    "\n",
    "def test_overfitting(X, y, classifier_class, n_trees ):\n",
    "    #training_errors = {}\n",
    "    #testing_errors = {}\n",
    "    cv = StratifiedKFold( y, n_folds=10, shuffle=True, random_state=42)\n",
    "    with Parallel(n_jobs=10) as parallel:\n",
    "        estimator = GradientBoostingClassifier(n_estimators = n_trees, learning_rate = 0.1, max_depth = 5, max_features = 'log2', random_state = n_trees)\n",
    "        results = parallel(delayed(_worker)(clone(estimator),X.ix[train,:],y.ix[train],X.ix[test,:],y.ix[test]) for train, test in cv)\n",
    "        #print(n_trees, \"finished\")\n",
    "    return results\n",
    "\n",
    "\n",
    "def _worker_chrom(estimator, X, y, windows, val_chroms):\n",
    "    X_test = X.ix[[i for i in X.index if windows.ix[i,'window_chrom'] in val_chroms], :]\n",
    "    y_test = y[X_test.index]\n",
    "    X_train = X.drop(X_test.index)\n",
    "    y_train = y[X_train.index]\n",
    "    estimator.fit(X_train, y_train)\n",
    "    return (estimator, (X_train, y_train, X_test, y_test))\n",
    "\n",
    "def test_overfitting_chrom(X, y, windows, n_trees):\n",
    "    chroms = list(set(windows.ix[:, 0]))\n",
    "    idxes = set([tuple(sorted(np.random.choice(np.arange(len(chroms)), 2, replace=False))) for _ in range(40)])\n",
    "    idxes = list(idxes)[:20]\n",
    "    with Parallel(n_jobs=10) as parallel:\n",
    "        estimator = GradientBoostingClassifier(n_estimators = n_trees, learning_rate = 0.1, max_depth = 5, max_features = 'log2', random_state = n_trees)\n",
    "        results = parallel(delayed(_worker_chrom)(clone(estimator),\n",
    "                                                  X, y, windows, [chroms[i1], chroms[i2]]) for i1, i2 in idxes)\n",
    "        #print(n_trees, \"finished\")\n",
    "    return results"
   ]
  },
  {
   "cell_type": "code",
   "execution_count": 7,
   "metadata": {
    "collapsed": false
   },
   "outputs": [],
   "source": []
  },
  {
   "cell_type": "code",
   "execution_count": 8,
   "metadata": {
    "collapsed": false
   },
   "outputs": [],
   "source": [
    "def getLosses(data):\n",
    "    train_loss = []\n",
    "    test_loss = []\n",
    "    for estimator, d in data:\n",
    "        train_loss.append([])\n",
    "        test_loss.append([])\n",
    "        for pred in estimator.staged_decision_function(d[0]):\n",
    "            train_loss[-1].append(estimator.loss_(d[1],pred))\n",
    "        for pred in estimator.staged_decision_function(d[2]):\n",
    "            test_loss[-1].append(estimator.loss_(d[3], pred))\n",
    "    return np.array(train_loss).mean(axis=0), np.array(test_loss).mean(axis=0)\n",
    "\n",
    "def plotAccuracies(training_scores, testing_scores, indexes):\n",
    "    training_scores_avg = []\n",
    "    testing_scores_avg = []\n",
    "    for n in indexes:\n",
    "        training_scores_avg.append(np.array(training_scores[n]).mean(axis=0))\n",
    "        testing_scores_avg.append(np.array(testing_scores[n]).mean(axis=0))\n",
    "    \n",
    "    for l in zip(range(3),[\"training {}\".format(i) for i in ['accuracy', 'precision','recall']]) :\n",
    "        pylab.plot(indexes, np.array(training_scores_avg)[:,l[0]], label=l[1])\n",
    "    for l in zip(range(3),[\"test {}\".format(i) for i in ['accuracy', 'precision','recall']]) :\n",
    "        pylab.plot(indexes, np.array(testing_scores_avg)[:,l[0]], label=l[1])\n",
    "    pylab.legend(loc=\"lower right\")"
   ]
  },
  {
   "cell_type": "code",
   "execution_count": 9,
   "metadata": {
    "collapsed": true
   },
   "outputs": [],
   "source": [
    "def get_scores(estimators):\n",
    "    scores = []\n",
    "    for estimator, (_ , _, test_data, test_label) in estimators:\n",
    "        test_prob = estimator.predict_proba(test_data)\n",
    "        test_pred = estimator.predict(test_data)\n",
    "        scores.append([accuracy_score(test_label, test_pred),\n",
    "                       f1_score(test_label, test_pred), \n",
    "                       precision_score(test_label, test_pred), \n",
    "                       recall_score(test_label, test_pred),\n",
    "                       average_precision_score(test_label, test_prob[:, 1]),\n",
    "                       roc_auc_score(test_label, test_prob[:, 1])])\n",
    "    scores = pd.DataFrame(scores, columns=['accuracy', 'f1', 'precision', 'recall', 'auprc', 'auroc'])\n",
    "    return scores"
   ]
  },
  {
   "cell_type": "code",
   "execution_count": 10,
   "metadata": {
    "collapsed": false
   },
   "outputs": [
    {
     "data": {
      "image/png": "[encoded data removed]",
      "text/plain": [
       "<matplotlib.figure.Figure at 0x7ff73488f710>"
      ]
     },
     "metadata": {},
     "output_type": "display_data"
    }
   ],
   "source": [
    "results = {}\n",
    "for cell in ['HeLa-S3', 'NHEK', 'K562', 'GM12878', 'HUVEC', 'IMR90']:\n",
    "    \n",
    "    curr_data, curr_X, curr_y = load_data(\"targetfinder-master/%s/output-epw/windows.bed\" % cell, \n",
    "                                            \"targetfinder-master/%s/output-epw/motifs/%s.window.\" % (cell, cell))\n",
    "    estimators_tf = test_overfitting(curr_X, curr_y, \"gradient\", 1000)\n",
    "    train_loss_tf, test_loss_tf = getLosses(estimators_tf)\n",
    "    pylab.plot(train_loss_tf)\n",
    "    pylab.plot(test_loss_tf)\n",
    "    curr_scores = get_scores(estimators_tf)\n",
    "    results[cell] = (estimators_tf, train_loss_tf, test_loss_tf, curr_scores)"
   ]
  },
  {
   "cell_type": "code",
   "execution_count": 11,
   "metadata": {
    "collapsed": false,
    "scrolled": true
   },
   "outputs": [
    {
     "name": "stdout",
     "output_type": "stream",
     "text": [
      "GM12878\n",
      "   accuracy        f1  precision    recall     auprc     auroc\n",
      "0  0.981724  0.771831   0.958042  0.646226  0.845482  0.939852\n",
      "1  0.983980  0.804408   0.966887  0.688679  0.859169  0.949194\n",
      "2  0.979468  0.746518   0.911565  0.632075  0.798075  0.916708\n",
      "3  0.979689  0.741379   0.941606  0.611374  0.827505  0.935576\n",
      "4  0.980140  0.751412   0.930070  0.630332  0.815822  0.945749\n",
      "5  0.982397  0.782123   0.952381  0.663507  0.825995  0.930410\n",
      "6  0.981494  0.765714   0.964029  0.635071  0.838932  0.948930\n",
      "7  0.983525  0.798898   0.953947  0.687204  0.845897  0.934424\n",
      "8  0.984654  0.817204   0.944099  0.720379  0.845358  0.940274\n",
      "9  0.984202  0.809783   0.949045  0.706161  0.854127  0.941758\n",
      "\n",
      "HeLa-S3\n",
      "   accuracy        f1  precision    recall     auprc     auroc\n",
      "0  0.989053  0.872611   0.978571  0.787356  0.919226  0.966473\n",
      "1  0.987411  0.850649   0.977612  0.752874  0.914778  0.968561\n",
      "2  0.990148  0.886076   0.985915  0.804598  0.947976  0.980265\n",
      "3  0.988506  0.864516   0.985294  0.770115  0.911261  0.977710\n",
      "4  0.988232  0.859016   1.000000  0.752874  0.914393  0.965780\n",
      "5  0.987958  0.859873   0.964286  0.775862  0.930120  0.976767\n",
      "6  0.990148  0.887500   0.972603  0.816092  0.912832  0.968008\n",
      "7  0.988779  0.869841   0.971631  0.787356  0.930456  0.977774\n",
      "8  0.989874  0.883281   0.979021  0.804598  0.915404  0.969940\n",
      "9  0.991790  0.908537   0.967532  0.856322  0.927040  0.980470\n",
      "\n",
      "HUVEC\n",
      "   accuracy        f1  precision    recall     auprc     auroc\n",
      "0  0.981209  0.769231   0.934579  0.653595  0.849180  0.952429\n",
      "1  0.983401  0.795367   0.971698  0.673203  0.839008  0.933520\n",
      "2  0.982775  0.784314   0.980392  0.653595  0.873210  0.966030\n",
      "3  0.977451  0.704918   0.945055  0.562092  0.827685  0.934746\n",
      "4  0.981516  0.768627   0.951456  0.644737  0.849187  0.946557\n",
      "5  0.984962  0.816794   0.972727  0.703947  0.888952  0.960671\n",
      "6  0.984336  0.807692   0.972222  0.690789  0.858818  0.950074\n",
      "7  0.980890  0.764479   0.925234  0.651316  0.853934  0.960321\n",
      "8  0.985276  0.825279   0.948718  0.730263  0.879750  0.961981\n",
      "9  0.981516  0.766798   0.960396  0.638158  0.851765  0.947920\n",
      "\n",
      "IMR90\n",
      "   accuracy        f1  precision    recall     auprc     auroc\n",
      "0  0.983625  0.803653   0.946237  0.698413  0.858956  0.943308\n",
      "1  0.979817  0.757991   0.892473  0.658730  0.837115  0.959521\n",
      "2  0.981721  0.771429   0.964286  0.642857  0.839615  0.935413\n",
      "3  0.984387  0.807512   0.988506  0.682540  0.868257  0.942908\n",
      "4  0.990095  0.887931   0.962617  0.824000  0.918740  0.965798\n",
      "5  0.984762  0.818182   0.947368  0.720000  0.888729  0.957082\n",
      "6  0.986667  0.845815   0.941176  0.768000  0.889707  0.967533\n",
      "7  0.982476  0.785047   0.943820  0.672000  0.791381  0.917258\n",
      "8  0.983238  0.788462   0.987952  0.656000  0.835319  0.919178\n",
      "9  0.981333  0.763285   0.963415  0.632000  0.845626  0.927904\n",
      "\n",
      "NHEK\n",
      "   accuracy        f1  precision    recall     auprc     auroc\n",
      "0  0.989591  0.882353   0.972222  0.807692  0.952111  0.984790\n",
      "1  0.993306  0.926829   0.974359  0.883721  0.940642  0.969725\n",
      "2  0.992190  0.912134   0.990909  0.844961  0.942779  0.974785\n",
      "3  0.990703  0.896266   0.964286  0.837209  0.946128  0.969574\n",
      "4  0.991819  0.908333   0.981982  0.844961  0.955806  0.982952\n",
      "5  0.989215  0.877637   0.962963  0.806202  0.913205  0.969801\n",
      "6  0.990331  0.891667   0.963964  0.829457  0.944895  0.985589\n",
      "7  0.990703  0.894515   0.981481  0.821705  0.910351  0.956262\n",
      "8  0.992190  0.912863   0.982143  0.852713  0.927913  0.967551\n",
      "9  0.988100  0.860870   0.980198  0.767442  0.920691  0.961779\n",
      "\n",
      "K562\n",
      "   accuracy        f1  precision    recall     auprc     auroc\n",
      "0  0.983365  0.792793   0.977778  0.666667  0.884971  0.949705\n",
      "1  0.983848  0.804665   0.951724  0.696970  0.860604  0.948875\n",
      "2  0.984330  0.809384   0.965035  0.696970  0.885715  0.955499\n",
      "3  0.986017  0.831395   0.979452  0.722222  0.924727  0.975515\n",
      "4  0.986741  0.844193   0.961290  0.752525  0.889597  0.944661\n",
      "5  0.985535  0.826590   0.966216  0.722222  0.857847  0.935284\n",
      "6  0.984571  0.810651   0.978571  0.691919  0.847625  0.934100\n",
      "7  0.986255  0.836676   0.960526  0.741117  0.895158  0.949943\n",
      "8  0.980709  0.759036   0.933333  0.639594  0.849864  0.948830\n",
      "9  0.982156  0.779762   0.942446  0.664975  0.880350  0.947439\n",
      "\n"
     ]
    }
   ],
   "source": [
    "for c in results:\n",
    "    print(c)\n",
    "    print(results[c][-1])\n",
    "    print()"
   ]
  },
  {
   "cell_type": "code",
   "execution_count": 12,
   "metadata": {
    "collapsed": false
   },
   "outputs": [
    {
     "name": "stderr",
     "output_type": "stream",
     "text": [
      "/home/caofan/anaconda3/lib/python3.5/site-packages/sklearn/metrics/classification.py:1113: UndefinedMetricWarning: F-score is ill-defined and being set to 0.0 due to no predicted samples.\n",
      "  'precision', 'predicted', average, warn_for)\n",
      "/home/caofan/anaconda3/lib/python3.5/site-packages/sklearn/metrics/classification.py:1113: UndefinedMetricWarning: Precision is ill-defined and being set to 0.0 due to no predicted samples.\n",
      "  'precision', 'predicted', average, warn_for)\n",
      "/home/caofan/anaconda3/lib/python3.5/site-packages/sklearn/metrics/classification.py:1113: UndefinedMetricWarning: F-score is ill-defined and being set to 0.0 due to no predicted samples.\n",
      "  'precision', 'predicted', average, warn_for)\n",
      "/home/caofan/anaconda3/lib/python3.5/site-packages/sklearn/metrics/classification.py:1113: UndefinedMetricWarning: Precision is ill-defined and being set to 0.0 due to no predicted samples.\n",
      "  'precision', 'predicted', average, warn_for)\n",
      "/home/caofan/anaconda3/lib/python3.5/site-packages/sklearn/metrics/classification.py:1113: UndefinedMetricWarning: F-score is ill-defined and being set to 0.0 due to no predicted samples.\n",
      "  'precision', 'predicted', average, warn_for)\n",
      "/home/caofan/anaconda3/lib/python3.5/site-packages/sklearn/metrics/classification.py:1113: UndefinedMetricWarning: Precision is ill-defined and being set to 0.0 due to no predicted samples.\n",
      "  'precision', 'predicted', average, warn_for)\n",
      "/home/caofan/anaconda3/lib/python3.5/site-packages/sklearn/metrics/classification.py:1113: UndefinedMetricWarning: F-score is ill-defined and being set to 0.0 due to no predicted samples.\n",
      "  'precision', 'predicted', average, warn_for)\n",
      "/home/caofan/anaconda3/lib/python3.5/site-packages/sklearn/metrics/classification.py:1113: UndefinedMetricWarning: Precision is ill-defined and being set to 0.0 due to no predicted samples.\n",
      "  'precision', 'predicted', average, warn_for)\n",
      "/home/caofan/anaconda3/lib/python3.5/site-packages/sklearn/metrics/classification.py:1113: UndefinedMetricWarning: F-score is ill-defined and being set to 0.0 due to no predicted samples.\n",
      "  'precision', 'predicted', average, warn_for)\n",
      "/home/caofan/anaconda3/lib/python3.5/site-packages/sklearn/metrics/classification.py:1113: UndefinedMetricWarning: Precision is ill-defined and being set to 0.0 due to no predicted samples.\n",
      "  'precision', 'predicted', average, warn_for)\n",
      "/home/caofan/anaconda3/lib/python3.5/site-packages/sklearn/metrics/classification.py:1113: UndefinedMetricWarning: F-score is ill-defined and being set to 0.0 due to no predicted samples.\n",
      "  'precision', 'predicted', average, warn_for)\n",
      "/home/caofan/anaconda3/lib/python3.5/site-packages/sklearn/metrics/classification.py:1113: UndefinedMetricWarning: Precision is ill-defined and being set to 0.0 due to no predicted samples.\n",
      "  'precision', 'predicted', average, warn_for)\n"
     ]
    },
    {
     "data": {
      "image/png": "[encoded data removed]",
      "text/plain": [
       "<matplotlib.figure.Figure at 0x7ff655e6bb00>"
      ]
     },
     "metadata": {},
     "output_type": "display_data"
    }
   ],
   "source": [
    "chrom_split_results = {}\n",
    "for cell in ['HeLa-S3', 'NHEK', 'K562', 'GM12878', 'HUVEC', 'IMR90']:\n",
    "    \n",
    "    curr_data, curr_X, curr_y = load_data(\"targetfinder-master/%s/output-epw/windows.bed\" % cell, \n",
    "                                            \"targetfinder-master/%s/output-epw/motifs/%s.window.\" % (cell, cell))\n",
    "    estimators_tf = test_overfitting_chrom(curr_X, curr_y, curr_data, 1000)\n",
    "    train_loss_tf, test_loss_tf = getLosses(estimators_tf)\n",
    "    pylab.plot(train_loss_tf)\n",
    "    pylab.plot(test_loss_tf)\n",
    "    curr_scores = get_scores(estimators_tf)\n",
    "    chrom_split_results[cell] = (estimators_tf, train_loss_tf, test_loss_tf, curr_scores)"
   ]
  },
  {
   "cell_type": "code",
   "execution_count": 13,
   "metadata": {
    "collapsed": false,
    "scrolled": false
   },
   "outputs": [
    {
     "name": "stdout",
     "output_type": "stream",
     "text": [
      "GM12878\n",
      "    accuracy       f1  precision    recall     auprc     auroc\n",
      "0   0.924475  0.00000        0.0  0.000000  0.166787  0.648824\n",
      "1   0.937723  0.00000        0.0  0.000000  0.136867  0.623847\n",
      "2   0.958812  0.00000        0.0  0.000000  0.060055  0.544346\n",
      "3   0.913089  0.00000        0.0  0.000000  0.111776  0.565584\n",
      "4   0.945743  0.00000        0.0  0.000000  0.093124  0.645502\n",
      "5   0.963784  0.00000        0.0  0.000000  0.063830  0.554590\n",
      "6   0.947572  0.00000        0.0  0.000000  0.080230  0.590847\n",
      "7   0.956308  0.00000        0.0  0.000000  0.069378  0.568142\n",
      "8   0.968016  0.00000        0.0  0.000000  0.041370  0.507891\n",
      "9   0.953959  0.00000        0.0  0.000000  0.058430  0.525549\n",
      "10  0.960191  0.00000        0.0  0.000000  0.055685  0.571609\n",
      "11  0.958227  0.00000        0.0  0.000000  0.064042  0.594441\n",
      "12  0.953474  0.00000        0.0  0.000000  0.055196  0.569369\n",
      "13  0.938304  0.00939        1.0  0.004717  0.132607  0.580827\n",
      "14  0.955201  0.00000        0.0  0.000000  0.057166  0.571303\n",
      "15  0.966208  0.00000        0.0  0.000000  0.048281  0.567007\n",
      "16  0.971222  0.00000        0.0  0.000000  0.041807  0.544504\n",
      "17  0.946064  0.00000        0.0  0.000000  0.092147  0.616040\n",
      "18  0.951944  0.00000        0.0  0.000000  0.061285  0.547097\n",
      "19  0.947173  0.00000        0.0  0.000000  0.095819  0.635771\n",
      "\n",
      "HeLa-S3\n",
      "    accuracy   f1  precision  recall     auprc     auroc\n",
      "0   0.939557  0.0        0.0     0.0  0.082604  0.577976\n",
      "1   0.950090  0.0        0.0     0.0  0.099911  0.579028\n",
      "2   0.943688  0.0        0.0     0.0  0.129407  0.631726\n",
      "3   0.951109  0.0        0.0     0.0  0.055945  0.564589\n",
      "4   0.957718  0.0        0.0     0.0  0.056250  0.575878\n",
      "5   0.932032  0.0        0.0     0.0  0.175931  0.656071\n",
      "6   0.949679  0.0        0.0     0.0  0.071564  0.615941\n",
      "7   0.963913  0.0        0.0     0.0  0.100146  0.649031\n",
      "8   0.978624  0.0        0.0     0.0  0.029327  0.589062\n",
      "9   0.945862  0.0        0.0     0.0  0.071737  0.567886\n",
      "10  0.947887  0.0        0.0     0.0  0.055352  0.531893\n",
      "11  0.957310  0.0        0.0     0.0  0.044386  0.484291\n",
      "12  0.950675  0.0        0.0     0.0  0.058387  0.547623\n",
      "13  0.936038  0.0        0.0     0.0  0.104090  0.653530\n",
      "14  0.958410  0.0        0.0     0.0  0.080669  0.640103\n",
      "15  0.982123  0.0        0.0     0.0  0.027741  0.534149\n",
      "16  0.950118  0.0        0.0     0.0  0.058701  0.555110\n",
      "17  0.950363  0.0        0.0     0.0  0.086649  0.627046\n",
      "18  0.953580  0.0        0.0     0.0  0.101716  0.600289\n",
      "19  0.967201  0.0        0.0     0.0  0.037258  0.508858\n",
      "\n",
      "HUVEC\n",
      "    accuracy        f1  precision    recall     auprc     auroc\n",
      "0   0.983880  0.064516   0.666667  0.033898  0.125934  0.707042\n",
      "1   0.951574  0.000000   0.000000  0.000000  0.126017  0.659606\n",
      "2   0.949392  0.000000   0.000000  0.000000  0.089736  0.628382\n",
      "3   0.933122  0.000000   0.000000  0.000000  0.154175  0.667734\n",
      "4   0.950378  0.000000   0.000000  0.000000  0.168299  0.649618\n",
      "5   0.966482  0.000000   0.000000  0.000000  0.046841  0.601157\n",
      "6   0.953032  0.000000   0.000000  0.000000  0.086403  0.642954\n",
      "7   0.977867  0.000000   0.000000  0.000000  0.043092  0.716536\n",
      "8   0.953640  0.000000   0.000000  0.000000  0.084455  0.590953\n",
      "9   0.957726  0.000000   0.000000  0.000000  0.095072  0.642505\n",
      "10  0.934828  0.000000   0.000000  0.000000  0.125825  0.647077\n",
      "11  0.945517  0.000000   0.000000  0.000000  0.097415  0.576884\n",
      "12  0.972086  0.000000   0.000000  0.000000  0.096429  0.705353\n",
      "13  0.971449  0.000000   0.000000  0.000000  0.077929  0.712614\n",
      "14  0.930386  0.000000   0.000000  0.000000  0.135591  0.668196\n",
      "15  0.930908  0.000000   0.000000  0.000000  0.104096  0.601671\n",
      "16  0.936564  0.000000   0.000000  0.000000  0.089685  0.614643\n",
      "17  0.961388  0.000000   0.000000  0.000000  0.053996  0.565753\n",
      "18  0.931555  0.000000   0.000000  0.000000  0.154184  0.678768\n",
      "19  0.969597  0.000000   0.000000  0.000000  0.033317  0.556104\n",
      "\n",
      "IMR90\n",
      "    accuracy   f1  precision  recall     auprc     auroc\n",
      "0   0.961717  0.0        0.0     0.0  0.069623  0.663343\n",
      "1   0.955714  0.0        0.0     0.0  0.038702  0.460548\n",
      "2   0.968055  0.0        0.0     0.0  0.043588  0.613036\n",
      "3   0.947631  0.0        0.0     0.0  0.088688  0.632679\n",
      "4   0.928522  0.0        0.0     0.0  0.075792  0.488143\n",
      "5   0.962847  0.0        0.0     0.0  0.034079  0.504573\n",
      "6   0.967100  0.0        0.0     0.0  0.047892  0.603320\n",
      "7   0.958868  0.0        0.0     0.0  0.056950  0.575026\n",
      "8   0.951851  0.0        0.0     0.0  0.063747  0.615760\n",
      "9   0.950689  0.0        0.0     0.0  0.080434  0.623861\n",
      "10  0.955442  0.0        0.0     0.0  0.079350  0.637347\n",
      "11  0.948571  0.0        0.0     0.0  0.058316  0.531672\n",
      "12  0.921719  0.0        0.0     0.0  0.099693  0.569534\n",
      "13  0.957326  0.0        0.0     0.0  0.105503  0.659848\n",
      "14  0.956897  0.0        0.0     0.0  0.038655  0.443233\n",
      "15  0.946099  0.0        0.0     0.0  0.053583  0.465043\n",
      "16  0.952248  0.0        0.0     0.0  0.069320  0.582816\n",
      "17  0.960764  0.0        0.0     0.0  0.057314  0.608752\n",
      "18  0.921417  0.0        0.0     0.0  0.080316  0.457247\n",
      "19  0.943169  0.0        0.0     0.0  0.050291  0.448055\n",
      "\n",
      "NHEK\n",
      "    accuracy   f1  precision  recall     auprc     auroc\n",
      "0   0.958177  0.0        0.0     0.0  0.049896  0.584938\n",
      "1   0.937980  0.0        0.0     0.0  0.077159  0.581476\n",
      "2   0.955390  0.0        0.0     0.0  0.052800  0.616903\n",
      "3   0.967290  0.0        0.0     0.0  0.078999  0.692638\n",
      "4   0.959214  0.0        0.0     0.0  0.044133  0.545138\n",
      "5   0.943969  0.0        0.0     0.0  0.053828  0.520690\n",
      "6   0.968421  0.0        0.0     0.0  0.032439  0.534405\n",
      "7   0.959339  0.0        0.0     0.0  0.034652  0.463297\n",
      "8   0.965155  0.0        0.0     0.0  0.026264  0.403309\n",
      "9   0.963790  0.0        0.0     0.0  0.035128  0.462574\n",
      "10  0.942478  0.0        0.0     0.0  0.086121  0.647776\n",
      "11  0.957822  0.0        0.0     0.0  0.069235  0.569101\n",
      "12  0.959372  0.0        0.0     0.0  0.050308  0.608496\n",
      "13  0.950436  0.0        0.0     0.0  0.068915  0.590450\n",
      "14  0.953414  0.0        0.0     0.0  0.055842  0.569658\n",
      "15  0.940195  0.0        0.0     0.0  0.086200  0.571700\n",
      "16  0.950336  0.0        0.0     0.0  0.069935  0.598556\n",
      "17  0.968883  0.0        0.0     0.0  0.048090  0.587960\n",
      "18  0.946742  0.0        0.0     0.0  0.046534  0.456215\n",
      "19  0.948595  0.0        0.0     0.0  0.071250  0.572611\n",
      "\n",
      "K562\n",
      "    accuracy        f1  precision    recall     auprc     auroc\n",
      "0   0.965907  0.000000       0.00  0.000000  0.033901  0.496914\n",
      "1   0.959707  0.000000       0.00  0.000000  0.072447  0.615827\n",
      "2   0.952983  0.000000       0.00  0.000000  0.054505  0.565319\n",
      "3   0.947028  0.000000       0.00  0.000000  0.060750  0.568853\n",
      "4   0.966627  0.000000       0.00  0.000000  0.032198  0.498019\n",
      "5   0.963296  0.000000       0.00  0.000000  0.043221  0.584299\n",
      "6   0.947464  0.000000       0.00  0.000000  0.057417  0.495750\n",
      "7   0.945623  0.000000       0.00  0.000000  0.050395  0.465244\n",
      "8   0.965393  0.000000       0.00  0.000000  0.045005  0.539926\n",
      "9   0.955276  0.000000       0.00  0.000000  0.054399  0.536946\n",
      "10  0.962948  0.000000       0.00  0.000000  0.055039  0.610868\n",
      "11  0.969364  0.000000       0.00  0.000000  0.028418  0.470117\n",
      "12  0.950828  0.006557       0.25  0.003322  0.058579  0.558075\n",
      "13  0.946510  0.000000       0.00  0.000000  0.053524  0.506802\n",
      "14  0.961477  0.000000       0.00  0.000000  0.034671  0.468052\n",
      "15  0.913636  0.000000       0.00  0.000000  0.161854  0.629429\n",
      "16  0.957976  0.000000       0.00  0.000000  0.041742  0.518635\n",
      "17  0.962538  0.000000       0.00  0.000000  0.035105  0.493680\n",
      "18  0.949909  0.000000       0.00  0.000000  0.059399  0.553376\n",
      "19  0.948710  0.000000       0.00  0.000000  0.062630  0.576007\n",
      "\n"
     ]
    }
   ],
   "source": [
    "for c in chrom_split_results:\n",
    "    print(c)\n",
    "    print(chrom_split_results[c][-1])\n",
    "    print()"
   ]
  },
  {
   "cell_type": "code",
   "execution_count": 14,
   "metadata": {
    "collapsed": false
   },
   "outputs": [
    {
     "data": {
      "image/png": "[encoded data removed]",
      "text/plain": [
       "<matplotlib.figure.Figure at 0x7ff60ede73c8>"
      ]
     },
     "metadata": {},
     "output_type": "display_data"
    }
   ],
   "source": [
    "random_results = {}\n",
    "for cell in ['K562', 'GM12878', 'HUVEC', 'IMR90', 'HeLa-S3', 'NHEK']:\n",
    "    \n",
    "    curr_data, curr_X, curr_y = load_data(\"targetfinder-master/%s/output-epw/windows.bed\" % cell, \n",
    "                                          \"targetfinder-master/%s/output-epw/motifs_shuffled/%s.window.\" % (cell, cell),\n",
    "                                          post_fix='.all_shuffled')\n",
    "    estimators_tf = test_overfitting(curr_X, curr_y, \"gradient\", 1000)\n",
    "    train_loss_tf, test_loss_tf = getLosses(estimators_tf)\n",
    "    pylab.plot(train_loss_tf)\n",
    "    pylab.plot(test_loss_tf)\n",
    "    curr_scores = get_scores(estimators_tf)\n",
    "    random_results[cell] = (estimators_tf, train_loss_tf, test_loss_tf, curr_scores)"
   ]
  },
  {
   "cell_type": "code",
   "execution_count": 15,
   "metadata": {
    "collapsed": false
   },
   "outputs": [
    {
     "data": {
      "text/html": [
       "<div>\n",
       "<table border=\"1\" class=\"dataframe\">\n",
       "  <thead>\n",
       "    <tr style=\"text-align: right;\">\n",
       "      <th></th>\n",
       "      <th>accuracy</th>\n",
       "      <th>f1</th>\n",
       "      <th>precision</th>\n",
       "      <th>recall</th>\n",
       "      <th>auprc</th>\n",
       "      <th>auroc</th>\n",
       "    </tr>\n",
       "  </thead>\n",
       "  <tbody>\n",
       "    <tr>\n",
       "      <th>0</th>\n",
       "      <td>0.984330</td>\n",
       "      <td>0.811594</td>\n",
       "      <td>0.952381</td>\n",
       "      <td>0.707071</td>\n",
       "      <td>0.891671</td>\n",
       "      <td>0.947251</td>\n",
       "    </tr>\n",
       "    <tr>\n",
       "      <th>1</th>\n",
       "      <td>0.985294</td>\n",
       "      <td>0.822157</td>\n",
       "      <td>0.972414</td>\n",
       "      <td>0.712121</td>\n",
       "      <td>0.868409</td>\n",
       "      <td>0.955979</td>\n",
       "    </tr>\n",
       "    <tr>\n",
       "      <th>2</th>\n",
       "      <td>0.985294</td>\n",
       "      <td>0.822157</td>\n",
       "      <td>0.972414</td>\n",
       "      <td>0.712121</td>\n",
       "      <td>0.884610</td>\n",
       "      <td>0.943448</td>\n",
       "    </tr>\n",
       "    <tr>\n",
       "      <th>3</th>\n",
       "      <td>0.986741</td>\n",
       "      <td>0.841499</td>\n",
       "      <td>0.979866</td>\n",
       "      <td>0.737374</td>\n",
       "      <td>0.909061</td>\n",
       "      <td>0.965742</td>\n",
       "    </tr>\n",
       "    <tr>\n",
       "      <th>4</th>\n",
       "      <td>0.987946</td>\n",
       "      <td>0.857955</td>\n",
       "      <td>0.980519</td>\n",
       "      <td>0.762626</td>\n",
       "      <td>0.903314</td>\n",
       "      <td>0.953438</td>\n",
       "    </tr>\n",
       "    <tr>\n",
       "      <th>5</th>\n",
       "      <td>0.984571</td>\n",
       "      <td>0.811765</td>\n",
       "      <td>0.971831</td>\n",
       "      <td>0.696970</td>\n",
       "      <td>0.862726</td>\n",
       "      <td>0.935314</td>\n",
       "    </tr>\n",
       "    <tr>\n",
       "      <th>6</th>\n",
       "      <td>0.985535</td>\n",
       "      <td>0.826590</td>\n",
       "      <td>0.966216</td>\n",
       "      <td>0.722222</td>\n",
       "      <td>0.840790</td>\n",
       "      <td>0.933872</td>\n",
       "    </tr>\n",
       "    <tr>\n",
       "      <th>7</th>\n",
       "      <td>0.987702</td>\n",
       "      <td>0.853868</td>\n",
       "      <td>0.980263</td>\n",
       "      <td>0.756345</td>\n",
       "      <td>0.894571</td>\n",
       "      <td>0.933391</td>\n",
       "    </tr>\n",
       "    <tr>\n",
       "      <th>8</th>\n",
       "      <td>0.980950</td>\n",
       "      <td>0.766962</td>\n",
       "      <td>0.915493</td>\n",
       "      <td>0.659898</td>\n",
       "      <td>0.824851</td>\n",
       "      <td>0.941896</td>\n",
       "    </tr>\n",
       "    <tr>\n",
       "      <th>9</th>\n",
       "      <td>0.983844</td>\n",
       "      <td>0.802360</td>\n",
       "      <td>0.957746</td>\n",
       "      <td>0.690355</td>\n",
       "      <td>0.884627</td>\n",
       "      <td>0.951769</td>\n",
       "    </tr>\n",
       "  </tbody>\n",
       "</table>\n",
       "</div>"
      ],
      "text/plain": [
       "   accuracy        f1  precision    recall     auprc     auroc\n",
       "0  0.984330  0.811594   0.952381  0.707071  0.891671  0.947251\n",
       "1  0.985294  0.822157   0.972414  0.712121  0.868409  0.955979\n",
       "2  0.985294  0.822157   0.972414  0.712121  0.884610  0.943448\n",
       "3  0.986741  0.841499   0.979866  0.737374  0.909061  0.965742\n",
       "4  0.987946  0.857955   0.980519  0.762626  0.903314  0.953438\n",
       "5  0.984571  0.811765   0.971831  0.696970  0.862726  0.935314\n",
       "6  0.985535  0.826590   0.966216  0.722222  0.840790  0.933872\n",
       "7  0.987702  0.853868   0.980263  0.756345  0.894571  0.933391\n",
       "8  0.980950  0.766962   0.915493  0.659898  0.824851  0.941896\n",
       "9  0.983844  0.802360   0.957746  0.690355  0.884627  0.951769"
      ]
     },
     "execution_count": 15,
     "metadata": {},
     "output_type": "execute_result"
    }
   ],
   "source": [
    "random_results['K562'][-1]"
   ]
  },
  {
   "cell_type": "code",
   "execution_count": 16,
   "metadata": {
    "collapsed": false
   },
   "outputs": [
    {
     "name": "stdout",
     "output_type": "stream",
     "text": [
      "GM12878\n",
      "   accuracy        f1  precision    recall     auprc     auroc\n",
      "0  0.982175  0.776204   0.971631  0.646226  0.828002  0.916192\n",
      "1  0.983755  0.803279   0.954545  0.693396  0.872199  0.951964\n",
      "2  0.981047  0.762712   0.950704  0.636792  0.820627  0.923400\n",
      "3  0.979237  0.734104   0.940741  0.601896  0.827707  0.929753\n",
      "4  0.979689  0.748603   0.911565  0.635071  0.814146  0.935442\n",
      "5  0.982397  0.784530   0.940397  0.672986  0.854645  0.949106\n",
      "6  0.984202  0.806630   0.966887  0.691943  0.851409  0.946322\n",
      "7  0.981945  0.775281   0.951724  0.654028  0.855100  0.935217\n",
      "8  0.983751  0.806452   0.931677  0.710900  0.850463  0.943729\n",
      "9  0.983525  0.807388   0.910714  0.725118  0.858240  0.944220\n",
      "\n",
      "HeLa-S3\n",
      "   accuracy        f1  precision    recall     auprc     auroc\n",
      "0  0.992611  0.916409   0.993289  0.850575  0.936302  0.971405\n",
      "1  0.987137  0.845902   0.984733  0.741379  0.909371  0.965273\n",
      "2  0.989327  0.874598   0.992701  0.781609  0.946491  0.976734\n",
      "3  0.989053  0.872611   0.978571  0.787356  0.923189  0.973524\n",
      "4  0.989053  0.871795   0.985507  0.781609  0.913803  0.968166\n",
      "5  0.985222  0.824675   0.947761  0.729885  0.913319  0.975846\n",
      "6  0.988779  0.869010   0.978417  0.781609  0.902291  0.957402\n",
      "7  0.988506  0.865385   0.978261  0.775862  0.940553  0.988565\n",
      "8  0.990969  0.897196   0.979592  0.827586  0.918132  0.959202\n",
      "9  0.990695  0.895706   0.960526  0.839080  0.942020  0.975363\n",
      "\n",
      "HUVEC\n",
      "   accuracy        f1  precision    recall     auprc     auroc\n",
      "0  0.983088  0.793893   0.954128  0.679739  0.837855  0.940157\n",
      "1  0.981522  0.772201   0.943396  0.653595  0.838938  0.948495\n",
      "2  0.982462  0.781250   0.970874  0.653595  0.861399  0.942417\n",
      "3  0.979956  0.739837   0.978495  0.594771  0.822925  0.923065\n",
      "4  0.983396  0.792157   0.980583  0.664474  0.855588  0.948909\n",
      "5  0.983709  0.803030   0.946429  0.697368  0.878189  0.971830\n",
      "6  0.981203  0.769231   0.925926  0.657895  0.843029  0.938229\n",
      "7  0.979950  0.748031   0.931373  0.625000  0.810078  0.948401\n",
      "8  0.983396  0.798479   0.945946  0.690789  0.872314  0.950115\n",
      "9  0.981203  0.770992   0.918182  0.664474  0.818694  0.931397\n",
      "\n",
      "IMR90\n",
      "   accuracy        f1  precision    recall     auprc     auroc\n",
      "0  0.985149  0.825112   0.948454  0.730159  0.861141  0.927467\n",
      "1  0.982483  0.792793   0.916667  0.698413  0.836594  0.953152\n",
      "2  0.984006  0.809091   0.946809  0.706349  0.824991  0.931279\n",
      "3  0.985529  0.825688   0.978261  0.714286  0.873804  0.947552\n",
      "4  0.987810  0.859649   0.951456  0.784000  0.923168  0.968890\n",
      "5  0.985524  0.831858   0.930693  0.752000  0.897440  0.971958\n",
      "6  0.987429  0.855895   0.942308  0.784000  0.893199  0.962163\n",
      "7  0.983619  0.801843   0.945652  0.696000  0.793686  0.909418\n",
      "8  0.982857  0.786730   0.965116  0.664000  0.852000  0.931533\n",
      "9  0.984762  0.816514   0.956989  0.712000  0.854956  0.927011\n",
      "\n",
      "NHEK\n",
      "   accuracy        f1  precision    recall     auprc     auroc\n",
      "0  0.990706  0.894515   0.990654  0.815385  0.937761  0.984279\n",
      "1  0.992934  0.923077   0.966102  0.883721  0.938118  0.972532\n",
      "2  0.990331  0.888889   0.990476  0.806202  0.934770  0.973095\n",
      "3  0.989959  0.887967   0.955357  0.829457  0.941215  0.990437\n",
      "4  0.990703  0.894515   0.981481  0.821705  0.949052  0.972596\n",
      "5  0.989587  0.880342   0.980952  0.798450  0.924338  0.972926\n",
      "6  0.989215  0.877637   0.962963  0.806202  0.942007  0.984965\n",
      "7  0.990703  0.895397   0.972727  0.829457  0.911977  0.971842\n",
      "8  0.989215  0.877637   0.962963  0.806202  0.933317  0.981586\n",
      "9  0.987728  0.857143   0.970588  0.767442  0.909582  0.956008\n",
      "\n",
      "K562\n",
      "   accuracy        f1  precision    recall     auprc     auroc\n",
      "0  0.984330  0.811594   0.952381  0.707071  0.891671  0.947251\n",
      "1  0.985294  0.822157   0.972414  0.712121  0.868409  0.955979\n",
      "2  0.985294  0.822157   0.972414  0.712121  0.884610  0.943448\n",
      "3  0.986741  0.841499   0.979866  0.737374  0.909061  0.965742\n",
      "4  0.987946  0.857955   0.980519  0.762626  0.903314  0.953438\n",
      "5  0.984571  0.811765   0.971831  0.696970  0.862726  0.935314\n",
      "6  0.985535  0.826590   0.966216  0.722222  0.840790  0.933872\n",
      "7  0.987702  0.853868   0.980263  0.756345  0.894571  0.933391\n",
      "8  0.980950  0.766962   0.915493  0.659898  0.824851  0.941896\n",
      "9  0.983844  0.802360   0.957746  0.690355  0.884627  0.951769\n",
      "\n"
     ]
    }
   ],
   "source": [
    "for c in random_results:\n",
    "    print(c)\n",
    "    print(random_results[c][-1])\n",
    "    print()"
   ]
  },
  {
   "cell_type": "code",
   "execution_count": 17,
   "metadata": {
    "collapsed": false
   },
   "outputs": [
    {
     "name": "stderr",
     "output_type": "stream",
     "text": [
      "/home/caofan/anaconda3/lib/python3.5/site-packages/sklearn/metrics/classification.py:1113: UndefinedMetricWarning: F-score is ill-defined and being set to 0.0 due to no predicted samples.\n",
      "  'precision', 'predicted', average, warn_for)\n",
      "/home/caofan/anaconda3/lib/python3.5/site-packages/sklearn/metrics/classification.py:1113: UndefinedMetricWarning: Precision is ill-defined and being set to 0.0 due to no predicted samples.\n",
      "  'precision', 'predicted', average, warn_for)\n",
      "/home/caofan/anaconda3/lib/python3.5/site-packages/sklearn/metrics/classification.py:1113: UndefinedMetricWarning: F-score is ill-defined and being set to 0.0 due to no predicted samples.\n",
      "  'precision', 'predicted', average, warn_for)\n",
      "/home/caofan/anaconda3/lib/python3.5/site-packages/sklearn/metrics/classification.py:1113: UndefinedMetricWarning: Precision is ill-defined and being set to 0.0 due to no predicted samples.\n",
      "  'precision', 'predicted', average, warn_for)\n",
      "/home/caofan/anaconda3/lib/python3.5/site-packages/sklearn/metrics/classification.py:1113: UndefinedMetricWarning: F-score is ill-defined and being set to 0.0 due to no predicted samples.\n",
      "  'precision', 'predicted', average, warn_for)\n",
      "/home/caofan/anaconda3/lib/python3.5/site-packages/sklearn/metrics/classification.py:1113: UndefinedMetricWarning: Precision is ill-defined and being set to 0.0 due to no predicted samples.\n",
      "  'precision', 'predicted', average, warn_for)\n",
      "/home/caofan/anaconda3/lib/python3.5/site-packages/sklearn/metrics/classification.py:1113: UndefinedMetricWarning: F-score is ill-defined and being set to 0.0 due to no predicted samples.\n",
      "  'precision', 'predicted', average, warn_for)\n",
      "/home/caofan/anaconda3/lib/python3.5/site-packages/sklearn/metrics/classification.py:1113: UndefinedMetricWarning: Precision is ill-defined and being set to 0.0 due to no predicted samples.\n",
      "  'precision', 'predicted', average, warn_for)\n",
      "/home/caofan/anaconda3/lib/python3.5/site-packages/sklearn/metrics/classification.py:1113: UndefinedMetricWarning: F-score is ill-defined and being set to 0.0 due to no predicted samples.\n",
      "  'precision', 'predicted', average, warn_for)\n",
      "/home/caofan/anaconda3/lib/python3.5/site-packages/sklearn/metrics/classification.py:1113: UndefinedMetricWarning: Precision is ill-defined and being set to 0.0 due to no predicted samples.\n",
      "  'precision', 'predicted', average, warn_for)\n",
      "/home/caofan/anaconda3/lib/python3.5/site-packages/sklearn/metrics/classification.py:1113: UndefinedMetricWarning: F-score is ill-defined and being set to 0.0 due to no predicted samples.\n",
      "  'precision', 'predicted', average, warn_for)\n",
      "/home/caofan/anaconda3/lib/python3.5/site-packages/sklearn/metrics/classification.py:1113: UndefinedMetricWarning: Precision is ill-defined and being set to 0.0 due to no predicted samples.\n",
      "  'precision', 'predicted', average, warn_for)\n"
     ]
    },
    {
     "data": {
      "image/png": "[encoded data removed]",
      "text/plain": [
       "<matplotlib.figure.Figure at 0x7ff59c441668>"
      ]
     },
     "metadata": {},
     "output_type": "display_data"
    }
   ],
   "source": [
    "chrom_split_random_results = {}\n",
    "for cell in ['HeLa-S3', 'NHEK', 'K562', 'GM12878', 'HUVEC', 'IMR90']:\n",
    "    \n",
    "    curr_data, curr_X, curr_y = load_data(\"targetfinder-master/%s/output-epw/windows.bed\" % cell, \n",
    "                                          \"targetfinder-master/%s/output-epw/motifs_shuffled/%s.window.\" % (cell, cell),\n",
    "                                          post_fix='.all_shuffled')\n",
    "    estimators_tf = test_overfitting_chrom(curr_X, curr_y, curr_data, 1000)\n",
    "    train_loss_tf, test_loss_tf = getLosses(estimators_tf)\n",
    "    pylab.plot(train_loss_tf)\n",
    "    pylab.plot(test_loss_tf)\n",
    "    curr_scores = get_scores(estimators_tf)\n",
    "    chrom_split_random_results[cell] = (estimators_tf, train_loss_tf, test_loss_tf, curr_scores)"
   ]
  },
  {
   "cell_type": "code",
   "execution_count": 18,
   "metadata": {
    "collapsed": false,
    "scrolled": false
   },
   "outputs": [
    {
     "name": "stdout",
     "output_type": "stream",
     "text": [
      "GM12878\n",
      "    accuracy   f1  precision  recall     auprc     auroc\n",
      "0   0.923907  0.0        0.0     0.0  0.092429  0.499155\n",
      "1   0.966455  0.0        0.0     0.0  0.036865  0.521280\n",
      "2   0.941799  0.0        0.0     0.0  0.069396  0.516352\n",
      "3   0.957036  0.0        0.0     0.0  0.055202  0.577211\n",
      "4   0.946563  0.0        0.0     0.0  0.091423  0.565620\n",
      "5   0.944444  0.0        0.0     0.0  0.120381  0.638465\n",
      "6   0.937723  0.0        0.0     0.0  0.092847  0.569079\n",
      "7   0.961674  0.0        0.0     0.0  0.057730  0.625310\n",
      "8   0.951847  0.0        0.0     0.0  0.057682  0.550089\n",
      "9   0.910947  0.0        0.0     0.0  0.106472  0.505897\n",
      "10  0.935970  0.0        0.0     0.0  0.099128  0.593577\n",
      "11  0.959263  0.0        0.0     0.0  0.072929  0.656104\n",
      "12  0.952723  0.0        0.0     0.0  0.057350  0.569580\n",
      "13  0.965192  0.0        0.0     0.0  0.053769  0.587069\n",
      "14  0.944567  0.0        0.0     0.0  0.068520  0.550300\n",
      "15  0.948184  0.0        0.0     0.0  0.066264  0.611415\n",
      "16  0.958227  0.0        0.0     0.0  0.045907  0.486518\n",
      "17  0.959530  0.0        0.0     0.0  0.056881  0.570010\n",
      "18  0.945409  0.0        0.0     0.0  0.093236  0.659294\n",
      "19  0.955585  0.0        0.0     0.0  0.080031  0.605692\n",
      "\n",
      "HeLa-S3\n",
      "    accuracy   f1  precision  recall     auprc     auroc\n",
      "0   0.979058  0.0        0.0     0.0  0.020604  0.537583\n",
      "1   0.954421  0.0        0.0     0.0  0.086038  0.660019\n",
      "2   0.948197  0.0        0.0     0.0  0.076122  0.603240\n",
      "3   0.936971  0.0        0.0     0.0  0.066678  0.533632\n",
      "4   0.944703  0.0        0.0     0.0  0.072345  0.561503\n",
      "5   0.949062  0.0        0.0     0.0  0.053634  0.439290\n",
      "6   0.970949  0.0        0.0     0.0  0.022971  0.408320\n",
      "7   0.938630  0.0        0.0     0.0  0.077271  0.558004\n",
      "8   0.943229  0.0        0.0     0.0  0.055086  0.512450\n",
      "9   0.931326  0.0        0.0     0.0  0.078612  0.567402\n",
      "10  0.955022  0.0        0.0     0.0  0.067026  0.596430\n",
      "11  0.939922  0.0        0.0     0.0  0.086839  0.572607\n",
      "12  0.944480  0.0        0.0     0.0  0.052170  0.483777\n",
      "13  0.952275  0.0        0.0     0.0  0.085920  0.670065\n",
      "14  0.956877  0.0        0.0     0.0  0.054109  0.578822\n",
      "15  0.934934  0.0        0.0     0.0  0.066263  0.515777\n",
      "16  0.934747  0.0        0.0     0.0  0.094795  0.623622\n",
      "17  0.943212  0.0        0.0     0.0  0.060458  0.519073\n",
      "18  0.965962  0.0        0.0     0.0  0.066680  0.655184\n",
      "19  0.925616  0.0        0.0     0.0  0.099081  0.596102\n",
      "\n",
      "HUVEC\n",
      "    accuracy   f1  precision  recall     auprc     auroc\n",
      "0   0.945395  0.0        0.0     0.0  0.054475  0.537802\n",
      "1   0.946835  0.0        0.0     0.0  0.071603  0.594225\n",
      "2   0.949115  0.0        0.0     0.0  0.067615  0.547537\n",
      "3   0.941976  0.0        0.0     0.0  0.067402  0.551819\n",
      "4   0.917736  0.0        0.0     0.0  0.122015  0.626154\n",
      "5   0.953032  0.0        0.0     0.0  0.078037  0.641755\n",
      "6   0.941802  0.0        0.0     0.0  0.092991  0.593589\n",
      "7   0.920941  0.0        0.0     0.0  0.114881  0.627835\n",
      "8   0.958519  0.0        0.0     0.0  0.059404  0.594478\n",
      "9   0.945517  0.0        0.0     0.0  0.085393  0.607789\n",
      "10  0.971449  0.0        0.0     0.0  0.044216  0.626110\n",
      "11  0.955293  0.0        0.0     0.0  0.073108  0.619427\n",
      "12  0.958102  0.0        0.0     0.0  0.064009  0.650058\n",
      "13  0.940492  0.0        0.0     0.0  0.066560  0.545101\n",
      "14  0.938030  0.0        0.0     0.0  0.080596  0.615122\n",
      "15  0.934434  0.0        0.0     0.0  0.081745  0.600112\n",
      "16  0.921971  0.0        0.0     0.0  0.127410  0.666342\n",
      "17  0.951356  0.0        0.0     0.0  0.075814  0.623470\n",
      "18  0.954151  0.0        0.0     0.0  0.074106  0.589724\n",
      "19  0.960372  0.0        0.0     0.0  0.062776  0.605595\n",
      "\n",
      "IMR90\n",
      "    accuracy   f1  precision  recall     auprc     auroc\n",
      "0   0.926522  0.0        0.0     0.0  0.101073  0.615610\n",
      "1   0.964912  0.0        0.0     0.0  0.037299  0.522368\n",
      "2   0.968055  0.0        0.0     0.0  0.054668  0.562537\n",
      "3   0.944802  0.0        0.0     0.0  0.063433  0.551187\n",
      "4   0.943765  0.0        0.0     0.0  0.121755  0.590191\n",
      "5   0.962847  0.0        0.0     0.0  0.056052  0.621560\n",
      "6   0.940643  0.0        0.0     0.0  0.062652  0.526872\n",
      "7   0.967252  0.0        0.0     0.0  0.080600  0.690318\n",
      "8   0.940277  0.0        0.0     0.0  0.060221  0.510166\n",
      "9   0.935368  0.0        0.0     0.0  0.076405  0.554007\n",
      "10  0.957002  0.0        0.0     0.0  0.049611  0.546030\n",
      "11  0.951209  0.0        0.0     0.0  0.079247  0.631971\n",
      "12  0.934426  0.0        0.0     0.0  0.079125  0.569610\n",
      "13  0.953362  0.0        0.0     0.0  0.099441  0.620509\n",
      "14  0.945985  0.0        0.0     0.0  0.066898  0.495017\n",
      "15  0.958520  0.0        0.0     0.0  0.041104  0.524992\n",
      "16  0.934558  0.0        0.0     0.0  0.072957  0.561420\n",
      "17  0.931021  0.0        0.0     0.0  0.078617  0.542469\n",
      "18  0.957209  0.0        0.0     0.0  0.037375  0.457388\n",
      "19  0.944228  0.0        0.0     0.0  0.064591  0.542939\n",
      "\n",
      "NHEK\n",
      "    accuracy   f1  precision  recall     auprc     auroc\n",
      "0   0.947221  0.0        0.0     0.0  0.064785  0.591089\n",
      "1   0.965395  0.0        0.0     0.0  0.036219  0.504374\n",
      "2   0.937980  0.0        0.0     0.0  0.073684  0.548778\n",
      "3   0.966900  0.0        0.0     0.0  0.034260  0.540080\n",
      "4   0.952149  0.0        0.0     0.0  0.063343  0.565169\n",
      "5   0.963332  0.0        0.0     0.0  0.037887  0.554090\n",
      "6   0.959445  0.0        0.0     0.0  0.036190  0.484654\n",
      "7   0.954184  0.0        0.0     0.0  0.077264  0.600039\n",
      "8   0.941069  0.0        0.0     0.0  0.070494  0.574372\n",
      "9   0.964936  0.0        0.0     0.0  0.056466  0.643392\n",
      "10  0.932231  0.0        0.0     0.0  0.091899  0.591276\n",
      "11  0.964978  0.0        0.0     0.0  0.036879  0.522587\n",
      "12  0.939834  0.0        0.0     0.0  0.083489  0.594760\n",
      "13  0.963790  0.0        0.0     0.0  0.035122  0.466120\n",
      "14  0.938412  0.0        0.0     0.0  0.106186  0.594113\n",
      "15  0.940436  0.0        0.0     0.0  0.061066  0.521152\n",
      "16  0.950436  0.0        0.0     0.0  0.083630  0.629642\n",
      "17  0.937905  0.0        0.0     0.0  0.073179  0.571717\n",
      "18  0.958928  0.0        0.0     0.0  0.047193  0.580227\n",
      "19  0.967813  0.0        0.0     0.0  0.058618  0.631588\n",
      "\n",
      "K562\n",
      "    accuracy   f1  precision  recall     auprc     auroc\n",
      "0   0.965826  0.0        0.0     0.0  0.052636  0.556084\n",
      "1   0.948663  0.0        0.0     0.0  0.079486  0.584364\n",
      "2   0.920565  0.0        0.0     0.0  0.096337  0.574778\n",
      "3   0.954450  0.0        0.0     0.0  0.051635  0.528002\n",
      "4   0.927818  0.0        0.0     0.0  0.083386  0.542354\n",
      "5   0.963296  0.0        0.0     0.0  0.077812  0.722030\n",
      "6   0.924697  0.0        0.0     0.0  0.095564  0.606275\n",
      "7   0.946147  0.0        0.0     0.0  0.064426  0.525879\n",
      "8   0.951238  0.0        0.0     0.0  0.090341  0.505031\n",
      "9   0.954167  0.0        0.0     0.0  0.078842  0.588990\n",
      "10  0.960322  0.0        0.0     0.0  0.047069  0.557232\n",
      "11  0.964461  0.0        0.0     0.0  0.037011  0.523080\n",
      "12  0.950180  0.0        0.0     0.0  0.050264  0.493957\n",
      "13  0.962758  0.0        0.0     0.0  0.057201  0.589496\n",
      "14  0.959971  0.0        0.0     0.0  0.053801  0.550340\n",
      "15  0.963848  0.0        0.0     0.0  0.047193  0.560493\n",
      "16  0.956703  0.0        0.0     0.0  0.061003  0.613895\n",
      "17  0.951518  0.0        0.0     0.0  0.064243  0.604110\n",
      "18  0.947126  0.0        0.0     0.0  0.093996  0.632771\n",
      "19  0.917873  0.0        0.0     0.0  0.086755  0.508120\n",
      "\n"
     ]
    }
   ],
   "source": [
    "for c in chrom_split_random_results:\n",
    "    print(c)\n",
    "    print(chrom_split_random_results[c][-1])\n",
    "    print()"
   ]
  },
  {
   "cell_type": "code",
   "execution_count": 19,
   "metadata": {
    "collapsed": false
   },
   "outputs": [],
   "source": [
    "real_f1s = dict([(c, results[c][-1].ix[:, 'f1'].mean()) for c in results])\n",
    "random_f1s = dict([(c, random_results[c][-1].ix[:, 'f1'].mean()) for c in random_results])\n",
    "real_auprcs = dict([(c, results[c][-1].ix[:, 'auprc'].mean()) for c in results])\n",
    "random_auprcs = dict([(c, random_results[c][-1].ix[:, 'auprc'].mean()) for c in random_results])\n",
    "real_aurocs = dict([(c, results[c][-1].ix[:, 'auroc'].mean()) for c in results])\n",
    "random_aurocs = dict([(c, random_results[c][-1].ix[:, 'auroc'].mean()) for c in random_results])"
   ]
  },
  {
   "cell_type": "code",
   "execution_count": 33,
   "metadata": {
    "collapsed": false
   },
   "outputs": [],
   "source": [
    "'''\n",
    "tableau20 = [(31, 119, 180), (174, 199, 232), (255, 127, 14), (255, 187, 120),    \n",
    "             (44, 160, 44), (152, 223, 138), (214, 39, 40), (255, 152, 150),    \n",
    "             (148, 103, 189), (197, 176, 213), (140, 86, 75), (196, 156, 148),    \n",
    "             (227, 119, 194), (247, 182, 210), (127, 127, 127), (199, 199, 199),    \n",
    "             (188, 189, 34), (219, 219, 141), (23, 190, 207), (158, 218, 229)]\n",
    "'''\n",
    "inch = 25.4\n",
    "col1Width = 87 / inch\n",
    "def plot_bar_plot(real, random, title):\n",
    "    colors = [(214, 39, 40), (31, 119, 180), (44, 160, 44), (148, 103, 189), (255, 127, 14), (140, 86, 75)]\n",
    "    for i in range(len(colors)):    \n",
    "        r, g, b = colors[i]    \n",
    "        colors[i] = (r / 255., g / 255., b / 255.) \n",
    "\n",
    "    fig = plt.figure(figsize=(col1Width*0.7, col1Width))\n",
    "    width = 0.2\n",
    "    for i,c in enumerate(['K562', 'GM12878', 'HeLa-S3', 'HUVEC', 'IMR90', 'NHEK']):\n",
    "\n",
    "        ax = fig.add_subplot(3,2,i+1)\n",
    "        rects = ax.bar([1,2], [real[c], random[c]], width=width, edgecolor='none', color=colors[i])\n",
    "\n",
    "        ax.set_xticks([1 + width/2, 2 + width/2])\n",
    "        ax.set_xticklabels(['Real', 'Shuffled'], fontsize=9)\n",
    "\n",
    "        ax.get_xaxis().tick_bottom()\n",
    "        ax.tick_params(axis='x', direction='out', top='off', bottom='off')\n",
    "\n",
    "        ax.spines['right'].set_visible(False)\n",
    "        ax.spines['top'].set_visible(False)\n",
    "        if i % 2 == 1:\n",
    "            ax.spines['left'].set_visible(False)\n",
    "            ax.tick_params(axis='y', direction='out', left='off', right='off')\n",
    "            ax.set_yticklabels([])\n",
    "        else:\n",
    "            ax.tick_params(axis='y', direction='out')\n",
    "            ax.get_yaxis().tick_left()\n",
    "            ax.set_yticks([0, 0.5, 1])\n",
    "            ax.set_yticklabels([\"0\", \"0.5\", \"1\"])\n",
    "        ax.set_ylim([0,1])\n",
    "        ax.set_title(c, fontsize=9)\n",
    "        for rect in rects:\n",
    "            height = rect.get_height()\n",
    "            offset = ax.get_ylim()[1] * 0.002\n",
    "            cstr = \"%.2f\"%float(height)\n",
    "            ax.text(rect.get_x()+rect.get_width()/2., height + offset, cstr,\n",
    "                    ha='center', va='bottom', fontsize=8)\n",
    "        if i == 2:\n",
    "            if title == 'f1':\n",
    "                ax.set_ylabel('Performance (F1)', fontsize=9)\n",
    "            elif title == 'auprc':\n",
    "                ax.set_ylabel('Performance (auPRC)', fontsize=9)\n",
    "            elif title == 'auroc':\n",
    "                ax.set_ylabel('Performance (auROC)', fontsize=9)\n",
    "\n",
    "    fig.tight_layout()\n",
    "    fig.savefig(\"targetfinder_prediction_with_motif_%s.png\"%title, dpi=600)\n",
    "    fig.savefig(\"targetfinder_prediction_with_motif_%s.pdf\"%title, dpi=600)\n",
    "\n",
    "    \n",
    "def make_plot(title):\n",
    "    print(title)\n",
    "    real = dict([(c, results[c][-1].ix[:, title].mean()) for c in results])\n",
    "    random = dict([(c, random_results[c][-1].ix[:, title].mean()) for c in random_results])\n",
    "    plot_bar_plot(real, random, title)"
   ]
  },
  {
   "cell_type": "code",
   "execution_count": 34,
   "metadata": {
    "collapsed": false
   },
   "outputs": [
    {
     "name": "stdout",
     "output_type": "stream",
     "text": [
      "f1\n",
      "auprc\n",
      "auroc\n"
     ]
    },
    {
     "data": {
      "image/png": "[encoded data removed]",
      "text/plain": [
       "<matplotlib.figure.Figure at 0x7ff457f04898>"
      ]
     },
     "metadata": {},
     "output_type": "display_data"
    },
    {
     "data": {
      "image/png": "[encoded data removed]",
      "text/plain": [
       "<matplotlib.figure.Figure at 0x7ff4544cd4e0>"
      ]
     },
     "metadata": {},
     "output_type": "display_data"
    },
    {
     "data": {
      "image/png": "[encoded data removed]",
      "text/plain": [
       "<matplotlib.figure.Figure at 0x7ff43ea90ef0>"
      ]
     },
     "metadata": {},
     "output_type": "display_data"
    }
   ],
   "source": [
    "make_plot('f1')\n",
    "make_plot('auprc')\n",
    "make_plot('auroc')"
   ]
  },
  {
   "cell_type": "code",
   "execution_count": 22,
   "metadata": {
    "collapsed": false
   },
   "outputs": [],
   "source": [
    "import pickle\n",
    "with open(\"motif_results.pickle\", 'wb') as out:\n",
    "    pickle.dump(results, out)\n",
    "with open(\"motif_random_results.pickle\", 'wb') as out:\n",
    "    pickle.dump(random_results, out)\n",
    "with open(\"motif_chrom_split_results.pickle\", 'wb') as out:\n",
    "    pickle.dump(chrom_split_results, out)\n",
    "with open(\"motif_chrom_split_random_results.pickle\", 'wb') as out:\n",
    "    pickle.dump(chrom_split_random_results, out)"
   ]
  },
  {
   "cell_type": "code",
   "execution_count": 152,
   "metadata": {
    "collapsed": false
   },
   "outputs": [
    {
     "data": {
      "text/plain": [
       "(-1, 21)"
      ]
     },
     "execution_count": 152,
     "metadata": {},
     "output_type": "execute_result"
    },
    {
     "data": {
      "image/png": "[encoded data removed]",
      "text/plain": [
       "<matplotlib.figure.Figure at 0x7ff3ce3774e0>"
      ]
     },
     "metadata": {},
     "output_type": "display_data"
    }
   ],
   "source": [
    "tableau20 = [(31, 119, 180), (174, 199, 232), (255, 127, 14), (255, 187, 120),    \n",
    "             (44, 160, 44), (152, 223, 138), (214, 39, 40), (255, 152, 150),    \n",
    "             (148, 103, 189), (197, 176, 213), (140, 86, 75), (196, 156, 148),    \n",
    "             (227, 119, 194), (247, 182, 210), (127, 127, 127), (199, 199, 199),    \n",
    "             (188, 189, 34), (219, 219, 141), (23, 190, 207), (158, 218, 229)]\n",
    "for i,p in enumerate(tableau20):\n",
    "    plt.plot(i,i+1, color=[x/255. for x in p], marker=\"o\")\n",
    "plt.xlim(-1, len(tableau20))\n",
    "plt.ylim(-1, len(tableau20)+1)"
   ]
  },
  {
   "cell_type": "markdown",
   "metadata": {},
   "source": []
  },
  {
   "cell_type": "code",
   "execution_count": null,
   "metadata": {
    "collapsed": true
   },
   "outputs": [],
   "source": []
  }
 ],
 "metadata": {
  "anaconda-cloud": {},
  "kernelspec": {
   "display_name": "Python [Root]",
   "language": "python",
   "name": "Python [Root]"
  },
  "language_info": {
   "codemirror_mode": {
    "name": "ipython",
    "version": 3
   },
   "file_extension": ".py",
   "mimetype": "text/x-python",
   "name": "python",
   "nbconvert_exporter": "python",
   "pygments_lexer": "ipython3",
   "version": "3.5.2"
  }
 },
 "nbformat": 4,
 "nbformat_minor": 0
}
