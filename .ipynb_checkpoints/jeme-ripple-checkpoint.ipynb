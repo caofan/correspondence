{
 "cells": [
  {
   "cell_type": "code",
   "execution_count": 26,
   "metadata": {
    "collapsed": true
   },
   "outputs": [],
   "source": [
    "import os,sys\n",
    "import pandas as pd\n",
    "%matplotlib inline\n",
    "os.chdir(\"jeme/JEME vs Ripple/\")\n",
    "from sklearn.model_selection import cross_val_score, StratifiedKFold, KFold\n",
    "from sklearn.ensemble import GradientBoostingClassifier"
   ]
  },
  {
   "cell_type": "code",
   "execution_count": 27,
   "metadata": {
    "collapsed": false
   },
   "outputs": [],
   "source": [
    "import matplotlib.pyplot as plt\n",
    "import numpy as np\n",
    "from sklearn.externals.joblib import Parallel, delayed"
   ]
  },
  {
   "cell_type": "code",
   "execution_count": 28,
   "metadata": {
    "collapsed": false
   },
   "outputs": [],
   "source": [
    "from sklearn.metrics import average_precision_score, precision_recall_curve, f1_score, roc_curve, roc_auc_score"
   ]
  },
  {
   "cell_type": "code",
   "execution_count": 29,
   "metadata": {
    "collapsed": true
   },
   "outputs": [],
   "source": [
    "from sklearn.ensemble import RandomForestClassifier"
   ]
  },
  {
   "cell_type": "code",
   "execution_count": 30,
   "metadata": {
    "collapsed": false
   },
   "outputs": [],
   "source": [
    "from itertools import combinations"
   ]
  },
  {
   "cell_type": "code",
   "execution_count": 31,
   "metadata": {
    "collapsed": false
   },
   "outputs": [
    {
     "data": {
      "text/plain": [
       "True"
      ]
     },
     "execution_count": 31,
     "metadata": {},
     "output_type": "execute_result"
    }
   ],
   "source": [
    "\n"
   ]
  },
  {
   "cell_type": "code",
   "execution_count": 32,
   "metadata": {
    "collapsed": false
   },
   "outputs": [
    {
     "data": {
      "text/plain": [
       "Index(['K562_Ctcf_E', 'K562_Dnase1_E', 'K562_H3k27ac_E', 'K562_H3k27me3_E',\n",
       "       'K562_H3k36me3_E', 'K562_H3k4me2_E', 'K562_H3k9ac_E', 'K562_H4k20me1_E',\n",
       "       'K562_Rad21_E', 'K562_Tbp_E', 'K562_Ctcf_P', 'K562_Dnase1_P',\n",
       "       'K562_H3k27ac_P', 'K562_H3k27me3_P', 'K562_H3k36me3_P',\n",
       "       'K562_H3k4me2_P', 'K562_H3k9ac_P', 'K562_H4k20me1_P', 'K562_Rad21_P',\n",
       "       'K562_Tbp_P', 'K562_Correlation', 'K562_Exp', 'Class'],\n",
       "      dtype='object')"
      ]
     },
     "execution_count": 32,
     "metadata": {},
     "output_type": "execute_result"
    }
   ],
   "source": [
    "pd.read_csv('Ripple/K562_enhanceronly_features.txt', delimiter='\\t').set_index('Pair').columns"
   ]
  },
  {
   "cell_type": "code",
   "execution_count": 33,
   "metadata": {
    "collapsed": false
   },
   "outputs": [],
   "source": [
    "from sklearn.model_selection import cross_val_score, StratifiedKFold, KFold\n",
    "from sklearn.ensemble import GradientBoostingClassifier\n",
    "import numpy as np\n",
    "from sklearn.metrics import average_precision_score, precision_recall_curve, f1_score\n",
    "\n",
    "def aupr_auroc_f1(estimator, X, y):\n",
    "    probs = estimator.predict_proba(X)\n",
    "    preds = estimator.predict(X)\n",
    "    aupr = average_precision_score(y, probs[:,1])\n",
    "    auroc = roc_auc_score(y, probs[:,1])\n",
    "    f1 = f1_score(y, preds)\n",
    "    return aupr, auroc, f1\n",
    "\n",
    "def train_a_ripple(train_data, train_label, test_data, test_label):\n",
    "    rfc = RandomForestClassifier(**params)\n",
    "    rfc.fit(train_data, train_label)\n",
    "    return aupr_auroc_f1(rfc, test_data, test_label)\n",
    "\n",
    "def train_ripple_cv(to_shuffle):\n",
    "    train = pd.read_csv('Ripple/K562_enhanceronly_features.txt', delimiter='\\t').set_index('Pair')\n",
    "    \n",
    "    chrom_info = {}\n",
    "    keys = ['chrom1', 'start1', 'end1', 'chrom2', 'start2', 'end2']\n",
    "    for k in keys:\n",
    "        chrom_info[k] = []\n",
    "\n",
    "    for i in train.index:\n",
    "        chrom1, start1, end1 = i.split('-')[0].split('_')\n",
    "        chrom2, start2, end2 = i.split('-')[1].split('_')\n",
    "        \n",
    "        for k,d in zip(keys, [chrom1, start1, end1, chrom2, start2, end2]):\n",
    "            if d.isdigit():\n",
    "                d = int(d)\n",
    "            chrom_info[k].append(d)\n",
    "        \n",
    "    for k in keys:\n",
    "        train[k] = chrom_info[k]\n",
    "    train = train.sort_values(by=keys)\n",
    "    train = train.drop(keys, axis=1)\n",
    "    \n",
    "    \n",
    "    cv = StratifiedKFold(n_splits = 5, shuffle = to_shuffle, random_state=0)\n",
    "    cv = cv.split(train.iloc[:, :-1], train['Class'])\n",
    "    \n",
    "    tasks = []\n",
    "    for train_idx, test_idx in cv:\n",
    "        tasks.append(delayed(train_a_ripple)(train.ix[train_idx, :-1], train.ix[train_idx, 'Class'],\n",
    "                                        train.ix[test_idx, :-1], train.ix[test_idx, 'Class']))\n",
    "\n",
    "    \n",
    "    with Parallel(n_jobs=20) as parallel:\n",
    "        scores = parallel(tasks)\n",
    "    auprcs = [x[0] for x in scores]\n",
    "    aurocs = [x[1] for x in scores]\n",
    "    f1s = [x[2] for x in scores]\n",
    "\n",
    "    print(\"\\nCV\")\n",
    "    print(np.mean(auprcs), np.mean(aurocs), np.mean(f1s))\n",
    "    print(np.std(auprcs), np.std(aurocs), np.std(f1s))\n",
    "    print('dummy:', np.sum(train['Class'])/train.shape[0])\n",
    "    \n"
   ]
  },
  {
   "cell_type": "code",
   "execution_count": 34,
   "metadata": {
    "collapsed": false
   },
   "outputs": [],
   "source": [
    "def train_ripple_intra():\n",
    "    train = pd.read_csv('Ripple/K562_enhanceronly_features.txt', delimiter='\\t').set_index('Pair')       \n",
    "    train = train.sort_index()\n",
    "    \n",
    "    \n",
    "    total_pos = np.sum(train['Class'])\n",
    "    total_neg = np.sum(train['Class']==0)\n",
    "    all_chrom_counts = {}\n",
    "    print('counting')\n",
    "    for i in train.index:\n",
    "        curr_chrom = i.split('_')[0]+'_'\n",
    "    \n",
    "        if curr_chrom not in all_chrom_counts:\n",
    "            all_chrom_counts[curr_chrom] = [0,0]\n",
    "        if train.loc[i, 'Class'] == 0:\n",
    "            all_chrom_counts[curr_chrom][1] += 1\n",
    "        else:\n",
    "            all_chrom_counts[curr_chrom][0] += 1\n",
    "    all_chroms = sorted(list(all_chrom_counts.keys()))\n",
    "    test_chrom_combs = []\n",
    "    depth = 1\n",
    "    print('starting')\n",
    "    while len(test_chrom_combs) < 100 and depth <= 6:\n",
    "        for temp_chroms in combinations(all_chroms, depth):\n",
    "            if (0.1 <= np.sum([all_chrom_counts[c][0] for c in temp_chroms]) / total_pos <= 0.12 and  \n",
    "               abs(np.sum([all_chrom_counts[c][0] for c in temp_chroms])  / total_pos\n",
    "                   - np.sum([all_chrom_counts[c][1] for c in temp_chroms]) / total_neg) < 0.005):\n",
    "                test_chrom_combs.append(temp_chroms)\n",
    "\n",
    "        depth += 1\n",
    "        print(depth)\n",
    "\n",
    "    np.random.seed(5)\n",
    "    select_idx = np.random.choice(range(len(test_chrom_combs)), size=5, replace=False)\n",
    "    print(len(test_chrom_combs), [test_chrom_combs[i] for i in select_idx])\n",
    "    \n",
    "    tasks = []\n",
    "    dummy_avg = []\n",
    "    for idx in select_idx:\n",
    "        test_chroms = test_chrom_combs[idx]\n",
    "        test_data = train.ix[[i for i in train.index if (i.split('_')[0]+'_') in test_chroms], :-1]\n",
    "        test_labels = train['Class'][test_data.index]\n",
    "\n",
    "        train_data = train.ix[[i for i in train.index if (i.split('_')[0]+'_') not in test_chroms], :-1]\n",
    "        train_labels = train['Class'][train_data.index]\n",
    "\n",
    "        tasks.append(delayed(train_a_ripple)(train_data, train_labels, test_data, test_labels))\n",
    "        dummy_avg.append(np.sum(test_labels) / len(test_labels))\n",
    "    \n",
    "    scores = []\n",
    "    with Parallel(n_jobs=20) as parallel:\n",
    "        scores = parallel(tasks)\n",
    "    auprcs = [x[0] for x in scores]\n",
    "    aurocs = [x[1] for x in scores]\n",
    "    f1s = [x[2] for x in scores]\n",
    "\n",
    "    print(\"\\nIntra\")\n",
    "    print(np.mean(auprcs), np.mean(aurocs), np.mean(f1s))\n",
    "    print(np.std(auprcs), np.std(aurocs), np.std(f1s))\n",
    "    print(\"dummpy\", dummy_avg)"
   ]
  },
  {
   "cell_type": "code",
   "execution_count": 35,
   "metadata": {
    "collapsed": true
   },
   "outputs": [],
   "source": [
    "def train_ripple():\n",
    "    train = pd.read_csv('Ripple/K562_enhanceronly_features.txt', delimiter='\\t').set_index('Pair')  \n",
    "    test = pd.read_csv('Ripple/Gm12878_enhanceronly_features.txt', delimiter='\\t').set_index('Pair')  \n",
    "\n",
    "    train = train.sort_index()\n",
    "    test = test.sort_index()\n",
    "    train_data = train.iloc[:, :-1]\n",
    "    train_labels = train['Class']\n",
    "\n",
    "    test_data = test.iloc[:, :-1]\n",
    "    test_labels = test['Class']\n",
    "    train_data.fillna(0)\n",
    "    test_data.fillna(0)\n",
    "\n",
    "    estimator = RandomForestClassifier(**params)\n",
    "\n",
    "    estimator.fit(train_data, train_labels)\n",
    "    probs = estimator.predict_proba(test_data)\n",
    "    preds = estimator.predict(test_data)\n",
    "    print(\"\\nAcross sample\")\n",
    "    print(average_precision_score(test_labels, probs[:,1]), \n",
    "          roc_auc_score(test_labels, probs[:,1]),\n",
    "          f1_score(test_labels, preds))\n",
    "    print(\"dummpy\", np.sum(test_labels) / len(test_labels))"
   ]
  },
  {
   "cell_type": "code",
   "execution_count": 36,
   "metadata": {
    "collapsed": false
   },
   "outputs": [
    {
     "name": "stdout",
     "output_type": "stream",
     "text": [
      "\n",
      "CV\n",
      "0.75464530765 0.752877349785 0.676818802062\n",
      "0.00777161330026 0.0110298585818 0.023042135997\n",
      "dummy: 0.5\n",
      "\n",
      "CV\n",
      "0.683091982718 0.699613731658 0.616527201545\n",
      "0.043812516669 0.0403435020021 0.0611062651965\n",
      "dummy: 0.5\n",
      "counting\n",
      "starting\n",
      "2\n",
      "3\n",
      "4\n",
      "5\n",
      "6\n",
      "7\n",
      "21 [('chr15_', 'chr19_', 'chr2_'), ('chr12_', 'chr18_', 'chr2_', 'chr6_', 'chr9_'), ('chr15_', 'chr18_', 'chr1_', 'chr20_', 'chr2_'), ('chr12_', 'chr15_', 'chr18_', 'chr1_', 'chr20_', 'chr2_'), ('chr13_', 'chr15_', 'chr18_', 'chr2_', 'chr9_')]\n",
      "\n",
      "Intra\n",
      "0.672483210503 0.704497848216 0.568289529782\n",
      "0.0270166823077 0.0236985597282 0.0333034212136\n",
      "dummpy [0.5116279069767442, 0.5108695652173914, 0.4943820224719101, 0.4972067039106145, 0.5114942528735632]\n",
      "\n",
      "Across sample\n",
      "0.615269432812 0.627239866535 0.556053811659\n",
      "dummpy 0.5\n"
     ]
    }
   ],
   "source": [
    "params = {'n_estimators': 100, 'max_depth':5,\n",
    "          'random_state': 0, 'n_jobs': 10}\n",
    "train_ripple_cv(True)\n",
    "train_ripple_cv(False)\n",
    "train_ripple_intra()\n",
    "train_ripple()"
   ]
  },
  {
   "cell_type": "code",
   "execution_count": 37,
   "metadata": {
    "collapsed": false
   },
   "outputs": [
    {
     "name": "stdout",
     "output_type": "stream",
     "text": [
      "\n",
      "CV\n",
      "0.780234738371 0.775027670771 0.700544091916\n",
      "0.0157370763123 0.015782816643 0.0210420435462\n",
      "dummy: 0.5\n",
      "\n",
      "CV\n",
      "0.639507500497 0.663526241883 0.580053872638\n",
      "0.0457914625376 0.0404446711666 0.0436703388189\n",
      "dummy: 0.5\n",
      "counting\n",
      "starting\n",
      "2\n",
      "3\n",
      "4\n",
      "5\n",
      "6\n",
      "7\n",
      "21 [('chr15_', 'chr19_', 'chr2_'), ('chr12_', 'chr18_', 'chr2_', 'chr6_', 'chr9_'), ('chr15_', 'chr18_', 'chr1_', 'chr20_', 'chr2_'), ('chr12_', 'chr15_', 'chr18_', 'chr1_', 'chr20_', 'chr2_'), ('chr13_', 'chr15_', 'chr18_', 'chr2_', 'chr9_')]\n",
      "\n",
      "Intra\n",
      "0.659336276312 0.677185250802 0.571942192538\n",
      "0.0368875791134 0.0293357148867 0.0277182366242\n",
      "dummpy [0.5116279069767442, 0.5108695652173914, 0.4943820224719101, 0.4972067039106145, 0.5114942528735632]\n",
      "\n",
      "Across sample\n",
      "0.621280228869 0.626610938493 0.55632183908\n",
      "dummpy 0.5\n"
     ]
    }
   ],
   "source": [
    "params = {'n_estimators': 100, 'max_depth': 10,\n",
    "          'random_state': 0, 'n_jobs': 10}\n",
    "train_ripple_cv(True)\n",
    "train_ripple_cv(False)\n",
    "train_ripple_intra()\n",
    "train_ripple()"
   ]
  },
  {
   "cell_type": "code",
   "execution_count": 38,
   "metadata": {
    "collapsed": false
   },
   "outputs": [
    {
     "name": "stdout",
     "output_type": "stream",
     "text": [
      "\n",
      "CV\n",
      "0.745744056321 0.758920322251 0.706144591188\n",
      "0.03044114322 0.0147380275509 0.0166072237148\n",
      "dummy: 0.5\n",
      "\n",
      "CV\n",
      "0.595982917501 0.63047432166 0.566280757576\n",
      "0.0430532699166 0.0456243787915 0.0715501402967\n",
      "dummy: 0.5\n",
      "counting\n",
      "starting\n",
      "2\n",
      "3\n",
      "4\n",
      "5\n",
      "6\n",
      "7\n",
      "21 [('chr15_', 'chr19_', 'chr2_'), ('chr12_', 'chr18_', 'chr2_', 'chr6_', 'chr9_'), ('chr15_', 'chr18_', 'chr1_', 'chr20_', 'chr2_'), ('chr12_', 'chr15_', 'chr18_', 'chr1_', 'chr20_', 'chr2_'), ('chr13_', 'chr15_', 'chr18_', 'chr2_', 'chr9_')]\n",
      "\n",
      "Intra\n",
      "0.652658389926 0.667268157714 0.607743239219\n",
      "0.0407382775971 0.034195565229 0.0218686343758\n",
      "dummpy [0.5116279069767442, 0.5108695652173914, 0.4943820224719101, 0.4972067039106145, 0.5114942528735632]\n",
      "\n",
      "Across sample\n",
      "0.587701798837 0.599845085093 0.552863436123\n",
      "dummpy 0.5\n"
     ]
    }
   ],
   "source": [
    "params = {'n_estimators': 100,\n",
    "          'random_state': 0, 'n_jobs': 10}\n",
    "train_ripple_cv(True)\n",
    "train_ripple_cv(False)\n",
    "train_ripple_intra()\n",
    "train_ripple()"
   ]
  },
  {
   "cell_type": "code",
   "execution_count": null,
   "metadata": {
    "collapsed": false
   },
   "outputs": [],
   "source": []
  },
  {
   "cell_type": "code",
   "execution_count": 39,
   "metadata": {
    "collapsed": false
   },
   "outputs": [],
   "source": [
    "from sklearn.model_selection import GroupKFold"
   ]
  },
  {
   "cell_type": "raw",
   "metadata": {},
   "source": []
  },
  {
   "cell_type": "code",
   "execution_count": null,
   "metadata": {
    "collapsed": false
   },
   "outputs": [],
   "source": []
  },
  {
   "cell_type": "code",
   "execution_count": 40,
   "metadata": {
    "collapsed": false
   },
   "outputs": [],
   "source": [
    "def train_an_jeme(train_data, train_label, test_data, test_label):\n",
    "    rfc = RandomForestClassifier(**params)\n",
    "    rfc.fit(train_data, train_label)\n",
    "    return aupr_auroc_f1(rfc, test_data, test_label)"
   ]
  },
  {
   "cell_type": "code",
   "execution_count": 41,
   "metadata": {
    "collapsed": false
   },
   "outputs": [],
   "source": [
    "def train_jeme_cv(columns, to_shuffle):\n",
    "    train = pd.read_csv('./JEME/K562/all.sw.se.sp.csv').set_index('id3')\n",
    "    train = train.drop(['id1', 'id2'], axis=1)\n",
    "    \n",
    "    #train['id4'] = np.log10(train['id4'])\n",
    "    chrom_info = {}\n",
    "    keys = ['chrom1', 'start1', 'end1', 'chrom2', 'start2', 'end2']\n",
    "    for k in keys:\n",
    "        chrom_info[k] = []\n",
    "    for idx in train.index:\n",
    "        idx = idx.replace(':', ' ').replace('-', ' ').replace('_', ' ').replace('$', ' ').strip()\n",
    "        tokens = idx.split()\n",
    "        for k, d in zip(keys, tokens):\n",
    "            if d.isdigit():\n",
    "                d = int(d)\n",
    "            chrom_info[k].append(d)\n",
    "\n",
    "    for k in keys:\n",
    "        train[k] = chrom_info[k]\n",
    "    train = train.sort_values(by=keys)\n",
    "    train = train.drop(keys, axis=1)\n",
    "    cv = StratifiedKFold(n_splits = 10, shuffle=to_shuffle, random_state = 0)\n",
    "    cv = cv.split(train.loc[:, columns], train['id21'])\n",
    "\n",
    "    \n",
    "    tasks = []\n",
    "    for train_idx, test_idx in cv:\n",
    "        tasks.append(delayed(train_an_jeme)(train.ix[train_idx, columns], train.ix[train_idx, 'id21'],\n",
    "                                        train.ix[test_idx, columns], train.ix[test_idx, 'id21']))\n",
    "    \n",
    "    with Parallel(n_jobs=20) as parallel:\n",
    "        scores = parallel(tasks)\n",
    "    auprcs = [x[0] for x in scores]\n",
    "    aurocs = [x[1] for x in scores]\n",
    "    f1s = [x[2] for x in scores]\n",
    "\n",
    "    print(\"\\nCV\")\n",
    "    print(np.mean(auprcs), np.mean(aurocs), np.mean(f1s))\n",
    "    print(np.std(auprcs), np.std(aurocs), np.std(f1s))\n",
    "    print('dummy:', np.sum(train['id21'])/train.shape[0])\n",
    "\n"
   ]
  },
  {
   "cell_type": "code",
   "execution_count": 42,
   "metadata": {
    "collapsed": true
   },
   "outputs": [],
   "source": [
    "def train_jeme_intra(columns):\n",
    "    train = pd.read_csv('./JEME/K562/all.sw.se.sp.csv').set_index('id3')\n",
    "    train = train.drop(['id1', 'id2'], axis=1)\n",
    "    #train['id4'] = np.log10(train['id4'])\n",
    "    \n",
    "    total_pos = np.sum(train['id21'])\n",
    "    total_neg = np.sum(train['id21']==0)\n",
    "    all_chrom_counts = {}\n",
    "    print('counting')\n",
    "    for i in train.index:\n",
    "        curr_chrom = i.split(':')[0]+':'\n",
    "    \n",
    "        if curr_chrom not in all_chrom_counts:\n",
    "            all_chrom_counts[curr_chrom] = [0,0]\n",
    "        if train.loc[i, 'id21'] == 0:\n",
    "            all_chrom_counts[curr_chrom][1] += 1\n",
    "        else:\n",
    "            all_chrom_counts[curr_chrom][0] += 1\n",
    "    all_chroms = sorted(list(all_chrom_counts.keys()))\n",
    "    test_chrom_combs = []\n",
    "    depth = 1\n",
    "    print('starting')\n",
    "    while len(test_chrom_combs) < 100 and depth <= 6:\n",
    "        for temp_chroms in combinations(all_chroms, depth):\n",
    "            if (0.1 <= np.sum([all_chrom_counts[c][0] for c in temp_chroms]) / total_pos <= 0.12 and  \n",
    "               abs(np.sum([all_chrom_counts[c][0] for c in temp_chroms])  / total_pos\n",
    "                   - np.sum([all_chrom_counts[c][1] for c in temp_chroms]) / total_neg) < 0.005):\n",
    "                test_chrom_combs.append(tuple(sorted(list(temp_chroms))))\n",
    "\n",
    "        depth += 1\n",
    "        print(depth)\n",
    "    np.random.seed(5)\n",
    "    select_idx = np.random.choice(range(len(test_chrom_combs)), size=5, replace=False)\n",
    "    print(len(test_chrom_combs), [test_chrom_combs[i] for i in select_idx])\n",
    "    #print(*test_chrom_combs, sep='\\n')\n",
    "    tasks = []\n",
    "    dummy_avg = []\n",
    "    for idx in select_idx:\n",
    "        test_chroms = test_chrom_combs[idx]\n",
    "        test_data = train.loc[[i for i in train.index if (i.split(':')[0]+':') in test_chroms], columns]\n",
    "        test_labels = train['id21'][test_data.index]\n",
    "\n",
    "        train_data = train.loc[[i for i in train.index if (i.split(':')[0]+':') not in test_chroms], columns]\n",
    "        train_labels = train['id21'][train_data.index]\n",
    "        \n",
    "        tasks.append(delayed(train_an_jeme)(train_data, train_labels, test_data, test_labels))\n",
    "        dummy_avg.append(np.sum(test_labels) / len(test_labels))\n",
    "        \n",
    "    scores = []\n",
    "    with Parallel(n_jobs=20) as parallel:\n",
    "        scores = parallel(tasks)\n",
    "    auprcs = [x[0] for x in scores]\n",
    "    aurocs = [x[1] for x in scores]\n",
    "    f1s = [x[2] for x in scores]\n",
    "    print(\"\\nIntra\")\n",
    "    print(np.mean(auprcs), np.mean(aurocs), np.mean(f1s))\n",
    "    print(np.std(auprcs), np.std(aurocs), np.std(f1s))\n",
    "    print(\"dummpy\", dummy_avg)\n",
    "    "
   ]
  },
  {
   "cell_type": "code",
   "execution_count": 43,
   "metadata": {
    "collapsed": false,
    "scrolled": true
   },
   "outputs": [],
   "source": [
    "def train_jeme(columns):\n",
    "    train = pd.read_csv('./JEME/K562/all.sw.se.sp.csv').set_index('id3')\n",
    "    train = train.drop(['id1', 'id2'], axis=1)\n",
    "\n",
    "    #train['id4'] = np.log10(train['id4'])\n",
    "    test = pd.read_csv('./JEME/GM12878/all.sw.se.sp.csv').set_index('id3')\n",
    "    test = test.drop(['id1', 'id2'], axis=1)\n",
    "\n",
    "    \n",
    "    train_data = train.loc[:, columns]\n",
    "\n",
    "    test_data = test.loc[:, columns]\n",
    "    \n",
    "    train_labels = train['id21']\n",
    "\n",
    "    test_labels = test['id21']\n",
    "    \n",
    "    rfc = RandomForestClassifier(**params)\n",
    "    rfc.fit(train_data, train_labels)\n",
    "    probs = rfc.predict_proba(test_data)\n",
    "    preds = rfc.predict(test_data)\n",
    "    print(\"\\n\\nAcross sample\")\n",
    "    print(average_precision_score(test_labels, probs[:,1]), \n",
    "          roc_auc_score(test_labels, probs[:,1]),\n",
    "          f1_score(test_labels, preds))\n",
    "    print(\"dummpy\", np.sum(test_labels) / len(test_labels))"
   ]
  },
  {
   "cell_type": "code",
   "execution_count": 44,
   "metadata": {
    "collapsed": false
   },
   "outputs": [
    {
     "name": "stdout",
     "output_type": "stream",
     "text": [
      "\n",
      "CV\n",
      "0.729086701269 0.732053817005 0.666088916824\n",
      "0.0533687966743 0.0446064110067 0.0354302043885\n",
      "dummy: 0.5\n",
      "\n",
      "CV\n",
      "0.611291158357 0.6061264722 0.516566175247\n",
      "0.10458039017 0.0919488630794 0.117698239541\n",
      "dummy: 0.5\n",
      "counting\n",
      "starting\n",
      "2\n",
      "3\n",
      "4\n",
      "5\n",
      "6\n",
      "7\n",
      "21 [('chr15:', 'chr19:', 'chr2:'), ('chr12:', 'chr18:', 'chr2:', 'chr6:', 'chr9:'), ('chr15:', 'chr18:', 'chr1:', 'chr20:', 'chr2:'), ('chr12:', 'chr15:', 'chr18:', 'chr1:', 'chr20:', 'chr2:'), ('chr13:', 'chr15:', 'chr18:', 'chr2:', 'chr9:')]\n",
      "\n",
      "Intra\n",
      "0.643132210386 0.669881260493 0.60036604607\n",
      "0.0612710609394 0.0559785326427 0.0678534176746\n",
      "dummpy [0.5116279069767442, 0.5108695652173914, 0.4943820224719101, 0.4972067039106145, 0.5114942528735632]\n",
      "\n",
      "\n",
      "Across sample\n",
      "0.571212969747 0.586725866817 0.492462311558\n",
      "dummpy 0.5\n"
     ]
    }
   ],
   "source": [
    "columns = ['id%d' % i for i in range(4,21)]\n",
    "params = {'n_estimators': 100, 'max_depth': 5,\n",
    "          'random_state': 0, 'n_jobs': 10}\n",
    "train_jeme_cv(columns, to_shuffle=True)\n",
    "train_jeme_cv(columns, to_shuffle=False)\n",
    "train_jeme_intra(columns)\n",
    "train_jeme(columns)"
   ]
  },
  {
   "cell_type": "code",
   "execution_count": 45,
   "metadata": {
    "collapsed": false
   },
   "outputs": [
    {
     "name": "stdout",
     "output_type": "stream",
     "text": [
      "\n",
      "CV\n",
      "0.804452734062 0.802589781107 0.732451597615\n",
      "0.0404027992232 0.0396125252158 0.0414921944906\n",
      "dummy: 0.5\n",
      "\n",
      "CV\n",
      "0.574176641458 0.578786568528 0.498301790266\n",
      "0.0736934318973 0.0827354859405 0.120504536011\n",
      "dummy: 0.5\n",
      "counting\n",
      "starting\n",
      "2\n",
      "3\n",
      "4\n",
      "5\n",
      "6\n",
      "7\n",
      "21 [('chr15:', 'chr19:', 'chr2:'), ('chr12:', 'chr18:', 'chr2:', 'chr6:', 'chr9:'), ('chr15:', 'chr18:', 'chr1:', 'chr20:', 'chr2:'), ('chr12:', 'chr15:', 'chr18:', 'chr1:', 'chr20:', 'chr2:'), ('chr13:', 'chr15:', 'chr18:', 'chr2:', 'chr9:')]\n",
      "\n",
      "Intra\n",
      "0.639147034409 0.65224198973 0.571496079034\n",
      "0.062008599452 0.0620972700262 0.0594138135822\n",
      "dummpy [0.5116279069767442, 0.5108695652173914, 0.4943820224719101, 0.4972067039106145, 0.5114942528735632]\n",
      "\n",
      "\n",
      "Across sample\n",
      "0.593928132403 0.611101793659 0.472114137484\n",
      "dummpy 0.5\n"
     ]
    }
   ],
   "source": [
    "columns = ['id%d' % i for i in range(4,21)]\n",
    "params = {'n_estimators': 100, 'max_depth': 10,\n",
    "          'random_state': 0, 'n_jobs': 10}\n",
    "train_jeme_cv(columns, to_shuffle=True)\n",
    "train_jeme_cv(columns, to_shuffle=False)\n",
    "train_jeme_intra(columns)\n",
    "train_jeme(columns)"
   ]
  },
  {
   "cell_type": "code",
   "execution_count": 46,
   "metadata": {
    "collapsed": false
   },
   "outputs": [
    {
     "name": "stdout",
     "output_type": "stream",
     "text": [
      "\n",
      "CV\n",
      "0.827243464188 0.819659637533 0.743567427311\n",
      "0.0321790064938 0.0301525389893 0.0305098804467\n",
      "dummy: 0.5\n",
      "\n",
      "CV\n",
      "0.558185447502 0.566090261604 0.478060740791\n",
      "0.0558525777445 0.0725819853046 0.127839848993\n",
      "dummy: 0.5\n",
      "counting\n",
      "starting\n",
      "2\n",
      "3\n",
      "4\n",
      "5\n",
      "6\n",
      "7\n",
      "21 [('chr15:', 'chr19:', 'chr2:'), ('chr12:', 'chr18:', 'chr2:', 'chr6:', 'chr9:'), ('chr15:', 'chr18:', 'chr1:', 'chr20:', 'chr2:'), ('chr12:', 'chr15:', 'chr18:', 'chr1:', 'chr20:', 'chr2:'), ('chr13:', 'chr15:', 'chr18:', 'chr2:', 'chr9:')]\n",
      "\n",
      "Intra\n",
      "0.621062195521 0.63802793835 0.536753552304\n",
      "0.0503058113112 0.0591658244868 0.0377163878419\n",
      "dummpy [0.5116279069767442, 0.5108695652173914, 0.4943820224719101, 0.4972067039106145, 0.5114942528735632]\n",
      "\n",
      "\n",
      "Across sample\n",
      "0.602891857987 0.619046147871 0.473544973545\n",
      "dummpy 0.5\n"
     ]
    }
   ],
   "source": [
    "columns = ['id%d' % i for i in range(4,21)]\n",
    "params = {'n_estimators': 100,\n",
    "          'random_state': 0, 'n_jobs': 10}\n",
    "train_jeme_cv(columns, to_shuffle=True)\n",
    "train_jeme_cv(columns, to_shuffle=False)\n",
    "train_jeme_intra(columns)\n",
    "train_jeme(columns)"
   ]
  },
  {
   "cell_type": "code",
   "execution_count": 47,
   "metadata": {
    "collapsed": false
   },
   "outputs": [
    {
     "name": "stdout",
     "output_type": "stream",
     "text": [
      "\n",
      "CV\n",
      "0.470772325613 0.447067960473 0.49758507933\n",
      "0.0396321276142 0.0373928634146 0.0440833199728\n",
      "dummy: 0.5\n",
      "\n",
      "CV\n",
      "0.448329571436 0.403788854658 0.452279377673\n",
      "0.0378981079787 0.0514050185573 0.0445279840315\n",
      "dummy: 0.5\n",
      "counting\n",
      "starting\n",
      "2\n",
      "3\n",
      "4\n",
      "5\n",
      "6\n",
      "7\n",
      "21 [('chr15:', 'chr19:', 'chr2:'), ('chr12:', 'chr18:', 'chr2:', 'chr6:', 'chr9:'), ('chr15:', 'chr18:', 'chr1:', 'chr20:', 'chr2:'), ('chr12:', 'chr15:', 'chr18:', 'chr1:', 'chr20:', 'chr2:'), ('chr13:', 'chr15:', 'chr18:', 'chr2:', 'chr9:')]\n",
      "\n",
      "Intra\n",
      "0.507934476512 0.518333927338 0.510988359298\n",
      "0.0196076165426 0.0234404116422 0.024868919591\n",
      "dummpy [0.5116279069767442, 0.5108695652173914, 0.4943820224719101, 0.4972067039106145, 0.5114942528735632]\n",
      "\n",
      "\n",
      "Across sample\n",
      "0.512598792252 0.531976025704 0.590785907859\n",
      "dummpy 0.5\n"
     ]
    }
   ],
   "source": [
    "columns = ['id4']\n",
    "params = {'n_estimators': 100, 'max_depth': 5,\n",
    "          'random_state': 0, 'n_jobs': 10}\n",
    "train_jeme_cv(columns, to_shuffle=True)\n",
    "train_jeme_cv(columns, to_shuffle=False)\n",
    "train_jeme_intra(columns)\n",
    "train_jeme(columns)"
   ]
  },
  {
   "cell_type": "code",
   "execution_count": 48,
   "metadata": {
    "collapsed": false
   },
   "outputs": [
    {
     "name": "stdout",
     "output_type": "stream",
     "text": [
      "\n",
      "CV\n",
      "0.492496063439 0.477969186583 0.495546836624\n",
      "0.0427338971079 0.046705881004 0.031869001676\n",
      "dummy: 0.5\n",
      "\n",
      "CV\n",
      "0.47871166762 0.4546595495 0.46867613929\n",
      "0.0410318402406 0.044713372336 0.030206652581\n",
      "dummy: 0.5\n",
      "counting\n",
      "starting\n",
      "2\n",
      "3\n",
      "4\n",
      "5\n",
      "6\n",
      "7\n",
      "21 [('chr15:', 'chr19:', 'chr2:'), ('chr12:', 'chr18:', 'chr2:', 'chr6:', 'chr9:'), ('chr15:', 'chr18:', 'chr1:', 'chr20:', 'chr2:'), ('chr12:', 'chr15:', 'chr18:', 'chr1:', 'chr20:', 'chr2:'), ('chr13:', 'chr15:', 'chr18:', 'chr2:', 'chr9:')]\n",
      "\n",
      "Intra\n",
      "0.521945613181 0.522564866363 0.508532927587\n",
      "0.0126825753183 0.00325062914136 0.0336690596476\n",
      "dummpy [0.5116279069767442, 0.5108695652173914, 0.4943820224719101, 0.4972067039106145, 0.5114942528735632]\n",
      "\n",
      "\n",
      "Across sample\n",
      "0.539122783158 0.558664642328 0.585034013605\n",
      "dummpy 0.5\n"
     ]
    }
   ],
   "source": [
    "columns = ['id4']\n",
    "params = {'n_estimators': 100, 'max_depth': 10,\n",
    "          'random_state': 0, 'n_jobs': 10}\n",
    "train_jeme_cv(columns, to_shuffle=True)\n",
    "train_jeme_cv(columns, to_shuffle=False)\n",
    "train_jeme_intra(columns)\n",
    "train_jeme(columns)"
   ]
  },
  {
   "cell_type": "code",
   "execution_count": 49,
   "metadata": {
    "collapsed": false
   },
   "outputs": [
    {
     "name": "stdout",
     "output_type": "stream",
     "text": [
      "\n",
      "CV\n",
      "0.505497109936 0.503571475245 0.50415182483\n",
      "0.0308195277629 0.0407103661196 0.0369178410153\n",
      "dummy: 0.5\n",
      "\n",
      "CV\n",
      "0.506051876671 0.48926582142 0.489958239436\n",
      "0.0401476045732 0.0441213999732 0.0443105143618\n",
      "dummy: 0.5\n",
      "counting\n",
      "starting\n",
      "2\n",
      "3\n",
      "4\n",
      "5\n",
      "6\n",
      "7\n",
      "21 [('chr15:', 'chr19:', 'chr2:'), ('chr12:', 'chr18:', 'chr2:', 'chr6:', 'chr9:'), ('chr15:', 'chr18:', 'chr1:', 'chr20:', 'chr2:'), ('chr12:', 'chr15:', 'chr18:', 'chr1:', 'chr20:', 'chr2:'), ('chr13:', 'chr15:', 'chr18:', 'chr2:', 'chr9:')]\n",
      "\n",
      "Intra\n",
      "0.534523773008 0.527013031199 0.527301953673\n",
      "0.0379145818249 0.025889187314 0.0215051735537\n",
      "dummpy [0.5116279069767442, 0.5108695652173914, 0.4943820224719101, 0.4972067039106145, 0.5114942528735632]\n",
      "\n",
      "\n",
      "Across sample\n",
      "0.550498644332 0.571013699597 0.603297769156\n",
      "dummpy 0.5\n"
     ]
    }
   ],
   "source": [
    "columns = ['id4']\n",
    "params = {'n_estimators': 100,\n",
    "          'random_state': 0, 'n_jobs': 10}\n",
    "train_jeme_cv(columns, to_shuffle=True)\n",
    "train_jeme_cv(columns, to_shuffle=False)\n",
    "train_jeme_intra(columns)\n",
    "train_jeme(columns)"
   ]
  },
  {
   "cell_type": "code",
   "execution_count": 50,
   "metadata": {
    "collapsed": false
   },
   "outputs": [
    {
     "name": "stdout",
     "output_type": "stream",
     "text": [
      "\n",
      "CV\n",
      "0.735463679331 0.73362116906 0.681357961695\n",
      "0.0466427056962 0.0445375898041 0.0361446928632\n",
      "dummy: 0.5\n",
      "\n",
      "CV\n",
      "0.60716551485 0.604943531221 0.530278043434\n",
      "0.112689928428 0.104928962889 0.127246777669\n",
      "dummy: 0.5\n",
      "counting\n",
      "starting\n",
      "2\n",
      "3\n",
      "4\n",
      "5\n",
      "6\n",
      "7\n",
      "21 [('chr15:', 'chr19:', 'chr2:'), ('chr12:', 'chr18:', 'chr2:', 'chr6:', 'chr9:'), ('chr15:', 'chr18:', 'chr1:', 'chr20:', 'chr2:'), ('chr12:', 'chr15:', 'chr18:', 'chr1:', 'chr20:', 'chr2:'), ('chr13:', 'chr15:', 'chr18:', 'chr2:', 'chr9:')]\n",
      "\n",
      "Intra\n",
      "0.649949341891 0.678185212211 0.601643497994\n",
      "0.0721798553112 0.0613230741772 0.0816711532937\n",
      "dummpy [0.5116279069767442, 0.5108695652173914, 0.4943820224719101, 0.4972067039106145, 0.5114942528735632]\n",
      "\n",
      "\n",
      "Across sample\n",
      "0.565977762993 0.587520302239 0.520481927711\n",
      "dummpy 0.5\n"
     ]
    }
   ],
   "source": [
    "columns = ['id%d' % i for i in range(5,21)]\n",
    "params = {'n_estimators': 100, 'max_depth':5,\n",
    "          'random_state': 0, 'n_jobs': 10}\n",
    "train_jeme_cv(columns, to_shuffle=True)\n",
    "train_jeme_cv(columns, to_shuffle=False)\n",
    "train_jeme_intra(columns)\n",
    "train_jeme(columns)"
   ]
  },
  {
   "cell_type": "code",
   "execution_count": 51,
   "metadata": {
    "collapsed": false
   },
   "outputs": [
    {
     "name": "stdout",
     "output_type": "stream",
     "text": [
      "\n",
      "CV\n",
      "0.809488437764 0.801505292152 0.731238997251\n",
      "0.0392806450449 0.0401230127686 0.0394380058882\n",
      "dummy: 0.5\n",
      "\n",
      "CV\n",
      "0.572765022538 0.57890271247 0.511763961391\n",
      "0.0725574277148 0.0758051146763 0.107569264042\n",
      "dummy: 0.5\n",
      "counting\n",
      "starting\n",
      "2\n",
      "3\n",
      "4\n",
      "5\n",
      "6\n",
      "7\n",
      "21 [('chr15:', 'chr19:', 'chr2:'), ('chr12:', 'chr18:', 'chr2:', 'chr6:', 'chr9:'), ('chr15:', 'chr18:', 'chr1:', 'chr20:', 'chr2:'), ('chr12:', 'chr15:', 'chr18:', 'chr1:', 'chr20:', 'chr2:'), ('chr13:', 'chr15:', 'chr18:', 'chr2:', 'chr9:')]\n",
      "\n",
      "Intra\n",
      "0.638817304126 0.647621816368 0.578255591142\n",
      "0.0460693183849 0.051880668119 0.0610732128958\n",
      "dummpy [0.5116279069767442, 0.5108695652173914, 0.4943820224719101, 0.4972067039106145, 0.5114942528735632]\n",
      "\n",
      "\n",
      "Across sample\n",
      "0.579937327613 0.607442977191 0.496240601504\n",
      "dummpy 0.5\n"
     ]
    }
   ],
   "source": [
    "columns = ['id%d' % i for i in range(5,21)]\n",
    "params = {'n_estimators': 100,'max_depth':10,\n",
    "          'random_state': 0, 'n_jobs': 10}\n",
    "train_jeme_cv(columns, to_shuffle=True)\n",
    "train_jeme_cv(columns, to_shuffle=False)\n",
    "train_jeme_intra(columns)\n",
    "train_jeme(columns)"
   ]
  },
  {
   "cell_type": "code",
   "execution_count": 52,
   "metadata": {
    "collapsed": false
   },
   "outputs": [
    {
     "name": "stdout",
     "output_type": "stream",
     "text": [
      "\n",
      "CV\n",
      "0.823471414485 0.818724286154 0.746840819055\n",
      "0.0405853369752 0.0373765893075 0.0248934502391\n",
      "dummy: 0.5\n",
      "\n",
      "CV\n",
      "0.554480032808 0.558104740792 0.470534666154\n",
      "0.0640226678795 0.0798356919353 0.132802576578\n",
      "dummy: 0.5\n",
      "counting\n",
      "starting\n",
      "2\n",
      "3\n",
      "4\n",
      "5\n",
      "6\n",
      "7\n",
      "21 [('chr15:', 'chr19:', 'chr2:'), ('chr12:', 'chr18:', 'chr2:', 'chr6:', 'chr9:'), ('chr15:', 'chr18:', 'chr1:', 'chr20:', 'chr2:'), ('chr12:', 'chr15:', 'chr18:', 'chr1:', 'chr20:', 'chr2:'), ('chr13:', 'chr15:', 'chr18:', 'chr2:', 'chr9:')]\n",
      "\n",
      "Intra\n",
      "0.616990052978 0.63811877916 0.563502584811\n",
      "0.0274763683226 0.0383695407715 0.0444021117326\n",
      "dummpy [0.5116279069767442, 0.5108695652173914, 0.4943820224719101, 0.4972067039106145, 0.5114942528735632]\n",
      "\n",
      "\n",
      "Across sample\n",
      "0.595378213203 0.61771105501 0.479685452163\n",
      "dummpy 0.5\n"
     ]
    }
   ],
   "source": [
    "columns = ['id%d' % i for i in range(5,21)]\n",
    "params = {'n_estimators': 100,\n",
    "          'random_state': 0, 'n_jobs': 10}\n",
    "train_jeme_cv(columns, to_shuffle=True)\n",
    "train_jeme_cv(columns, to_shuffle=False)\n",
    "train_jeme_intra(columns)\n",
    "train_jeme(columns)"
   ]
  },
  {
   "cell_type": "code",
   "execution_count": 53,
   "metadata": {
    "collapsed": false
   },
   "outputs": [
    {
     "name": "stdout",
     "output_type": "stream",
     "text": [
      "5\n",
      "\n",
      "CV\n",
      "0.732479459648 0.736341901067 0.665526999385\n",
      "0.0525125491019 0.0457645605712 0.0482650743767\n",
      "dummy: 0.5\n",
      "\n",
      "CV\n",
      "0.599076168607 0.597800654093 0.505204989619\n",
      "0.0947706252899 0.0987324588283 0.121155584469\n",
      "dummy: 0.5\n",
      "counting\n",
      "starting\n",
      "2\n",
      "3\n",
      "4\n",
      "5\n",
      "6\n",
      "7\n",
      "21 [('chr15:', 'chr19:', 'chr2:'), ('chr12:', 'chr18:', 'chr2:', 'chr6:', 'chr9:'), ('chr15:', 'chr18:', 'chr1:', 'chr20:', 'chr2:'), ('chr12:', 'chr15:', 'chr18:', 'chr1:', 'chr20:', 'chr2:'), ('chr13:', 'chr15:', 'chr18:', 'chr2:', 'chr9:')]\n",
      "\n",
      "Intra\n",
      "0.630737742188 0.657695634386 0.570849031478\n",
      "0.0521297217849 0.0576864216164 0.0686879106163\n",
      "dummpy [0.5116279069767442, 0.5108695652173914, 0.4943820224719101, 0.4972067039106145, 0.5114942528735632]\n",
      "\n",
      "\n",
      "Across sample\n",
      "0.583316224589 0.612540604477 0.516443361754\n",
      "dummpy 0.5\n",
      "\n",
      "\n",
      "10\n",
      "\n",
      "CV\n",
      "0.801486306072 0.798938397937 0.723428953676\n",
      "0.0464282455046 0.0458482672514 0.0500057340913\n",
      "dummy: 0.5\n",
      "\n",
      "CV\n",
      "0.564062310004 0.566221115258 0.471484767155\n",
      "0.0683660312631 0.0873084026718 0.131665799007\n",
      "dummy: 0.5\n",
      "counting\n",
      "starting\n",
      "2\n",
      "3\n",
      "4\n",
      "5\n",
      "6\n",
      "7\n",
      "21 [('chr15:', 'chr19:', 'chr2:'), ('chr12:', 'chr18:', 'chr2:', 'chr6:', 'chr9:'), ('chr15:', 'chr18:', 'chr1:', 'chr20:', 'chr2:'), ('chr12:', 'chr15:', 'chr18:', 'chr1:', 'chr20:', 'chr2:'), ('chr13:', 'chr15:', 'chr18:', 'chr2:', 'chr9:')]\n",
      "\n",
      "Intra\n",
      "0.605508697665 0.612647774911 0.515628436045\n",
      "0.0380526505767 0.0445136103638 0.0458429598436\n",
      "dummpy [0.5116279069767442, 0.5108695652173914, 0.4943820224719101, 0.4972067039106145, 0.5114942528735632]\n",
      "\n",
      "\n",
      "Across sample\n",
      "0.633328661842 0.651401737165 0.522727272727\n",
      "dummpy 0.5\n",
      "\n",
      "\n",
      "None\n",
      "\n",
      "CV\n",
      "0.826277541561 0.819168448825 0.73719001776\n",
      "0.0446809060356 0.0392558306031 0.0420528004938\n",
      "dummy: 0.5\n",
      "\n",
      "CV\n",
      "0.540935850353 0.546452092369 0.447649435341\n",
      "0.0495335557898 0.0803890871167 0.123260965946\n",
      "dummy: 0.5\n",
      "counting\n",
      "starting\n",
      "2\n",
      "3\n",
      "4\n",
      "5\n",
      "6\n",
      "7\n",
      "21 [('chr15:', 'chr19:', 'chr2:'), ('chr12:', 'chr18:', 'chr2:', 'chr6:', 'chr9:'), ('chr15:', 'chr18:', 'chr1:', 'chr20:', 'chr2:'), ('chr12:', 'chr15:', 'chr18:', 'chr1:', 'chr20:', 'chr2:'), ('chr13:', 'chr15:', 'chr18:', 'chr2:', 'chr9:')]\n",
      "\n",
      "Intra\n",
      "0.595587881039 0.598722096991 0.46873777052\n",
      "0.0407525382085 0.0517885032372 0.0566305145238\n",
      "dummpy [0.5116279069767442, 0.5108695652173914, 0.4943820224719101, 0.4972067039106145, 0.5114942528735632]\n",
      "\n",
      "\n",
      "Across sample\n",
      "0.650220546348 0.656238966175 0.535714285714\n",
      "dummpy 0.5\n",
      "\n",
      "\n"
     ]
    }
   ],
   "source": [
    "columns = ['id%d' % i for i in range(9,21)]\n",
    "for i in [5,10,None]:\n",
    "    print(i)\n",
    "    params = {'n_estimators': 100, 'max_depth': i,\n",
    "              'random_state': 0, 'n_jobs': 10}\n",
    "    train_jeme_cv(columns, to_shuffle=True)\n",
    "    train_jeme_cv(columns, to_shuffle=False)\n",
    "    train_jeme_intra(columns)\n",
    "    train_jeme(columns)\n",
    "    print('\\n')"
   ]
  },
  {
   "cell_type": "code",
   "execution_count": 54,
   "metadata": {
    "collapsed": false
   },
   "outputs": [
    {
     "name": "stdout",
     "output_type": "stream",
     "text": [
      "5\n",
      "\n",
      "CV\n",
      "0.729646005839 0.731660000379 0.66981708908\n",
      "0.0479909135586 0.0458610996244 0.0419223296386\n",
      "dummy: 0.5\n",
      "\n",
      "CV\n",
      "0.603042737689 0.601381796767 0.519487927576\n",
      "0.0979219610495 0.0917212872535 0.114740335174\n",
      "dummy: 0.5\n",
      "counting\n",
      "starting\n",
      "2\n",
      "3\n",
      "4\n",
      "5\n",
      "6\n",
      "7\n",
      "21 [('chr15:', 'chr19:', 'chr2:'), ('chr12:', 'chr18:', 'chr2:', 'chr6:', 'chr9:'), ('chr15:', 'chr18:', 'chr1:', 'chr20:', 'chr2:'), ('chr12:', 'chr15:', 'chr18:', 'chr1:', 'chr20:', 'chr2:'), ('chr13:', 'chr15:', 'chr18:', 'chr2:', 'chr9:')]\n",
      "\n",
      "Intra\n",
      "0.641061069251 0.662964286034 0.563682752568\n",
      "0.0734384733057 0.0631077803899 0.0726608182869\n",
      "dummpy [0.5116279069767442, 0.5108695652173914, 0.4943820224719101, 0.4972067039106145, 0.5114942528735632]\n",
      "\n",
      "\n",
      "Across sample\n",
      "0.579275786855 0.614835640138 0.523751522533\n",
      "dummpy 0.5\n",
      "\n",
      "\n",
      "10\n",
      "\n",
      "CV\n",
      "0.802413677634 0.79863101921 0.726384671643\n",
      "0.0429945755958 0.0429297281852 0.0381934408636\n",
      "dummy: 0.5\n",
      "\n",
      "CV\n",
      "0.565432111979 0.559926776275 0.465159258293\n",
      "0.0795740218474 0.0849130121967 0.124325192351\n",
      "dummy: 0.5\n",
      "counting\n",
      "starting\n",
      "2\n",
      "3\n",
      "4\n",
      "5\n",
      "6\n",
      "7\n",
      "21 [('chr15:', 'chr19:', 'chr2:'), ('chr12:', 'chr18:', 'chr2:', 'chr6:', 'chr9:'), ('chr15:', 'chr18:', 'chr1:', 'chr20:', 'chr2:'), ('chr12:', 'chr15:', 'chr18:', 'chr1:', 'chr20:', 'chr2:'), ('chr13:', 'chr15:', 'chr18:', 'chr2:', 'chr9:')]\n",
      "\n",
      "Intra\n",
      "0.615608980669 0.628751032317 0.528770509425\n",
      "0.0433860239068 0.0481196401475 0.0680149509301\n",
      "dummpy [0.5116279069767442, 0.5108695652173914, 0.4943820224719101, 0.4972067039106145, 0.5114942528735632]\n",
      "\n",
      "\n",
      "Across sample\n",
      "0.637697851861 0.645174246169 0.536464771323\n",
      "dummpy 0.5\n",
      "\n",
      "\n",
      "None\n",
      "\n",
      "CV\n",
      "0.828611973125 0.82874591721 0.746827257677\n",
      "0.0366815790659 0.0323208923897 0.0315696919824\n",
      "dummy: 0.5\n",
      "\n",
      "CV\n",
      "0.538511943683 0.544608972453 0.447119537524\n",
      "0.0562929646297 0.0766678072291 0.126706042155\n",
      "dummy: 0.5\n",
      "counting\n",
      "starting\n",
      "2\n",
      "3\n",
      "4\n",
      "5\n",
      "6\n",
      "7\n",
      "21 [('chr15:', 'chr19:', 'chr2:'), ('chr12:', 'chr18:', 'chr2:', 'chr6:', 'chr9:'), ('chr15:', 'chr18:', 'chr1:', 'chr20:', 'chr2:'), ('chr12:', 'chr15:', 'chr18:', 'chr1:', 'chr20:', 'chr2:'), ('chr13:', 'chr15:', 'chr18:', 'chr2:', 'chr9:')]\n",
      "\n",
      "Intra\n",
      "0.596740638894 0.605717244716 0.47703317844\n",
      "0.0455606471175 0.0547266958301 0.0575080493011\n",
      "dummpy [0.5116279069767442, 0.5108695652173914, 0.4943820224719101, 0.4972067039106145, 0.5114942528735632]\n",
      "\n",
      "\n",
      "Across sample\n",
      "0.666635641925 0.66319027611 0.570719602978\n",
      "dummpy 0.5\n",
      "\n",
      "\n"
     ]
    }
   ],
   "source": [
    "columns = ['id%d' % i for i in range(9,21)] + ['id4']\n",
    "for i in [5,10,None]:\n",
    "    print(i)\n",
    "    params = {'n_estimators': 100, 'max_depth': i,\n",
    "              'random_state': 0, 'n_jobs': 10}\n",
    "    train_jeme_cv(columns, to_shuffle=True)\n",
    "    train_jeme_cv(columns, to_shuffle=False)\n",
    "    train_jeme_intra(columns)\n",
    "    train_jeme(columns)\n",
    "    print('\\n')"
   ]
  }
 ],
 "metadata": {
  "anaconda-cloud": {},
  "kernelspec": {
   "display_name": "Python [Root]",
   "language": "python",
   "name": "Python [Root]"
  },
  "language_info": {
   "codemirror_mode": {
    "name": "ipython",
    "version": 3
   },
   "file_extension": ".py",
   "mimetype": "text/x-python",
   "name": "python",
   "nbconvert_exporter": "python",
   "pygments_lexer": "ipython3",
   "version": "3.5.2"
  }
 },
 "nbformat": 4,
 "nbformat_minor": 0
}
