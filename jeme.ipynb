{
 "cells": [
  {
   "cell_type": "code",
   "execution_count": 1,
   "metadata": {
    "collapsed": true
   },
   "outputs": [],
   "source": [
    "import os,sys\n",
    "import pandas as pd\n",
    "%matplotlib inline\n",
    "os.chdir(\"jeme/JEME vs targetfinder/\")\n",
    "from sklearn.model_selection import cross_val_score, StratifiedKFold, KFold\n",
    "from sklearn.ensemble import GradientBoostingClassifier"
   ]
  },
  {
   "cell_type": "code",
   "execution_count": 2,
   "metadata": {
    "collapsed": false
   },
   "outputs": [],
   "source": [
    "import matplotlib.pyplot as plt\n",
    "import numpy as np\n",
    "from sklearn.externals.joblib import Parallel, delayed"
   ]
  },
  {
   "cell_type": "code",
   "execution_count": 3,
   "metadata": {
    "collapsed": false
   },
   "outputs": [],
   "source": [
    "from sklearn.metrics import average_precision_score, precision_recall_curve, f1_score, roc_auc_score"
   ]
  },
  {
   "cell_type": "code",
   "execution_count": 4,
   "metadata": {
    "collapsed": true
   },
   "outputs": [],
   "source": [
    "from sklearn.ensemble import RandomForestClassifier\n",
    "from itertools import combinations"
   ]
  },
  {
   "cell_type": "code",
   "execution_count": 9,
   "metadata": {
    "collapsed": false
   },
   "outputs": [
    {
     "data": {
      "text/plain": [
       "'0.18.1'"
      ]
     },
     "execution_count": 9,
     "metadata": {},
     "output_type": "execute_result"
    }
   ],
   "source": [
    "import sklearn\n",
    "sklearn.__version__"
   ]
  },
  {
   "cell_type": "code",
   "execution_count": 6,
   "metadata": {
    "collapsed": false
   },
   "outputs": [
    {
     "data": {
      "text/html": [
       "<div>\n",
       "<table border=\"1\" class=\"dataframe\">\n",
       "  <thead>\n",
       "    <tr style=\"text-align: right;\">\n",
       "      <th></th>\n",
       "      <th></th>\n",
       "      <th>bin</th>\n",
       "      <th>enhancer_chrom</th>\n",
       "      <th>enhancer_distance_to_promoter</th>\n",
       "      <th>enhancer_end</th>\n",
       "      <th>enhancer_start</th>\n",
       "      <th>label</th>\n",
       "      <th>promoter_chrom</th>\n",
       "      <th>promoter_end</th>\n",
       "      <th>promoter_start</th>\n",
       "      <th>window_end</th>\n",
       "      <th>...</th>\n",
       "      <th>ZNF143 (window)</th>\n",
       "      <th>ZNF263 (enhancer)</th>\n",
       "      <th>ZNF263 (promoter)</th>\n",
       "      <th>ZNF263 (window)</th>\n",
       "      <th>ZNF274 (enhancer)</th>\n",
       "      <th>ZNF274 (promoter)</th>\n",
       "      <th>ZNF274 (window)</th>\n",
       "      <th>ZNF384 (enhancer)</th>\n",
       "      <th>ZNF384 (promoter)</th>\n",
       "      <th>ZNF384 (window)</th>\n",
       "    </tr>\n",
       "    <tr>\n",
       "      <th>enhancer_name</th>\n",
       "      <th>promoter_name</th>\n",
       "      <th></th>\n",
       "      <th></th>\n",
       "      <th></th>\n",
       "      <th></th>\n",
       "      <th></th>\n",
       "      <th></th>\n",
       "      <th></th>\n",
       "      <th></th>\n",
       "      <th></th>\n",
       "      <th></th>\n",
       "      <th></th>\n",
       "      <th></th>\n",
       "      <th></th>\n",
       "      <th></th>\n",
       "      <th></th>\n",
       "      <th></th>\n",
       "      <th></th>\n",
       "      <th></th>\n",
       "      <th></th>\n",
       "      <th></th>\n",
       "      <th></th>\n",
       "    </tr>\n",
       "  </thead>\n",
       "  <tbody>\n",
       "    <tr>\n",
       "      <th rowspan=\"5\" valign=\"top\">K562|chr10:100140000-100141200</th>\n",
       "      <th>K562|chr10:100027507-100028507</th>\n",
       "      <td>4</td>\n",
       "      <td>chr10</td>\n",
       "      <td>112593</td>\n",
       "      <td>100141200</td>\n",
       "      <td>100140000</td>\n",
       "      <td>0</td>\n",
       "      <td>chr10</td>\n",
       "      <td>100028507</td>\n",
       "      <td>100027507</td>\n",
       "      <td>100139999</td>\n",
       "      <td>...</td>\n",
       "      <td>0.000518</td>\n",
       "      <td>0.0</td>\n",
       "      <td>0.0</td>\n",
       "      <td>0.0</td>\n",
       "      <td>0.0</td>\n",
       "      <td>0.0</td>\n",
       "      <td>0.0</td>\n",
       "      <td>0.0</td>\n",
       "      <td>0.00000</td>\n",
       "      <td>0.000066</td>\n",
       "    </tr>\n",
       "    <tr>\n",
       "      <th>K562|chr10:99185417-99186417</th>\n",
       "      <td>5</td>\n",
       "      <td>chr10</td>\n",
       "      <td>954683</td>\n",
       "      <td>100141200</td>\n",
       "      <td>100140000</td>\n",
       "      <td>0</td>\n",
       "      <td>chr10</td>\n",
       "      <td>99186417</td>\n",
       "      <td>99185417</td>\n",
       "      <td>100139999</td>\n",
       "      <td>...</td>\n",
       "      <td>0.001613</td>\n",
       "      <td>0.0</td>\n",
       "      <td>0.0</td>\n",
       "      <td>0.0</td>\n",
       "      <td>0.0</td>\n",
       "      <td>0.0</td>\n",
       "      <td>0.0</td>\n",
       "      <td>0.0</td>\n",
       "      <td>0.00646</td>\n",
       "      <td>0.000522</td>\n",
       "    </tr>\n",
       "    <tr>\n",
       "      <th>K562|chr10:99205274-99206274</th>\n",
       "      <td>5</td>\n",
       "      <td>chr10</td>\n",
       "      <td>934826</td>\n",
       "      <td>100141200</td>\n",
       "      <td>100140000</td>\n",
       "      <td>0</td>\n",
       "      <td>chr10</td>\n",
       "      <td>99206274</td>\n",
       "      <td>99205274</td>\n",
       "      <td>100139999</td>\n",
       "      <td>...</td>\n",
       "      <td>0.001360</td>\n",
       "      <td>0.0</td>\n",
       "      <td>0.0</td>\n",
       "      <td>0.0</td>\n",
       "      <td>0.0</td>\n",
       "      <td>0.0</td>\n",
       "      <td>0.0</td>\n",
       "      <td>0.0</td>\n",
       "      <td>0.00000</td>\n",
       "      <td>0.000523</td>\n",
       "    </tr>\n",
       "    <tr>\n",
       "      <th>K562|chr10:99205427-99206427</th>\n",
       "      <td>5</td>\n",
       "      <td>chr10</td>\n",
       "      <td>934673</td>\n",
       "      <td>100141200</td>\n",
       "      <td>100140000</td>\n",
       "      <td>0</td>\n",
       "      <td>chr10</td>\n",
       "      <td>99206427</td>\n",
       "      <td>99205427</td>\n",
       "      <td>100139999</td>\n",
       "      <td>...</td>\n",
       "      <td>0.001360</td>\n",
       "      <td>0.0</td>\n",
       "      <td>0.0</td>\n",
       "      <td>0.0</td>\n",
       "      <td>0.0</td>\n",
       "      <td>0.0</td>\n",
       "      <td>0.0</td>\n",
       "      <td>0.0</td>\n",
       "      <td>0.00000</td>\n",
       "      <td>0.000524</td>\n",
       "    </tr>\n",
       "    <tr>\n",
       "      <th>K562|chr10:99343631-99344631</th>\n",
       "      <td>5</td>\n",
       "      <td>chr10</td>\n",
       "      <td>796469</td>\n",
       "      <td>100141200</td>\n",
       "      <td>100140000</td>\n",
       "      <td>0</td>\n",
       "      <td>chr10</td>\n",
       "      <td>99344631</td>\n",
       "      <td>99343631</td>\n",
       "      <td>100139999</td>\n",
       "      <td>...</td>\n",
       "      <td>0.001287</td>\n",
       "      <td>0.0</td>\n",
       "      <td>0.0</td>\n",
       "      <td>0.0</td>\n",
       "      <td>0.0</td>\n",
       "      <td>0.0</td>\n",
       "      <td>0.0</td>\n",
       "      <td>0.0</td>\n",
       "      <td>0.00000</td>\n",
       "      <td>0.000336</td>\n",
       "    </tr>\n",
       "  </tbody>\n",
       "</table>\n",
       "<p>5 rows × 423 columns</p>\n",
       "</div>"
      ],
      "text/plain": [
       "                                                               bin  \\\n",
       "enhancer_name                  promoter_name                         \n",
       "K562|chr10:100140000-100141200 K562|chr10:100027507-100028507    4   \n",
       "                               K562|chr10:99185417-99186417      5   \n",
       "                               K562|chr10:99205274-99206274      5   \n",
       "                               K562|chr10:99205427-99206427      5   \n",
       "                               K562|chr10:99343631-99344631      5   \n",
       "\n",
       "                                                              enhancer_chrom  \\\n",
       "enhancer_name                  promoter_name                                   \n",
       "K562|chr10:100140000-100141200 K562|chr10:100027507-100028507          chr10   \n",
       "                               K562|chr10:99185417-99186417            chr10   \n",
       "                               K562|chr10:99205274-99206274            chr10   \n",
       "                               K562|chr10:99205427-99206427            chr10   \n",
       "                               K562|chr10:99343631-99344631            chr10   \n",
       "\n",
       "                                                               enhancer_distance_to_promoter  \\\n",
       "enhancer_name                  promoter_name                                                   \n",
       "K562|chr10:100140000-100141200 K562|chr10:100027507-100028507                         112593   \n",
       "                               K562|chr10:99185417-99186417                           954683   \n",
       "                               K562|chr10:99205274-99206274                           934826   \n",
       "                               K562|chr10:99205427-99206427                           934673   \n",
       "                               K562|chr10:99343631-99344631                           796469   \n",
       "\n",
       "                                                               enhancer_end  \\\n",
       "enhancer_name                  promoter_name                                  \n",
       "K562|chr10:100140000-100141200 K562|chr10:100027507-100028507     100141200   \n",
       "                               K562|chr10:99185417-99186417       100141200   \n",
       "                               K562|chr10:99205274-99206274       100141200   \n",
       "                               K562|chr10:99205427-99206427       100141200   \n",
       "                               K562|chr10:99343631-99344631       100141200   \n",
       "\n",
       "                                                               enhancer_start  \\\n",
       "enhancer_name                  promoter_name                                    \n",
       "K562|chr10:100140000-100141200 K562|chr10:100027507-100028507       100140000   \n",
       "                               K562|chr10:99185417-99186417         100140000   \n",
       "                               K562|chr10:99205274-99206274         100140000   \n",
       "                               K562|chr10:99205427-99206427         100140000   \n",
       "                               K562|chr10:99343631-99344631         100140000   \n",
       "\n",
       "                                                               label  \\\n",
       "enhancer_name                  promoter_name                           \n",
       "K562|chr10:100140000-100141200 K562|chr10:100027507-100028507      0   \n",
       "                               K562|chr10:99185417-99186417        0   \n",
       "                               K562|chr10:99205274-99206274        0   \n",
       "                               K562|chr10:99205427-99206427        0   \n",
       "                               K562|chr10:99343631-99344631        0   \n",
       "\n",
       "                                                              promoter_chrom  \\\n",
       "enhancer_name                  promoter_name                                   \n",
       "K562|chr10:100140000-100141200 K562|chr10:100027507-100028507          chr10   \n",
       "                               K562|chr10:99185417-99186417            chr10   \n",
       "                               K562|chr10:99205274-99206274            chr10   \n",
       "                               K562|chr10:99205427-99206427            chr10   \n",
       "                               K562|chr10:99343631-99344631            chr10   \n",
       "\n",
       "                                                               promoter_end  \\\n",
       "enhancer_name                  promoter_name                                  \n",
       "K562|chr10:100140000-100141200 K562|chr10:100027507-100028507     100028507   \n",
       "                               K562|chr10:99185417-99186417        99186417   \n",
       "                               K562|chr10:99205274-99206274        99206274   \n",
       "                               K562|chr10:99205427-99206427        99206427   \n",
       "                               K562|chr10:99343631-99344631        99344631   \n",
       "\n",
       "                                                               promoter_start  \\\n",
       "enhancer_name                  promoter_name                                    \n",
       "K562|chr10:100140000-100141200 K562|chr10:100027507-100028507       100027507   \n",
       "                               K562|chr10:99185417-99186417          99185417   \n",
       "                               K562|chr10:99205274-99206274          99205274   \n",
       "                               K562|chr10:99205427-99206427          99205427   \n",
       "                               K562|chr10:99343631-99344631          99343631   \n",
       "\n",
       "                                                               window_end  \\\n",
       "enhancer_name                  promoter_name                                \n",
       "K562|chr10:100140000-100141200 K562|chr10:100027507-100028507   100139999   \n",
       "                               K562|chr10:99185417-99186417     100139999   \n",
       "                               K562|chr10:99205274-99206274     100139999   \n",
       "                               K562|chr10:99205427-99206427     100139999   \n",
       "                               K562|chr10:99343631-99344631     100139999   \n",
       "\n",
       "                                                                    ...         \\\n",
       "enhancer_name                  promoter_name                        ...          \n",
       "K562|chr10:100140000-100141200 K562|chr10:100027507-100028507       ...          \n",
       "                               K562|chr10:99185417-99186417         ...          \n",
       "                               K562|chr10:99205274-99206274         ...          \n",
       "                               K562|chr10:99205427-99206427         ...          \n",
       "                               K562|chr10:99343631-99344631         ...          \n",
       "\n",
       "                                                               ZNF143 (window)  \\\n",
       "enhancer_name                  promoter_name                                     \n",
       "K562|chr10:100140000-100141200 K562|chr10:100027507-100028507         0.000518   \n",
       "                               K562|chr10:99185417-99186417           0.001613   \n",
       "                               K562|chr10:99205274-99206274           0.001360   \n",
       "                               K562|chr10:99205427-99206427           0.001360   \n",
       "                               K562|chr10:99343631-99344631           0.001287   \n",
       "\n",
       "                                                              ZNF263 (enhancer)  \\\n",
       "enhancer_name                  promoter_name                                      \n",
       "K562|chr10:100140000-100141200 K562|chr10:100027507-100028507               0.0   \n",
       "                               K562|chr10:99185417-99186417                 0.0   \n",
       "                               K562|chr10:99205274-99206274                 0.0   \n",
       "                               K562|chr10:99205427-99206427                 0.0   \n",
       "                               K562|chr10:99343631-99344631                 0.0   \n",
       "\n",
       "                                                              ZNF263 (promoter)  \\\n",
       "enhancer_name                  promoter_name                                      \n",
       "K562|chr10:100140000-100141200 K562|chr10:100027507-100028507               0.0   \n",
       "                               K562|chr10:99185417-99186417                 0.0   \n",
       "                               K562|chr10:99205274-99206274                 0.0   \n",
       "                               K562|chr10:99205427-99206427                 0.0   \n",
       "                               K562|chr10:99343631-99344631                 0.0   \n",
       "\n",
       "                                                               ZNF263 (window)  \\\n",
       "enhancer_name                  promoter_name                                     \n",
       "K562|chr10:100140000-100141200 K562|chr10:100027507-100028507              0.0   \n",
       "                               K562|chr10:99185417-99186417                0.0   \n",
       "                               K562|chr10:99205274-99206274                0.0   \n",
       "                               K562|chr10:99205427-99206427                0.0   \n",
       "                               K562|chr10:99343631-99344631                0.0   \n",
       "\n",
       "                                                               ZNF274 (enhancer)  \\\n",
       "enhancer_name                  promoter_name                                       \n",
       "K562|chr10:100140000-100141200 K562|chr10:100027507-100028507                0.0   \n",
       "                               K562|chr10:99185417-99186417                  0.0   \n",
       "                               K562|chr10:99205274-99206274                  0.0   \n",
       "                               K562|chr10:99205427-99206427                  0.0   \n",
       "                               K562|chr10:99343631-99344631                  0.0   \n",
       "\n",
       "                                                               ZNF274 (promoter)  \\\n",
       "enhancer_name                  promoter_name                                       \n",
       "K562|chr10:100140000-100141200 K562|chr10:100027507-100028507                0.0   \n",
       "                               K562|chr10:99185417-99186417                  0.0   \n",
       "                               K562|chr10:99205274-99206274                  0.0   \n",
       "                               K562|chr10:99205427-99206427                  0.0   \n",
       "                               K562|chr10:99343631-99344631                  0.0   \n",
       "\n",
       "                                                               ZNF274 (window)  \\\n",
       "enhancer_name                  promoter_name                                     \n",
       "K562|chr10:100140000-100141200 K562|chr10:100027507-100028507              0.0   \n",
       "                               K562|chr10:99185417-99186417                0.0   \n",
       "                               K562|chr10:99205274-99206274                0.0   \n",
       "                               K562|chr10:99205427-99206427                0.0   \n",
       "                               K562|chr10:99343631-99344631                0.0   \n",
       "\n",
       "                                                               ZNF384 (enhancer)  \\\n",
       "enhancer_name                  promoter_name                                       \n",
       "K562|chr10:100140000-100141200 K562|chr10:100027507-100028507                0.0   \n",
       "                               K562|chr10:99185417-99186417                  0.0   \n",
       "                               K562|chr10:99205274-99206274                  0.0   \n",
       "                               K562|chr10:99205427-99206427                  0.0   \n",
       "                               K562|chr10:99343631-99344631                  0.0   \n",
       "\n",
       "                                                               ZNF384 (promoter)  \\\n",
       "enhancer_name                  promoter_name                                       \n",
       "K562|chr10:100140000-100141200 K562|chr10:100027507-100028507            0.00000   \n",
       "                               K562|chr10:99185417-99186417              0.00646   \n",
       "                               K562|chr10:99205274-99206274              0.00000   \n",
       "                               K562|chr10:99205427-99206427              0.00000   \n",
       "                               K562|chr10:99343631-99344631              0.00000   \n",
       "\n",
       "                                                               ZNF384 (window)  \n",
       "enhancer_name                  promoter_name                                    \n",
       "K562|chr10:100140000-100141200 K562|chr10:100027507-100028507         0.000066  \n",
       "                               K562|chr10:99185417-99186417           0.000522  \n",
       "                               K562|chr10:99205274-99206274           0.000523  \n",
       "                               K562|chr10:99205427-99206427           0.000524  \n",
       "                               K562|chr10:99343631-99344631           0.000336  \n",
       "\n",
       "[5 rows x 423 columns]"
      ]
     },
     "execution_count": 6,
     "metadata": {},
     "output_type": "execute_result"
    }
   ],
   "source": [
    "pd.read_csv('targetfinder/K562/training.csv').set_index(['enhancer_name', 'promoter_name']).head()"
   ]
  },
  {
   "cell_type": "code",
   "execution_count": null,
   "metadata": {
    "collapsed": false
   },
   "outputs": [],
   "source": []
  },
  {
   "cell_type": "code",
   "execution_count": 5,
   "metadata": {
    "collapsed": false
   },
   "outputs": [],
   "source": [
    "from sklearn.model_selection import cross_val_score, StratifiedKFold, KFold\n",
    "from sklearn.ensemble import GradientBoostingClassifier\n",
    "import numpy as np\n",
    "from sklearn.metrics import average_precision_score, precision_recall_curve, f1_score\n",
    "\n",
    "\n",
    "def aupr_auroc_f1(estimator, X, y):\n",
    "    probs = estimator.predict_proba(X)\n",
    "    preds = estimator.predict(X)\n",
    "    aupr = average_precision_score(y, probs[:,1])\n",
    "    auroc = roc_auc_score(y, probs[:,1])\n",
    "    f1 = f1_score(y, preds)\n",
    "    return aupr, auroc, f1\n",
    "\n",
    "\n",
    "def train_an_estimator(train_data, train_label, val_data, val_label):\n",
    "    estimator = GradientBoostingClassifier(**params )\n",
    "    estimator.fit(train_data, train_label)\n",
    "    return aupr_auroc_f1(estimator, val_data, val_label)\n",
    "\n",
    "\n",
    "def train_targetfinder_cv(columns, to_shuffle):\n",
    "    train = pd.read_csv('targetfinder/K562/training.csv').set_index(['enhancer_name', 'promoter_name'])\n",
    "    \n",
    "    chrom_info = {}\n",
    "    keys = ['chrom1', 'start1', 'end1', 'chrom2', 'start2', 'end2']\n",
    "    for k in keys:\n",
    "        chrom_info[k] = []\n",
    "    for idx in train.index:\n",
    "        enhancer_tokens = idx[0].split('|')[1].replace(':', ' ').replace('-', ' ').strip().split()\n",
    "        promoter_tokens = idx[1].split('|')[1].replace(':', ' ').replace('-', ' ').strip().split()\n",
    "        tokens = enhancer_tokens + promoter_tokens\n",
    "        for k, d in zip(keys, tokens):\n",
    "            if d.isdigit():\n",
    "                d = int(d)\n",
    "            chrom_info[k].append(d)\n",
    "\n",
    "    for k in keys:\n",
    "        train[k] = chrom_info[k]\n",
    "    train = train.sort_values(by=keys)\n",
    "    train = train.drop(keys, axis=1)\n",
    "    \n",
    "    \n",
    "    all_dists = []\n",
    "    for w in train.loc[:,'window_name']:\n",
    "        tokens = w.replace(':', '\\t').replace('-',\"\\t\").split()\n",
    "        all_dists.append(int(tokens[2]) - int(tokens[1]))\n",
    "    train['distance'] = np.log10(all_dists)\n",
    "\n",
    "    cv = StratifiedKFold(n_splits = 5, shuffle = to_shuffle, random_state=0)\n",
    "    cv = cv.split(train.loc[:, columns], train['label'])\n",
    "\n",
    "    tasks = []\n",
    "    for train_idx, test_idx in cv:\n",
    "        tasks.append(delayed(train_an_estimator)(train.ix[train_idx, columns], train.ix[train_idx, 'label'],\n",
    "                                        train.ix[test_idx, columns], train.ix[test_idx, 'label']))\n",
    "    \n",
    "    with Parallel(n_jobs=20) as parallel:\n",
    "        scores = parallel(tasks)\n",
    "    auprcs = [x[0] for x in scores]\n",
    "    aurocs = [x[1] for x in scores]\n",
    "    f1s = [x[2] for x in scores]\n",
    "    print(\"\\nCV\")\n",
    "    print(np.mean(auprcs), np.mean(aurocs), np.mean(f1s))\n",
    "    print(np.std(auprcs), np.std(aurocs), np.std(f1s))\n",
    "    print('dummy:', np.sum(train['label'])/train.shape[0])\n",
    "    \n"
   ]
  },
  {
   "cell_type": "code",
   "execution_count": 6,
   "metadata": {
    "collapsed": false
   },
   "outputs": [],
   "source": [
    "def train_targetfinder_intra(columns):\n",
    "    train = pd.read_csv('targetfinder/K562/training.csv').set_index(['enhancer_name', 'promoter_name'])\n",
    "    \n",
    "    all_dists = []\n",
    "    for w in train.loc[:,'window_name']:\n",
    "        tokens = w.replace(':', '\\t').replace('-',\"\\t\").split()\n",
    "        all_dists.append(int(tokens[2]) - int(tokens[1]))\n",
    "    train['distance'] = np.log10(all_dists)\n",
    "    \n",
    "    total_pos = np.sum(train['label'])\n",
    "    total_neg = np.sum(train['label']==0)\n",
    "    all_chrom_counts = {}\n",
    "    #test_chroms = ['K562|chr4:', 'K562|chr7:', 'K562|chr8:', 'K562|chr11:']\n",
    "    print('counting')\n",
    "    for i in train.index:\n",
    "        curr_chrom = i[0].split(':')[0]+':'\n",
    "    \n",
    "        if curr_chrom not in all_chrom_counts:\n",
    "            all_chrom_counts[curr_chrom] = [0,0]\n",
    "        if train.loc[i, 'label'] == 0:\n",
    "            all_chrom_counts[curr_chrom][1] += 1\n",
    "        else:\n",
    "            all_chrom_counts[curr_chrom][0] += 1\n",
    "    all_chroms = list(all_chrom_counts.keys())\n",
    "    test_chrom_combs = []\n",
    "    depth = 1\n",
    "    print('starting')\n",
    "    while len(test_chrom_combs) < 100 and depth <= 6:\n",
    "        for temp_chroms in combinations(all_chroms, depth):\n",
    "            if (0.1 <= np.sum([all_chrom_counts[c][0] for c in temp_chroms]) / total_pos <= 0.12 and  \n",
    "               abs(np.sum([all_chrom_counts[c][0] for c in temp_chroms])  / total_pos\n",
    "                   - np.sum([all_chrom_counts[c][1] for c in temp_chroms]) / total_neg) < 0.005):\n",
    "                test_chrom_combs.append(temp_chroms)\n",
    "\n",
    "        depth += 1\n",
    "        print(depth)\n",
    "    np.random.seed(0)\n",
    "    select_idx = np.random.choice(range(len(test_chrom_combs)), size=5)\n",
    "    print(len(test_chrom_combs), [test_chrom_combs[i] for i in select_idx])\n",
    "    \n",
    "    tasks = []\n",
    "    dummy_avg = []\n",
    "    for idx in select_idx:\n",
    "        test_chroms = test_chrom_combs[idx]\n",
    "        test_data = train.loc[[i for i in train.index if (i[0].split(':')[0]+':') in test_chroms], columns]\n",
    "        test_labels = train['label'][test_data.index]\n",
    "\n",
    "        train_data = train.loc[[i for i in train.index if (i[0].split(':')[0]+':') not in test_chroms], columns]\n",
    "        train_labels = train['label'][train_data.index]\n",
    "\n",
    "    \n",
    "        train_data.fillna(0)\n",
    "        test_data.fillna(0)\n",
    "        tasks.append(delayed(train_an_estimator)(train_data, train_labels, test_data, test_labels))\n",
    "        dummy_avg.append(np.sum(test_labels) / len(test_labels))\n",
    "    scores = []\n",
    "    with Parallel(n_jobs=20) as parallel:\n",
    "        scores = parallel(tasks)\n",
    "    auprcs = [x[0] for x in scores]\n",
    "    aurocs = [x[1] for x in scores]\n",
    "    f1s = [x[2] for x in scores]\n",
    "\n",
    "    print(\"\\nIntra\")\n",
    "    print(np.mean(auprcs), np.mean(aurocs), np.mean(f1s))\n",
    "    print(np.std(auprcs), np.std(aurocs), np.std(f1s))\n",
    "    print(\"dummpy\", dummy_avg)\n"
   ]
  },
  {
   "cell_type": "code",
   "execution_count": 7,
   "metadata": {
    "collapsed": true
   },
   "outputs": [],
   "source": [
    "def train_targetfinder(columns):\n",
    "    train = pd.read_csv('targetfinder/K562/training.csv').set_index(['enhancer_name', 'promoter_name'])\n",
    "    test = pd.read_csv('targetfinder/GM12878/training.csv').set_index(['enhancer_name', 'promoter_name'])\n",
    "    \n",
    "    all_dists = []\n",
    "    for w in train.loc[:,'window_name']:\n",
    "        tokens = w.replace(':', '\\t').replace('-',\"\\t\").split()\n",
    "        all_dists.append(int(tokens[2]) - int(tokens[1]))\n",
    "    train['distance'] = np.log10(all_dists)\n",
    "    all_dists=[]\n",
    "    for w in test.loc[:,'window_name']:\n",
    "        tokens = w.replace(':', '\\t').replace('-',\"\\t\").split()\n",
    "        all_dists.append(int(tokens[2]) - int(tokens[1]))\n",
    "    test['distance'] = np.log10(all_dists)\n",
    "\n",
    "\n",
    "    train_data = train.loc[:, columns]\n",
    "    train_labels = train['label']\n",
    "\n",
    "    test_data = test.loc[:, columns]\n",
    "    test_labels = test['label']\n",
    "    train_data.fillna(0)\n",
    "    test_data.fillna(0)\n",
    "\n",
    "    estimator = GradientBoostingClassifier(**params)\n",
    "\n",
    "    estimator.fit(train_data, train_labels)\n",
    "    probs = estimator.predict_proba(test_data)\n",
    "    preds = estimator.predict(test_data)\n",
    "    print(\"\\nAcross sample\")\n",
    "    print(average_precision_score(test_labels, probs[:,1]), \n",
    "          roc_auc_score(test_labels, probs[:,1]), \n",
    "          f1_score(test_labels, preds))\n",
    "    print(\"dummpy\", np.sum(test_labels) / len(test_labels))\n",
    "    #prcs, recalls, _ = precision_recall_curve(test_labels, probs[:,1])\n",
    "    #plt.plot(recalls, prcs, color='orange')\n",
    "    #plt.axhline(y=np.sum(test_labels) / len(test_labels), color='r')"
   ]
  },
  {
   "cell_type": "code",
   "execution_count": null,
   "metadata": {
    "collapsed": false
   },
   "outputs": [],
   "source": []
  },
  {
   "cell_type": "code",
   "execution_count": 10,
   "metadata": {
    "collapsed": false
   },
   "outputs": [
    {
     "name": "stdout",
     "output_type": "stream",
     "text": [
      "408\n",
      "\n",
      "CV\n",
      "0.726384100825 0.940505372757 0.65289367552\n",
      "0.00357124042546 0.00194338965407 0.00231361908071\n",
      "dummy: 0.1339672541889235\n",
      "\n",
      "CV\n",
      "0.680611531272 0.929089775152 0.612083328284\n",
      "0.0131655299232 0.00427777268514 0.0125455979124\n",
      "dummy: 0.1339672541889235\n",
      "counting\n",
      "starting\n",
      "2\n",
      "3\n",
      "4\n",
      "242 [('K562|chr10:', 'K562|chr8:', 'K562|chr17:'), ('K562|chr7:', 'K562|chr13:', 'K562|chr12:'), ('K562|chr9:', 'K562|chr16:', 'K562|chr8:'), ('K562|chr15:', 'K562|chr20:', 'K562|chr2:'), ('K562|chr21:', 'K562|chr5:', 'K562|chr12:')]\n",
      "\n",
      "Intra\n",
      "0.696941541844 0.932630659028 0.63214298959\n",
      "0.0154138871563 0.00476699743528 0.022150148544\n",
      "dummpy [0.13771029954862535, 0.1350243013365735, 0.1335659107899327, 0.13725490196078433, 0.13849866413858486]\n"
     ]
    }
   ],
   "source": [
    "#ZNF274 (window) is present but not (enhancer) and (promoter) \n",
    "columns = pd.read_csv('targetfinder/K562/training.csv').set_index(['enhancer_name', 'promoter_name']).columns[15:]\n",
    "print(len(columns))\n",
    "params = {'n_estimators': 100, 'max_depth': 5}\n",
    "train_targetfinder_cv(columns, to_shuffle=True)\n",
    "train_targetfinder_cv(columns, to_shuffle=False)\n",
    "train_targetfinder_intra(columns)\n"
   ]
  },
  {
   "cell_type": "code",
   "execution_count": 11,
   "metadata": {
    "collapsed": false
   },
   "outputs": [
    {
     "name": "stdout",
     "output_type": "stream",
     "text": [
      "408\n",
      "\n",
      "CV\n",
      "0.769820462518 0.952937681836 0.709337197345\n",
      "0.00575419234336 0.0014219346373 0.00258929640558\n",
      "dummy: 0.1339672541889235\n",
      "\n",
      "CV\n",
      "0.65486573362 0.926527002141 0.606246447397\n",
      "0.0192082737106 0.005632639316 0.0116274719839\n",
      "dummy: 0.1339672541889235\n",
      "counting\n",
      "starting\n",
      "2\n",
      "3\n",
      "4\n",
      "242 [('K562|chr10:', 'K562|chr8:', 'K562|chr17:'), ('K562|chr7:', 'K562|chr13:', 'K562|chr12:'), ('K562|chr9:', 'K562|chr16:', 'K562|chr8:'), ('K562|chr15:', 'K562|chr20:', 'K562|chr2:'), ('K562|chr21:', 'K562|chr5:', 'K562|chr12:')]\n",
      "\n",
      "Intra\n",
      "0.677838759184 0.9317798731 0.632426273872\n",
      "0.0153095885437 0.00493608761268 0.0209928338745\n",
      "dummpy [0.13771029954862535, 0.1350243013365735, 0.1335659107899327, 0.13725490196078433, 0.13849866413858486]\n"
     ]
    }
   ],
   "source": [
    "#ZNF274 (window) is present but not (enhancer) and (promoter) \n",
    "columns = pd.read_csv('targetfinder/K562/training.csv').set_index(['enhancer_name', 'promoter_name']).columns[15:]\n",
    "print(len(columns))\n",
    "params = {'n_estimators': 100, 'max_depth': 10}\n",
    "train_targetfinder_cv(columns, to_shuffle=True)\n",
    "train_targetfinder_cv(columns, to_shuffle=False)\n",
    "train_targetfinder_intra(columns)\n"
   ]
  },
  {
   "cell_type": "code",
   "execution_count": 12,
   "metadata": {
    "collapsed": false
   },
   "outputs": [
    {
     "name": "stdout",
     "output_type": "stream",
     "text": [
      "208\n",
      "\n",
      "CV\n",
      "0.716386550659 0.937860233607 0.642725279309\n",
      "0.00411514705645 0.00183046496947 0.00148155345011\n",
      "dummy: 0.1339672541889235\n",
      "\n",
      "CV\n",
      "0.673247957609 0.927038990028 0.607022256378\n",
      "0.00709037359808 0.00285431533407 0.0121469684999\n",
      "dummy: 0.1339672541889235\n",
      "counting\n",
      "starting\n",
      "2\n",
      "3\n",
      "4\n",
      "242 [('K562|chr10:', 'K562|chr8:', 'K562|chr17:'), ('K562|chr7:', 'K562|chr13:', 'K562|chr12:'), ('K562|chr9:', 'K562|chr16:', 'K562|chr8:'), ('K562|chr15:', 'K562|chr20:', 'K562|chr2:'), ('K562|chr21:', 'K562|chr5:', 'K562|chr12:')]\n",
      "\n",
      "Intra\n",
      "0.686595180777 0.928982293489 0.622342506859\n",
      "0.0143518479704 0.0045495372801 0.0202903073898\n",
      "dummpy [0.13771029954862535, 0.1350243013365735, 0.1335659107899327, 0.13725490196078433, 0.13849866413858486]\n",
      "\n",
      "Across sample\n",
      "0.39519826975 0.807370743617 0.399566865187\n",
      "dummpy 0.1287532435438033\n"
     ]
    }
   ],
   "source": [
    "#ZNF274 (window) is present but not (enhancer) and (promoter) \n",
    "columns1 = pd.read_csv('targetfinder/K562/training.csv').set_index(['enhancer_name', 'promoter_name']).columns[15:]\n",
    "columns2 = pd.read_csv('targetfinder/GM12878/training.csv').set_index(['enhancer_name', 'promoter_name']).columns[15:]\n",
    "columns = list(set(columns1).intersection(columns2))\n",
    "print(len(columns))\n",
    "params = {'n_estimators': 100, 'max_depth': 5}\n",
    "train_targetfinder_cv(columns, to_shuffle=True)\n",
    "train_targetfinder_cv(columns, to_shuffle=False)\n",
    "train_targetfinder_intra(columns)\n",
    "train_targetfinder(columns)"
   ]
  },
  {
   "cell_type": "code",
   "execution_count": 13,
   "metadata": {
    "collapsed": false
   },
   "outputs": [
    {
     "name": "stdout",
     "output_type": "stream",
     "text": [
      "208\n",
      "\n",
      "CV\n",
      "0.762343952414 0.951090543358 0.702153457677\n",
      "0.0023163062242 0.00172125415317 0.00309268146546\n",
      "dummy: 0.1339672541889235\n",
      "\n",
      "CV\n",
      "0.640967324478 0.924441608765 0.600895808111\n",
      "0.0154284973927 0.00381575407465 0.00976111889697\n",
      "dummy: 0.1339672541889235\n",
      "counting\n",
      "starting\n",
      "2\n",
      "3\n",
      "4\n",
      "242 [('K562|chr10:', 'K562|chr8:', 'K562|chr17:'), ('K562|chr7:', 'K562|chr13:', 'K562|chr12:'), ('K562|chr9:', 'K562|chr16:', 'K562|chr8:'), ('K562|chr15:', 'K562|chr20:', 'K562|chr2:'), ('K562|chr21:', 'K562|chr5:', 'K562|chr12:')]\n",
      "\n",
      "Intra\n",
      "0.664902840604 0.928752695906 0.615832085766\n",
      "0.023280967855 0.00521832262484 0.0195473105833\n",
      "dummpy [0.13771029954862535, 0.1350243013365735, 0.1335659107899327, 0.13725490196078433, 0.13849866413858486]\n",
      "\n",
      "Across sample\n",
      "0.345276503291 0.786142421094 0.393685249137\n",
      "dummpy 0.1287532435438033\n"
     ]
    }
   ],
   "source": [
    "#ZNF274 (window) is present but not (enhancer) and (promoter) \n",
    "columns1 = pd.read_csv('targetfinder/K562/training.csv').set_index(['enhancer_name', 'promoter_name']).columns[15:]\n",
    "columns2 = pd.read_csv('targetfinder/GM12878/training.csv').set_index(['enhancer_name', 'promoter_name']).columns[15:]\n",
    "columns = list(set(columns1).intersection(columns2))\n",
    "print(len(columns))\n",
    "params = {'n_estimators': 100, 'max_depth': 10}\n",
    "train_targetfinder_cv(columns, to_shuffle=True)\n",
    "train_targetfinder_cv(columns, to_shuffle=False)\n",
    "train_targetfinder_intra(columns)\n",
    "train_targetfinder(columns)"
   ]
  },
  {
   "cell_type": "code",
   "execution_count": 8,
   "metadata": {
    "collapsed": false
   },
   "outputs": [
    {
     "name": "stdout",
     "output_type": "stream",
     "text": [
      "\n",
      "CV\n",
      "0.626222735103 0.899601174627 0.569036058646\n",
      "0.00227058557422 0.00196902000247 0.00464647604003\n",
      "dummy: 0.1339672541889235\n",
      "\n",
      "CV\n",
      "0.454764385118 0.834294734193 0.435304934719\n",
      "0.0191493849531 0.0104710764658 0.0285245557998\n",
      "dummy: 0.1339672541889235\n",
      "counting\n",
      "starting\n",
      "2\n",
      "3\n",
      "4\n",
      "242 [('K562|chr15:', 'K562|chr12:', 'K562|chr9:'), ('K562|chr14:', 'K562|chr15:', 'K562|chr7:'), ('K562|chr8:', 'K562|chr20:', 'K562|chr11:'), ('K562|chr12:', 'K562|chr10:', 'K562|chr9:'), ('K562|chr14:', 'K562|chr4:', 'K562|chr11:')]\n",
      "\n",
      "Intra\n",
      "0.484312349579 0.846717511632 0.480930061049\n",
      "0.0139732769454 0.00877083502443 0.00756304589524\n",
      "dummpy [0.131326352530541, 0.135229343262299, 0.1349274124679761, 0.13631817832140933, 0.13718918076233533]\n",
      "\n",
      "Across sample\n",
      "0.299253338902 0.715039058725 0.337997847147\n",
      "dummpy 0.1287532435438033\n"
     ]
    }
   ],
   "source": [
    "columns = ['DNase-seq (enhancer)', 'DNase-seq (promoter)', 'DNase-seq (window)', \n",
    "           'H3K27ac (enhancer)', 'H3K27ac (promoter)', 'H3K27ac (window)', \n",
    "           'H3K27me3 (enhancer)', 'H3K27me3 (promoter)', 'H3K27me3 (window)',\n",
    "           'H3K4me1 (enhancer)', 'H3K4me1 (promoter)', 'H3K4me1 (window)']\n",
    "params = {'n_estimators': 4000, 'max_features': 'log2', 'max_depth': 5}\n",
    "train_targetfinder_cv(columns, to_shuffle=True)\n",
    "train_targetfinder_cv(columns, to_shuffle=False)\n",
    "train_targetfinder_intra(columns)\n",
    "train_targetfinder(columns)"
   ]
  },
  {
   "cell_type": "code",
   "execution_count": 14,
   "metadata": {
    "collapsed": false
   },
   "outputs": [
    {
     "name": "stdout",
     "output_type": "stream",
     "text": [
      "\n",
      "CV\n",
      "0.556365491887 0.873210202229 0.455151811627\n",
      "0.00440316236876 0.0019226323388 0.00561149842689\n",
      "dummy: 0.1339672541889235\n",
      "\n",
      "CV\n",
      "0.516562154815 0.858849514083 0.432767997823\n",
      "0.0212467910866 0.00657955631785 0.0331312384057\n",
      "dummy: 0.1339672541889235\n",
      "counting\n",
      "starting\n",
      "2\n",
      "3\n",
      "4\n",
      "242 [('K562|chr10:', 'K562|chr8:', 'K562|chr17:'), ('K562|chr7:', 'K562|chr13:', 'K562|chr12:'), ('K562|chr9:', 'K562|chr16:', 'K562|chr8:'), ('K562|chr15:', 'K562|chr20:', 'K562|chr2:'), ('K562|chr21:', 'K562|chr5:', 'K562|chr12:')]\n",
      "\n",
      "Intra\n",
      "0.549896011662 0.870390546576 0.456865155871\n",
      "0.0254892703517 0.0100578628393 0.031958250369\n",
      "dummpy [0.13771029954862535, 0.1350243013365735, 0.1335659107899327, 0.13725490196078433, 0.13849866413858486]\n",
      "\n",
      "Across sample\n",
      "0.359053445576 0.749414874519 0.320685434517\n",
      "dummpy 0.1287532435438033\n"
     ]
    }
   ],
   "source": [
    "columns = ['DNase-seq (enhancer)', 'DNase-seq (promoter)', 'DNase-seq (window)', \n",
    "           'H3K27ac (enhancer)', 'H3K27ac (promoter)', 'H3K27ac (window)', \n",
    "           'H3K27me3 (enhancer)', 'H3K27me3 (promoter)', 'H3K27me3 (window)',\n",
    "           'H3K4me1 (enhancer)', 'H3K4me1 (promoter)', 'H3K4me1 (window)']\n",
    "params = {'n_estimators': 100, 'max_depth': 5}\n",
    "train_targetfinder_cv(columns, to_shuffle=True)\n",
    "train_targetfinder_cv(columns, to_shuffle=False)\n",
    "train_targetfinder_intra(columns)\n",
    "train_targetfinder(columns)"
   ]
  },
  {
   "cell_type": "code",
   "execution_count": 15,
   "metadata": {
    "collapsed": false
   },
   "outputs": [
    {
     "name": "stdout",
     "output_type": "stream",
     "text": [
      "\n",
      "CV\n",
      "0.597609944372 0.893560699147 0.527320379039\n",
      "0.00599732946651 0.00235091066487 0.00490591778217\n",
      "dummy: 0.1339672541889235\n",
      "\n",
      "CV\n",
      "0.464206507841 0.847660254044 0.434349644646\n",
      "0.0272678272648 0.00969563738191 0.0274550075904\n",
      "dummy: 0.1339672541889235\n",
      "counting\n",
      "starting\n",
      "2\n",
      "3\n",
      "4\n",
      "242 [('K562|chr10:', 'K562|chr8:', 'K562|chr17:'), ('K562|chr7:', 'K562|chr13:', 'K562|chr12:'), ('K562|chr9:', 'K562|chr16:', 'K562|chr8:'), ('K562|chr15:', 'K562|chr20:', 'K562|chr2:'), ('K562|chr21:', 'K562|chr5:', 'K562|chr12:')]\n",
      "\n",
      "Intra\n",
      "0.51259688353 0.862571012081 0.465741753456\n",
      "0.0341058545017 0.0119853376073 0.0375649967109\n",
      "dummpy [0.13771029954862535, 0.1350243013365735, 0.1335659107899327, 0.13725490196078433, 0.13849866413858486]\n",
      "\n",
      "Across sample\n",
      "0.323298392003 0.730962121053 0.323745064862\n",
      "dummpy 0.1287532435438033\n"
     ]
    }
   ],
   "source": [
    "columns = ['DNase-seq (enhancer)', 'DNase-seq (promoter)', 'DNase-seq (window)', \n",
    "           'H3K27ac (enhancer)', 'H3K27ac (promoter)', 'H3K27ac (window)', \n",
    "           'H3K27me3 (enhancer)', 'H3K27me3 (promoter)', 'H3K27me3 (window)',\n",
    "           'H3K4me1 (enhancer)', 'H3K4me1 (promoter)', 'H3K4me1 (window)']\n",
    "params = {'n_estimators': 100, 'max_depth': 10}\n",
    "train_targetfinder_cv(columns, to_shuffle=True)\n",
    "train_targetfinder_cv(columns, to_shuffle=False)\n",
    "train_targetfinder_intra(columns)\n",
    "train_targetfinder(columns)"
   ]
  },
  {
   "cell_type": "code",
   "execution_count": null,
   "metadata": {
    "collapsed": false
   },
   "outputs": [],
   "source": []
  },
  {
   "cell_type": "code",
   "execution_count": 16,
   "metadata": {
    "collapsed": false
   },
   "outputs": [
    {
     "name": "stdout",
     "output_type": "stream",
     "text": [
      "\n",
      "CV\n",
      "0.531401162736 0.881229039271 0.498726329092\n",
      "0.00406617148498 0.000957483491677 0.00469526915155\n",
      "dummy: 0.1339672541889235\n",
      "\n",
      "CV\n",
      "0.526890122499 0.879504729377 0.496569599963\n",
      "0.0233285546796 0.0175926731226 0.0149782126182\n",
      "dummy: 0.1339672541889235\n",
      "counting\n",
      "starting\n",
      "2\n",
      "3\n",
      "4\n",
      "242 [('K562|chr10:', 'K562|chr8:', 'K562|chr17:'), ('K562|chr7:', 'K562|chr13:', 'K562|chr12:'), ('K562|chr9:', 'K562|chr16:', 'K562|chr8:'), ('K562|chr15:', 'K562|chr20:', 'K562|chr2:'), ('K562|chr21:', 'K562|chr5:', 'K562|chr12:')]\n",
      "\n",
      "Intra\n",
      "0.541330469347 0.887516831517 0.505844827332\n",
      "0.0128480165792 0.00511273247054 0.0215744931324\n",
      "dummpy [0.13771029954862535, 0.1350243013365735, 0.1335659107899327, 0.13725490196078433, 0.13849866413858486]\n",
      "\n",
      "Across sample\n",
      "0.458770543947 0.868103815062 0.436106579663\n",
      "dummpy 0.1287532435438033\n"
     ]
    }
   ],
   "source": [
    "columns = ['distance']\n",
    "params = {'n_estimators': 100, 'max_depth': 5}\n",
    "train_targetfinder_cv(columns, to_shuffle=True)\n",
    "train_targetfinder_cv(columns, to_shuffle=False)\n",
    "train_targetfinder_intra(columns)\n",
    "train_targetfinder(columns)"
   ]
  },
  {
   "cell_type": "code",
   "execution_count": 17,
   "metadata": {
    "collapsed": false
   },
   "outputs": [
    {
     "name": "stdout",
     "output_type": "stream",
     "text": [
      "\n",
      "CV\n",
      "0.49317860415 0.874029443438 0.472722291617\n",
      "0.0101425284452 0.00144013480592 0.00457383592249\n",
      "dummy: 0.1339672541889235\n",
      "\n",
      "CV\n",
      "0.499152449202 0.873466880414 0.474594572505\n",
      "0.0174061575893 0.016420655681 0.0140391810231\n",
      "dummy: 0.1339672541889235\n",
      "counting\n",
      "starting\n",
      "2\n",
      "3\n",
      "4\n",
      "242 [('K562|chr10:', 'K562|chr8:', 'K562|chr17:'), ('K562|chr7:', 'K562|chr13:', 'K562|chr12:'), ('K562|chr9:', 'K562|chr16:', 'K562|chr8:'), ('K562|chr15:', 'K562|chr20:', 'K562|chr2:'), ('K562|chr21:', 'K562|chr5:', 'K562|chr12:')]\n",
      "\n",
      "Intra\n",
      "0.510993774766 0.881049282833 0.488976065682\n",
      "0.0184647801842 0.00472133298114 0.0184106871601\n",
      "dummpy [0.13771029954862535, 0.1350243013365735, 0.1335659107899327, 0.13725490196078433, 0.13849866413858486]\n",
      "\n",
      "Across sample\n",
      "0.424610046411 0.861315937544 0.425996723102\n",
      "dummpy 0.1287532435438033\n"
     ]
    }
   ],
   "source": [
    "columns = ['distance']\n",
    "params = {'n_estimators': 100, 'max_depth': 10}\n",
    "train_targetfinder_cv(columns, to_shuffle=True)\n",
    "train_targetfinder_cv(columns, to_shuffle=False)\n",
    "train_targetfinder_intra(columns)\n",
    "train_targetfinder(columns)"
   ]
  },
  {
   "cell_type": "code",
   "execution_count": null,
   "metadata": {
    "collapsed": false
   },
   "outputs": [],
   "source": []
  },
  {
   "cell_type": "code",
   "execution_count": null,
   "metadata": {
    "collapsed": false
   },
   "outputs": [],
   "source": []
  },
  {
   "cell_type": "code",
   "execution_count": null,
   "metadata": {
    "collapsed": false
   },
   "outputs": [],
   "source": []
  },
  {
   "cell_type": "code",
   "execution_count": null,
   "metadata": {
    "collapsed": false
   },
   "outputs": [],
   "source": []
  },
  {
   "cell_type": "code",
   "execution_count": null,
   "metadata": {
    "collapsed": false
   },
   "outputs": [],
   "source": []
  },
  {
   "cell_type": "code",
   "execution_count": null,
   "metadata": {
    "collapsed": false
   },
   "outputs": [],
   "source": []
  },
  {
   "cell_type": "code",
   "execution_count": 18,
   "metadata": {
    "collapsed": false
   },
   "outputs": [],
   "source": [
    "def train_an_jeme(train_data, train_label, test_data, test_label):\n",
    "    rfc = RandomForestClassifier(**params)\n",
    "    rfc.fit(train_data, train_label)\n",
    "    return aupr_auroc_f1(rfc, test_data, test_label)"
   ]
  },
  {
   "cell_type": "code",
   "execution_count": 19,
   "metadata": {
    "collapsed": false
   },
   "outputs": [],
   "source": [
    "def train_jeme_cv(columns, to_shuffle=False):\n",
    "    train = pd.read_csv('./JEME/K562/signal4Lasso.csv').set_index('id')\n",
    "    train['dis'] = np.log10(train['dis'])\n",
    "\n",
    "    chrom_info = {}\n",
    "    keys = ['chrom1', 'start1', 'end1', 'chrom2', 'start2',]\n",
    "    for k in keys:\n",
    "        chrom_info[k] = []\n",
    "    for idx in train.index:\n",
    "        idx = idx.replace(':', ' ').replace('-', ' ').replace('_', ' ').replace('$', ' ').strip()\n",
    "        tokens = idx.split()\n",
    "        tokens = tokens[:3] + tokens[5:7]\n",
    "        for k, d in zip(keys, tokens):\n",
    "            if d.isdigit():\n",
    "                d = int(d)\n",
    "            chrom_info[k].append(d)\n",
    "\n",
    "    for k in keys:\n",
    "        train[k] = chrom_info[k]\n",
    "    train = train.sort_values(by=keys)\n",
    "    train = train.drop(keys, axis=1)\n",
    "    \n",
    "    tasks = []\n",
    "    cv = StratifiedKFold(n_splits = 5, random_state = 0, shuffle=to_shuffle)\n",
    "    cv = cv.split(train.loc[:, columns], train['label'])\n",
    "\n",
    "\n",
    "\n",
    "    for train_idx, test_idx in cv:\n",
    "        tasks.append(delayed(train_an_jeme)(train.ix[train_idx, columns], train.ix[train_idx, 'label'],\n",
    "                                        train.ix[test_idx, columns], train.ix[test_idx, 'label']))\n",
    "    \n",
    "    with Parallel(n_jobs=20) as parallel:\n",
    "        scores = parallel(tasks)\n",
    "    auprcs = [x[0] for x in scores]\n",
    "    aurocs = [x[1] for x in scores]\n",
    "    f1s = [x[2] for x in scores]\n",
    "\n",
    "    print(\"\\nCV\")\n",
    "    print(np.mean(auprcs), np.mean(aurocs), np.mean(f1s))\n",
    "    print(np.std(auprcs), np.std(aurocs), np.std(f1s))\n",
    "    print('dummy:', np.sum(train['label'])/train.shape[0])\n"
   ]
  },
  {
   "cell_type": "code",
   "execution_count": 20,
   "metadata": {
    "collapsed": true
   },
   "outputs": [],
   "source": [
    "def train_jeme_intra(columns):\n",
    "    train = pd.read_csv('./JEME/K562/signal4Lasso.csv').set_index('id')\n",
    "    train['dis'] = np.log10(train['dis'])\n",
    "\n",
    "    #test_chroms = ['chr4:', 'chr7:', 'chr8:', 'chr11:']\n",
    "    \n",
    "    \n",
    "    \n",
    "    total_pos = np.sum(train['label'])\n",
    "    total_neg = np.sum(train['label']==0)\n",
    "    all_chrom_counts = {}\n",
    "    print('counting')\n",
    "    for i in train.index:\n",
    "        curr_chrom = i.split(':')[0]+':'\n",
    "    \n",
    "        if curr_chrom not in all_chrom_counts:\n",
    "            all_chrom_counts[curr_chrom] = [0,0]\n",
    "        if train.loc[i, 'label'] == 0:\n",
    "            all_chrom_counts[curr_chrom][1] += 1\n",
    "        else:\n",
    "            all_chrom_counts[curr_chrom][0] += 1\n",
    "    all_chroms = list(all_chrom_counts.keys())\n",
    "    test_chrom_combs = []\n",
    "    depth = 1\n",
    "    print('starting')\n",
    "    while len(test_chrom_combs) < 100 and depth <= 6:\n",
    "        for temp_chroms in combinations(all_chroms, depth):\n",
    "            if (0.1 <= np.sum([all_chrom_counts[c][0] for c in temp_chroms]) / total_pos <= 0.12 and  \n",
    "               abs(np.sum([all_chrom_counts[c][0] for c in temp_chroms])  / total_pos\n",
    "                   - np.sum([all_chrom_counts[c][1] for c in temp_chroms]) / total_neg) < 0.005):\n",
    "                test_chrom_combs.append(temp_chroms)\n",
    "\n",
    "        depth += 1\n",
    "        print(depth)\n",
    "    np.random.seed(0)\n",
    "    select_idx = np.random.choice(range(len(test_chrom_combs)), size=5)\n",
    "    print(len(test_chrom_combs), [test_chrom_combs[i] for i in select_idx])\n",
    "    tasks = []\n",
    "    dummy_avg = []\n",
    "    for idx in select_idx:\n",
    "        test_chroms = test_chrom_combs[idx]\n",
    "        test_data = train.loc[[i for i in train.index if (i.split(':')[0]+':') in test_chroms], columns]\n",
    "        test_labels = train['label'][test_data.index]\n",
    "\n",
    "        train_data = train.loc[[i for i in train.index if (i.split(':')[0]+':') not in test_chroms], columns]\n",
    "        train_labels = train['label'][train_data.index]\n",
    "\n",
    "        #print(test_chroms, test_data.shape)\n",
    "        train_data.fillna(0)\n",
    "        test_data.fillna(0)\n",
    "        tasks.append(delayed(train_an_jeme)(train_data, train_labels, test_data, test_labels))\n",
    "        dummy_avg.append(np.sum(test_labels) / len(test_labels))\n",
    "    scores = []\n",
    "    with Parallel(n_jobs=20) as parallel:\n",
    "        scores = parallel(tasks)\n",
    "    auprcs = [x[0] for x in scores]\n",
    "    aurocs = [x[1] for x in scores]\n",
    "    f1s = [x[2] for x in scores]\n",
    "    print(\"\\nIntra\")\n",
    "    print(np.mean(auprcs), np.mean(aurocs), np.mean(f1s))\n",
    "    print(np.std(auprcs), np.std(aurocs), np.std(f1s))\n",
    "    print(\"dummpy\", dummy_avg)"
   ]
  },
  {
   "cell_type": "code",
   "execution_count": 21,
   "metadata": {
    "collapsed": false,
    "scrolled": true
   },
   "outputs": [],
   "source": [
    "def train_jeme(columns):\n",
    "    train = pd.read_csv('./JEME/K562/signal4Lasso.csv').set_index('id')\n",
    "    train['dis'] = np.log10(train['dis'])\n",
    "    test = pd.read_csv('./JEME/GM12878/signal4Lasso.csv').set_index('id')\n",
    "    test['dis'] = np.log10(test['dis'])\n",
    "\n",
    "\n",
    "    train_data = train.loc[:, columns]\n",
    "    train_labels = train['label']\n",
    "\n",
    "    test_data = test.loc[:, columns]\n",
    "    test_labels = test['label']\n",
    "\n",
    "    print(train_data.shape, test_data.shape)\n",
    "    rfc = RandomForestClassifier(**params)\n",
    "    rfc.fit(train_data, train_labels)\n",
    "    probs = rfc.predict_proba(test_data)\n",
    "    preds = rfc.predict(test_data)\n",
    "    print(\"\\nAcross sample\")\n",
    "    print(average_precision_score(test_labels, probs[:,1]), \n",
    "          roc_auc_score(test_labels, probs[:,1]),\n",
    "          f1_score(test_labels, preds))\n",
    "    print(\"dummpy\", np.sum(test_labels) / len(test_labels))\n",
    "    #prcs, recalls, _ = precision_recall_curve(test_labels, probs[:,1])\n",
    "    #plt.plot(recalls, prcs, color='orange')\n",
    "    #plt.axhline(y=np.sum(test_labels) / len(test_labels), color='r')"
   ]
  },
  {
   "cell_type": "code",
   "execution_count": 22,
   "metadata": {
    "collapsed": false
   },
   "outputs": [
    {
     "name": "stdout",
     "output_type": "stream",
     "text": [
      "\n",
      "CV\n",
      "0.556629138916 0.898228234251 0.172922958383\n",
      "0.00781836817449 0.00246093893098 0.0106732722745\n",
      "dummy: 0.1340392449814546\n",
      "\n",
      "CV\n",
      "0.547064375513 0.894474635894 0.17377576016\n",
      "0.0201637973743 0.00712819810188 0.0417502026254\n",
      "dummy: 0.1340392449814546\n",
      "counting\n",
      "starting\n",
      "2\n",
      "3\n",
      "4\n",
      "242 [('chr5:', 'chr22:', 'chr7:'), ('chr15:', 'chr14:', 'chr11:'), ('chrX:', 'chr8:', 'chr12:'), ('chr4:', 'chr9:', 'chr12:'), ('chr16:', 'chr13:', 'chr12:')]\n",
      "\n",
      "Intra\n",
      "0.55020481542 0.89728884061 0.209600372218\n",
      "0.0156496908117 0.00365097083245 0.0153928041651\n",
      "dummpy [0.13641590013140603, 0.1325926994661665, 0.1345074812967581, 0.1363032434544744, 0.12929965912612335]\n",
      "(115123, 17) (8099, 17)\n",
      "\n",
      "Across sample\n",
      "0.446835513212 0.848872626711 0.327586206897\n",
      "dummpy 0.12878133102852204\n"
     ]
    }
   ],
   "source": [
    "columns = ['DNaselasso1seAE', 'H3K27aclasso1seAE','H3K27me3lasso1seAE', \n",
    "           'H3K4me1lasso1seAE', 'DNasesw', 'H3K27acsw',\n",
    "       'H3K27me3sw', 'H3K4me1sw', 'DNasese', 'H3K27acse', 'H3K27me3se',\n",
    "       'H3K4me1se', 'DNasesp', 'H3K27acsp', 'H3K27me3sp', 'H3K4me1sp','dis']\n",
    "params = {'n_estimators':100, 'n_jobs':10, 'max_depth':5}\n",
    "train_jeme_cv(columns, to_shuffle=True)\n",
    "train_jeme_cv(columns, to_shuffle=False)\n",
    "train_jeme_intra(columns)\n",
    "train_jeme(columns)"
   ]
  },
  {
   "cell_type": "code",
   "execution_count": 23,
   "metadata": {
    "collapsed": false
   },
   "outputs": [
    {
     "name": "stdout",
     "output_type": "stream",
     "text": [
      "\n",
      "CV\n",
      "0.620742208565 0.916463950977 0.555492559576\n",
      "0.00991529965225 0.00210884762682 0.0063912317572\n",
      "dummy: 0.1340392449814546\n",
      "\n",
      "CV\n",
      "0.586105326587 0.906386210457 0.535320978231\n",
      "0.0209010645327 0.00814474352943 0.0164026480297\n",
      "dummy: 0.1340392449814546\n",
      "counting\n",
      "starting\n",
      "2\n",
      "3\n",
      "4\n",
      "242 [('chr5:', 'chr22:', 'chr7:'), ('chr15:', 'chr14:', 'chr11:'), ('chrX:', 'chr8:', 'chr12:'), ('chr4:', 'chr9:', 'chr12:'), ('chr16:', 'chr13:', 'chr12:')]\n",
      "\n",
      "Intra\n",
      "0.590421564868 0.908142450343 0.552078670535\n",
      "0.0152042659948 0.00344174834646 0.0157304969501\n",
      "dummpy [0.13641590013140603, 0.1325926994661665, 0.1345074812967581, 0.1363032434544744, 0.12929965912612335]\n",
      "(115123, 17) (8099, 17)\n",
      "\n",
      "Across sample\n",
      "0.443081779252 0.840136326183 0.445247933884\n",
      "dummpy 0.12878133102852204\n"
     ]
    }
   ],
   "source": [
    "columns = ['DNaselasso1seAE', 'H3K27aclasso1seAE','H3K27me3lasso1seAE', \n",
    "           'H3K4me1lasso1seAE', 'DNasesw', 'H3K27acsw',\n",
    "       'H3K27me3sw', 'H3K4me1sw', 'DNasese', 'H3K27acse', 'H3K27me3se',\n",
    "       'H3K4me1se', 'DNasesp', 'H3K27acsp', 'H3K27me3sp', 'H3K4me1sp','dis']\n",
    "params = {'n_estimators':100, 'n_jobs':10, 'max_depth':10}\n",
    "train_jeme_cv(columns, to_shuffle=True)\n",
    "train_jeme_cv(columns, to_shuffle=False)\n",
    "train_jeme_intra(columns)\n",
    "train_jeme(columns)"
   ]
  },
  {
   "cell_type": "code",
   "execution_count": 24,
   "metadata": {
    "collapsed": false
   },
   "outputs": [
    {
     "name": "stdout",
     "output_type": "stream",
     "text": [
      "\n",
      "CV\n",
      "0.696060049459 0.931464959585 0.615731914148\n",
      "0.00702422433259 0.00228954166246 0.00532745248958\n",
      "dummy: 0.1340392449814546\n",
      "\n",
      "CV\n",
      "0.5839324821 0.902562954489 0.538048407772\n",
      "0.0189181082589 0.00867357658047 0.00822254969274\n",
      "dummy: 0.1340392449814546\n",
      "counting\n",
      "starting\n",
      "2\n",
      "3\n",
      "4\n",
      "242 [('chr5:', 'chr22:', 'chr7:'), ('chr15:', 'chr14:', 'chr11:'), ('chrX:', 'chr8:', 'chr12:'), ('chr4:', 'chr9:', 'chr12:'), ('chr16:', 'chr13:', 'chr12:')]\n",
      "\n",
      "Intra\n",
      "0.58799174384 0.903932613092 0.549024735463\n",
      "0.0155299450585 0.0048713461993 0.0118878842903\n",
      "dummpy [0.13641590013140603, 0.1325926994661665, 0.1345074812967581, 0.1363032434544744, 0.12929965912612335]\n",
      "(115123, 17) (8099, 17)\n",
      "\n",
      "Across sample\n",
      "0.413352838378 0.819346202847 0.438925494171\n",
      "dummpy 0.12878133102852204\n"
     ]
    }
   ],
   "source": [
    "columns = ['DNaselasso1seAE', 'H3K27aclasso1seAE','H3K27me3lasso1seAE', \n",
    "           'H3K4me1lasso1seAE', 'DNasesw', 'H3K27acsw',\n",
    "       'H3K27me3sw', 'H3K4me1sw', 'DNasese', 'H3K27acse', 'H3K27me3se',\n",
    "       'H3K4me1se', 'DNasesp', 'H3K27acsp', 'H3K27me3sp', 'H3K4me1sp','dis']\n",
    "params = {'n_estimators':100, 'n_jobs':10}\n",
    "train_jeme_cv(columns, to_shuffle=True)\n",
    "train_jeme_cv(columns, to_shuffle=False)\n",
    "train_jeme_intra(columns)\n",
    "train_jeme(columns)"
   ]
  },
  {
   "cell_type": "code",
   "execution_count": 25,
   "metadata": {
    "collapsed": false
   },
   "outputs": [
    {
     "name": "stdout",
     "output_type": "stream",
     "text": [
      "\n",
      "CV\n",
      "0.549693147303 0.882430100218 0.501133943184\n",
      "0.00593933574941 0.00153444771311 0.0143908170012\n",
      "dummy: 0.1340392449814546\n",
      "\n",
      "CV\n",
      "0.548881478855 0.882017762937 0.507874878869\n",
      "0.0269426716175 0.0172727331208 0.0178290314898\n",
      "dummy: 0.1340392449814546\n",
      "counting\n",
      "starting\n",
      "2\n",
      "3\n",
      "4\n",
      "242 [('chr5:', 'chr22:', 'chr7:'), ('chr15:', 'chr14:', 'chr11:'), ('chrX:', 'chr8:', 'chr12:'), ('chr4:', 'chr9:', 'chr12:'), ('chr16:', 'chr13:', 'chr12:')]\n",
      "\n",
      "Intra\n",
      "0.55659819998 0.88854549493 0.515493174729\n",
      "0.0138726171302 0.00827556848966 0.0134899845559\n",
      "dummpy [0.13641590013140603, 0.1325926994661665, 0.1345074812967581, 0.1363032434544744, 0.12929965912612335]\n",
      "(115123, 1) (8099, 1)\n",
      "\n",
      "Across sample\n",
      "0.468634865729 0.865751565887 0.444922084901\n",
      "dummpy 0.12878133102852204\n"
     ]
    }
   ],
   "source": [
    "columns = ['dis']\n",
    "params = {'n_estimators':100, 'max_depth':5, 'n_jobs':10}\n",
    "train_jeme_cv(columns, to_shuffle=True)\n",
    "train_jeme_cv(columns, to_shuffle=False)\n",
    "train_jeme_intra(columns)\n",
    "train_jeme(columns)"
   ]
  },
  {
   "cell_type": "code",
   "execution_count": 26,
   "metadata": {
    "collapsed": false
   },
   "outputs": [
    {
     "name": "stdout",
     "output_type": "stream",
     "text": [
      "\n",
      "CV\n",
      "0.537783243724 0.881169147228 0.493262083546\n",
      "0.00672541804354 0.00158587359829 0.00985747385065\n",
      "dummy: 0.1340392449814546\n",
      "\n",
      "CV\n",
      "0.537570050371 0.879605678127 0.494153124169\n",
      "0.0255612445923 0.0170248042876 0.0130592641832\n",
      "dummy: 0.1340392449814546\n",
      "counting\n",
      "starting\n",
      "2\n",
      "3\n",
      "4\n",
      "242 [('chr5:', 'chr22:', 'chr7:'), ('chr15:', 'chr14:', 'chr11:'), ('chrX:', 'chr8:', 'chr12:'), ('chr4:', 'chr9:', 'chr12:'), ('chr16:', 'chr13:', 'chr12:')]\n",
      "\n",
      "Intra\n",
      "0.545892238567 0.88635565432 0.503913958233\n",
      "0.0131074033737 0.00763071661178 0.0133133759679\n",
      "dummpy [0.13641590013140603, 0.1325926994661665, 0.1345074812967581, 0.1363032434544744, 0.12929965912612335]\n",
      "(115123, 1) (8099, 1)\n",
      "\n",
      "Across sample\n",
      "0.453474773226 0.861337284195 0.439739413681\n",
      "dummpy 0.12878133102852204\n"
     ]
    }
   ],
   "source": [
    "columns = ['dis']\n",
    "params = {'n_estimators':100, 'max_depth':10, 'n_jobs':10}\n",
    "train_jeme_cv(columns, to_shuffle=True)\n",
    "train_jeme_cv(columns, to_shuffle=False)\n",
    "train_jeme_intra(columns)\n",
    "train_jeme(columns)"
   ]
  },
  {
   "cell_type": "code",
   "execution_count": 27,
   "metadata": {
    "collapsed": false
   },
   "outputs": [
    {
     "name": "stdout",
     "output_type": "stream",
     "text": [
      "\n",
      "CV\n",
      "0.414201150606 0.793033663692 0.399791317372\n",
      "0.00364594879677 0.00276704872472 0.00798712561162\n",
      "dummy: 0.1340392449814546\n",
      "\n",
      "CV\n",
      "0.408445528617 0.790190253684 0.39847583847\n",
      "0.0177427061214 0.0129298718581 0.0161126731553\n",
      "dummy: 0.1340392449814546\n",
      "counting\n",
      "starting\n",
      "2\n",
      "3\n",
      "4\n",
      "242 [('chr5:', 'chr22:', 'chr7:'), ('chr15:', 'chr14:', 'chr11:'), ('chrX:', 'chr8:', 'chr12:'), ('chr4:', 'chr9:', 'chr12:'), ('chr16:', 'chr13:', 'chr12:')]\n",
      "\n",
      "Intra\n",
      "0.410335263282 0.794334089921 0.394292312607\n",
      "0.0127241326343 0.00864333440146 0.0166786444817\n",
      "dummpy [0.13641590013140603, 0.1325926994661665, 0.1345074812967581, 0.1363032434544744, 0.12929965912612335]\n",
      "(115123, 1) (8099, 1)\n",
      "\n",
      "Across sample\n",
      "0.36894147819 0.77868206247 0.3765574527\n",
      "dummpy 0.12878133102852204\n"
     ]
    }
   ],
   "source": [
    "columns = ['dis']\n",
    "params = {'n_estimators':100, 'n_jobs':10}\n",
    "train_jeme_cv(columns, to_shuffle=True)\n",
    "train_jeme_cv(columns, to_shuffle=False)\n",
    "train_jeme_intra(columns)\n",
    "train_jeme(columns)"
   ]
  },
  {
   "cell_type": "code",
   "execution_count": 28,
   "metadata": {
    "collapsed": false
   },
   "outputs": [
    {
     "name": "stdout",
     "output_type": "stream",
     "text": [
      "\n",
      "CV\n",
      "0.332545074626 0.753869405292 0.0218925746481\n",
      "0.00719589702701 0.00739077364922 0.00167924420347\n",
      "dummy: 0.1340392449814546\n",
      "\n",
      "CV\n",
      "0.318712686045 0.743644315709 0.0242969584125\n",
      "0.0211647758888 0.0118185069737 0.0285731859221\n",
      "dummy: 0.1340392449814546\n",
      "counting\n",
      "starting\n",
      "2\n",
      "3\n",
      "4\n",
      "242 [('chr5:', 'chr22:', 'chr7:'), ('chr15:', 'chr14:', 'chr11:'), ('chrX:', 'chr8:', 'chr12:'), ('chr4:', 'chr9:', 'chr12:'), ('chr16:', 'chr13:', 'chr12:')]\n",
      "\n",
      "Intra\n",
      "0.326284776392 0.754082544121 0.0225378860061\n",
      "0.0261401499247 0.012503806388 0.0133538926311\n",
      "dummpy [0.13641590013140603, 0.1325926994661665, 0.1345074812967581, 0.1363032434544744, 0.12929965912612335]\n",
      "(115123, 16) (8099, 16)\n",
      "\n",
      "Across sample\n",
      "0.216546165227 0.648589533289 0.0675324675325\n",
      "dummpy 0.12878133102852204\n"
     ]
    }
   ],
   "source": [
    "columns = ['DNaselasso1seAE', 'H3K27aclasso1seAE','H3K27me3lasso1seAE', \n",
    "           'H3K4me1lasso1seAE', 'DNasesw', 'H3K27acsw',\n",
    "       'H3K27me3sw', 'H3K4me1sw', 'DNasese', 'H3K27acse', 'H3K27me3se',\n",
    "       'H3K4me1se', 'DNasesp', 'H3K27acsp', 'H3K27me3sp', 'H3K4me1sp']\n",
    "params = {'n_estimators':100, 'n_jobs':10, 'max_depth':5}\n",
    "train_jeme_cv(columns, to_shuffle=True)\n",
    "train_jeme_cv(columns, to_shuffle=False)\n",
    "train_jeme_intra(columns)\n",
    "train_jeme(columns)"
   ]
  },
  {
   "cell_type": "code",
   "execution_count": 29,
   "metadata": {
    "collapsed": false
   },
   "outputs": [
    {
     "name": "stdout",
     "output_type": "stream",
     "text": [
      "\n",
      "CV\n",
      "0.38788548296 0.784825244336 0.123903813097\n",
      "0.0109098616643 0.00692437302512 0.00318231998464\n",
      "dummy: 0.1340392449814546\n",
      "\n",
      "CV\n",
      "0.334511199152 0.756760463443 0.108923152129\n",
      "0.0191536634369 0.0105288602507 0.0364143534673\n",
      "dummy: 0.1340392449814546\n",
      "counting\n",
      "starting\n",
      "2\n",
      "3\n",
      "4\n",
      "242 [('chr5:', 'chr22:', 'chr7:'), ('chr15:', 'chr14:', 'chr11:'), ('chrX:', 'chr8:', 'chr12:'), ('chr4:', 'chr9:', 'chr12:'), ('chr16:', 'chr13:', 'chr12:')]\n",
      "\n",
      "Intra\n",
      "0.343030029898 0.76721459912 0.113491288631\n",
      "0.0254024290655 0.0135749695767 0.0242347589984\n",
      "dummpy [0.13641590013140603, 0.1325926994661665, 0.1345074812967581, 0.1363032434544744, 0.12929965912612335]\n",
      "(115123, 16) (8099, 16)\n",
      "\n",
      "Across sample\n",
      "0.204307235161 0.636295473766 0.232841891205\n",
      "dummpy 0.12878133102852204\n"
     ]
    }
   ],
   "source": [
    "columns = ['DNaselasso1seAE', 'H3K27aclasso1seAE','H3K27me3lasso1seAE', \n",
    "           'H3K4me1lasso1seAE', 'DNasesw', 'H3K27acsw',\n",
    "       'H3K27me3sw', 'H3K4me1sw', 'DNasese', 'H3K27acse', 'H3K27me3se',\n",
    "       'H3K4me1se', 'DNasesp', 'H3K27acsp', 'H3K27me3sp', 'H3K4me1sp']\n",
    "params = {'n_estimators':100, 'n_jobs':10, 'max_depth':10}\n",
    "train_jeme_cv(columns, to_shuffle=True)\n",
    "train_jeme_cv(columns, to_shuffle=False)\n",
    "train_jeme_intra(columns)\n",
    "train_jeme(columns)"
   ]
  },
  {
   "cell_type": "code",
   "execution_count": 30,
   "metadata": {
    "collapsed": false
   },
   "outputs": [
    {
     "name": "stdout",
     "output_type": "stream",
     "text": [
      "\n",
      "CV\n",
      "0.521826241438 0.846135125538 0.277341815906\n",
      "0.0121137952467 0.00444985483334 0.00632519701027\n",
      "dummy: 0.1340392449814546\n",
      "\n",
      "CV\n",
      "0.320833567264 0.745087773375 0.157073567855\n",
      "0.0129071504813 0.00779492185654 0.0287577886862\n",
      "dummy: 0.1340392449814546\n",
      "counting\n",
      "starting\n",
      "2\n",
      "3\n",
      "4\n",
      "242 [('chr5:', 'chr22:', 'chr7:'), ('chr15:', 'chr14:', 'chr11:'), ('chrX:', 'chr8:', 'chr12:'), ('chr4:', 'chr9:', 'chr12:'), ('chr16:', 'chr13:', 'chr12:')]\n",
      "\n",
      "Intra\n",
      "0.337419234372 0.757018293853 0.172378968143\n",
      "0.0198061462801 0.00969109847604 0.0150933871285\n",
      "dummpy [0.13641590013140603, 0.1325926994661665, 0.1345074812967581, 0.1363032434544744, 0.12929965912612335]\n",
      "(115123, 16) (8099, 16)\n",
      "\n",
      "Across sample\n",
      "0.185895726531 0.622617879047 0.244668911336\n",
      "dummpy 0.12878133102852204\n"
     ]
    }
   ],
   "source": [
    "columns = ['DNaselasso1seAE', 'H3K27aclasso1seAE','H3K27me3lasso1seAE', \n",
    "           'H3K4me1lasso1seAE', 'DNasesw', 'H3K27acsw',\n",
    "       'H3K27me3sw', 'H3K4me1sw', 'DNasese', 'H3K27acse', 'H3K27me3se',\n",
    "       'H3K4me1se', 'DNasesp', 'H3K27acsp', 'H3K27me3sp', 'H3K4me1sp']\n",
    "params = {'n_estimators':100, 'n_jobs':10}\n",
    "train_jeme_cv(columns, to_shuffle=True)\n",
    "train_jeme_cv(columns, to_shuffle=False)\n",
    "train_jeme_intra(columns)\n",
    "train_jeme(columns)"
   ]
  },
  {
   "cell_type": "code",
   "execution_count": null,
   "metadata": {
    "collapsed": false
   },
   "outputs": [],
   "source": []
  },
  {
   "cell_type": "code",
   "execution_count": null,
   "metadata": {
    "collapsed": false
   },
   "outputs": [],
   "source": []
  },
  {
   "cell_type": "code",
   "execution_count": 46,
   "metadata": {
    "collapsed": false
   },
   "outputs": [
    {
     "data": {
      "text/plain": [
       "[<matplotlib.lines.Line2D at 0x7f5b3719ed68>]"
      ]
     },
     "execution_count": 46,
     "metadata": {},
     "output_type": "execute_result"
    },
    {
     "data": {
      "image/png": "[encoded data removed]",
      "text/plain": [
       "<matplotlib.figure.Figure at 0x7f5b24c0c358>"
      ]
     },
     "metadata": {},
     "output_type": "display_data"
    }
   ],
   "source": [
    "import matplotlib.pyplot as plt\n",
    "fig = plt.figure()\n",
    "train = pd.read_csv('./JEME/K562/signal4Lasso.csv').set_index('id')\n",
    "y1, edges = np.histogram(train['dis'][train['label']>0], bins=50, range=(0,1000000), normed=False)\n",
    "y2, edges = np.histogram(train['dis'][train['label']<=0], bins=50, range=(0,1000000), normed=False)\n",
    "centers = (edges[1:] + edges[:-1])*0.5\n",
    "plt.plot(centers, y1, color='r')\n",
    "plt.plot(centers, y2, color='b')"
   ]
  },
  {
   "cell_type": "code",
   "execution_count": 5,
   "metadata": {
    "collapsed": false
   },
   "outputs": [
    {
     "name": "stdout",
     "output_type": "stream",
     "text": [
      "(114946, 423)\n",
      "[       0.    20000.    40000.    60000.    80000.   100000.   120000.\n",
      "   140000.   160000.   180000.   200000.   220000.   240000.   260000.\n",
      "   280000.   300000.   320000.   340000.   360000.   380000.   400000.\n",
      "   420000.   440000.   460000.   480000.   500000.   520000.   540000.\n",
      "   560000.   580000.   600000.   620000.   640000.   660000.   680000.\n",
      "   700000.   720000.   740000.   760000.   780000.   800000.   820000.\n",
      "   840000.   860000.   880000.   900000.   920000.   940000.   960000.\n",
      "   980000.  1000000.] [3780 2249 1748 1310 1062  778  647  588  421  354  271  281  213  187  167\n",
      "  149  115  106   82   75   63   52   46   48   45   43   44   23   35   29\n",
      "   21   31   37   34   24   37   12   30   13    9   16   19    9   14   17\n",
      "   21    8   14   10   12] [3236 1700 1847 2061 2221 2097 2261 2200 2156 2227 2222 2195 2101 2165 2181\n",
      " 2161 2103 2090 1990 1987 1960 1934 2054 1912 1912 1920 1921 1971 2006 1935\n",
      " 1844 1903 1956 1895 1940 1862 1842 1777 1864 1842 1783 1806 1802 1924 1801\n",
      " 1744 1789 1847 1879 1721]\n"
     ]
    },
    {
     "data": {
      "image/png": "[encoded data removed]",
      "text/plain": [
       "<matplotlib.figure.Figure at 0x7ffc66ad6ef0>"
      ]
     },
     "metadata": {},
     "output_type": "display_data"
    }
   ],
   "source": [
    "import matplotlib.pyplot as plt\n",
    "train = pd.read_csv('targetfinder/K562/training.csv').set_index(['enhancer_name', 'promoter_name'])\n",
    "print(train.shape)\n",
    "all_dists = []\n",
    "for w in train.loc[:,'window_name']:\n",
    "    tokens = w.replace(':', '\\t').replace('-',\"\\t\").split()\n",
    "    all_dists.append(int(tokens[2]) - int(tokens[1]))\n",
    "train['dis'] = all_dists\n",
    "y1, edges = np.histogram(train['dis'][train['label']>0], bins=50, range=(0,1000000), normed=False)\n",
    "y2, edges = np.histogram(train['dis'][train['label']<=0], bins=50, range=(0,1000000), normed=False)\n",
    "centers = (edges[1:] + edges[:-1])*0.5\n",
    "plt.plot(centers, y1, color='r')\n",
    "plt.plot(centers, y2, color='b')\n",
    "print(edges, y1, y2)"
   ]
  }
 ],
 "metadata": {
  "anaconda-cloud": {},
  "kernelspec": {
   "display_name": "Python [Root]",
   "language": "python",
   "name": "Python [Root]"
  },
  "language_info": {
   "codemirror_mode": {
    "name": "ipython",
    "version": 3
   },
   "file_extension": ".py",
   "mimetype": "text/x-python",
   "name": "python",
   "nbconvert_exporter": "python",
   "pygments_lexer": "ipython3",
   "version": "3.5.2"
  }
 },
 "nbformat": 4,
 "nbformat_minor": 0
}
